{
 "cells": [
  {
   "cell_type": "markdown",
   "metadata": {},
   "source": [
    "### Variables\n",
    "\n",
    "A memory location that stores values or a data unit whith in a program\n",
    "\n",
    "* this can be accesed and changed during the program run time\n",
    "* value can be called up through a variable name\n",
    "\n",
    "A value can be anything such as number, character, string, float..etc\n",
    "It is created by using Assignment operator\n",
    "\n",
    "**Rules for naming a variable**: called as an identifier\n",
    "\n",
    "* A variable can only begin with (A-Z/a-z) or with an _(underscore)\n",
    "* The rest of the identifier may contain (a-z/A-Z) or with an _ or with the numbers(0-9)\n",
    "* These are case sensitive\n",
    "eg: accepted: spam, eggs, spam23, speed X, X1, X33, AB, _S1 unacceptable: 23spam, #sign, var1.2\n",
    "\n",
    "* reserved keywords cannot be used as variable names as they are already reserved, There are 33 reserved keywords in python"
   ]
  },
  {
   "cell_type": "code",
   "execution_count": 1,
   "metadata": {},
   "outputs": [
    {
     "name": "stdout",
     "output_type": "stream",
     "text": [
      "12.2\n"
     ]
    }
   ],
   "source": [
    "#First variables\n",
    "\n",
    "X = 12.2\n",
    "print(X)"
   ]
  },
  {
   "cell_type": "code",
   "execution_count": 3,
   "metadata": {},
   "outputs": [
    {
     "name": "stdout",
     "output_type": "stream",
     "text": [
      "100\n"
     ]
    }
   ],
   "source": [
    "X = 100\n",
    "print(X)"
   ]
  },
  {
   "cell_type": "code",
   "execution_count": 4,
   "metadata": {},
   "outputs": [
    {
     "name": "stdout",
     "output_type": "stream",
     "text": [
      "['False', 'None', 'True', 'and', 'as', 'assert', 'async', 'await', 'break', 'class', 'continue', 'def', 'del', 'elif', 'else', 'except', 'finally', 'for', 'from', 'global', 'if', 'import', 'in', 'is', 'lambda', 'nonlocal', 'not', 'or', 'pass', 'raise', 'return', 'try', 'while', 'with', 'yield']\n"
     ]
    }
   ],
   "source": [
    "# Keywords in python\n",
    "\n",
    "import keyword\n",
    "print(keyword.kwlist)"
   ]
  },
  {
   "cell_type": "markdown",
   "metadata": {},
   "source": [
    "#### Mnemoic Variable\n",
    "\n",
    "* These are the memory aids \n",
    "* variable name reflect our intent\n",
    "* make sensible variable"
   ]
  },
  {
   "cell_type": "code",
   "execution_count": 5,
   "metadata": {},
   "outputs": [],
   "source": [
    "x121412dqsad = 12.0\n",
    "x21rafasfasd = 30.5\n",
    "# not sensible variable names"
   ]
  },
  {
   "cell_type": "code",
   "execution_count": 6,
   "metadata": {},
   "outputs": [
    {
     "name": "stdout",
     "output_type": "stream",
     "text": [
      "437.5\n"
     ]
    }
   ],
   "source": [
    "a = 35.0\n",
    "b = 12.5\n",
    "c = a*b\n",
    "print(c)\n",
    "# better but doesn't show intent"
   ]
  },
  {
   "cell_type": "code",
   "execution_count": 8,
   "metadata": {},
   "outputs": [
    {
     "name": "stdout",
     "output_type": "stream",
     "text": [
      "437.5\n"
     ]
    }
   ],
   "source": [
    "hrs = 35.0\n",
    "rate = 12.50\n",
    "pay = hrs * rate\n",
    "print(pay)\n",
    "# Clearly show understancing of these variable"
   ]
  },
  {
   "cell_type": "markdown",
   "metadata": {},
   "source": [
    "**Constant**\n",
    "\n",
    "Constant is a types of variable whose value cannot be changed\n",
    "\n",
    "* python doesn't have built in constant types, but by convention, the variable name with all capital letters used to define a constant.\n",
    "\n",
    "eg. FILE_SIZE_LIMIT = 2000, PI = 3.14"
   ]
  },
  {
   "cell_type": "markdown",
   "metadata": {},
   "source": [
    "**Variable Data Types** Based on the data type of the variable, python allocates memory and decides what can be stored\n",
    "\n",
    "1. NUMERIC:\n",
    "* Int X = 10\n",
    "* float X = 10.5\n",
    "* complex X = 10+0j\n",
    "2. SEQUENCE:\n",
    "strings x = \"hi my name is\" or x = 'hi my name is'\n",
    "* List\n",
    "* Tuple\n",
    "3. Others:\n",
    "* Boolean\n",
    "* set\n",
    "* Dictionaries"
   ]
  },
  {
   "cell_type": "markdown",
   "metadata": {},
   "source": [
    "Strongly typed: the variables do have a type and that matters while doing the operations on variables\n",
    "\n",
    "dynamically typed: type is determined only during run time\n",
    "here some of the operations are prohibited for performing for example, performing \n",
    "\n",
    "addition on int and string datatypes\n"
   ]
  },
  {
   "cell_type": "code",
   "execution_count": 1,
   "metadata": {},
   "outputs": [],
   "source": [
    "a = 17\n",
    "b = \"hello\"\n",
    "# c = a+b"
   ]
  },
  {
   "cell_type": "code",
   "execution_count": 2,
   "metadata": {},
   "outputs": [
    {
     "data": {
      "text/plain": [
       "str"
      ]
     },
     "execution_count": 2,
     "metadata": {},
     "output_type": "execute_result"
    }
   ],
   "source": [
    "a = \"hey\"\n",
    "type(a)"
   ]
  },
  {
   "cell_type": "code",
   "execution_count": 3,
   "metadata": {},
   "outputs": [
    {
     "data": {
      "text/plain": [
       "float"
      ]
     },
     "execution_count": 3,
     "metadata": {},
     "output_type": "execute_result"
    }
   ],
   "source": [
    "type(17.2)"
   ]
  },
  {
   "cell_type": "code",
   "execution_count": 4,
   "metadata": {},
   "outputs": [
    {
     "data": {
      "text/plain": [
       "str"
      ]
     },
     "execution_count": 4,
     "metadata": {},
     "output_type": "execute_result"
    }
   ],
   "source": [
    "type('17.1')"
   ]
  },
  {
   "cell_type": "markdown",
   "metadata": {},
   "source": [
    "**Statements :** these are unit of code python interpretor\n",
    "a = 2 Assignment statement\n",
    "\n",
    "a = a+2 assignment with expression\n",
    "\n",
    "print(a) print statement\n",
    "\n",
    "There are two types of statements in python:\n",
    "\n",
    "* Single line statement - Assign a value to a variable\n",
    "\n",
    "* Multi line statement - A statement may span over several lines - Preferred style to handle multi-line expressions is to break a long statement over multiple lines, wrap the expression inside parentheses, braces, & brackets - Another way to wrap multiple lines is by using a backslash () at the end of every line to indicate line continuation"
   ]
  },
  {
   "cell_type": "markdown",
   "metadata": {},
   "source": [
    "#### Expressions\n",
    "\n",
    "These are the combination of values, varibles and operators.\n",
    "* it may consist of one or more operands and 0 or more operators to produce a value\n",
    "* operators are +,-,*,%...etc\n",
    "\n",
    "order of operators(precedence): should know which operatior should perform first\n",
    "\n",
    "* python follows PEMDAS rule i.e., paranthisis,exponential,multiplication,division,reminder,addition and subtraction and performs Left to right"
   ]
  },
  {
   "cell_type": "code",
   "execution_count": 2,
   "metadata": {},
   "outputs": [],
   "source": [
    "# final = a+5"
   ]
  },
  {
   "cell_type": "code",
   "execution_count": 6,
   "metadata": {},
   "outputs": [
    {
     "name": "stdout",
     "output_type": "stream",
     "text": [
      "15\n",
      "-5\n",
      "50\n",
      "0.5\n",
      "0\n",
      "5\n",
      "9765625\n"
     ]
    }
   ],
   "source": [
    "#Arithmetic expression\n",
    "\n",
    "a = 5\n",
    "b = 10\n",
    "x1 = a+b\n",
    "x2 = a-b\n",
    "x3 = a*b\n",
    "x4 = a/b #floating division\n",
    "x5 = a//b #truncating division\n",
    "x6 = a%b #modulo\n",
    "x7 = a**b #exponential\n",
    "\n",
    "print(x1)\n",
    "print(x2)\n",
    "print(x3)\n",
    "print(x4)\n",
    "print(x5)\n",
    "print(x6)\n",
    "print(x7)\n",
    "\n"
   ]
  },
  {
   "cell_type": "code",
   "execution_count": 7,
   "metadata": {},
   "outputs": [],
   "source": [
    "x = 1 + (((2**3)/4)*5)"
   ]
  },
  {
   "cell_type": "code",
   "execution_count": 8,
   "metadata": {},
   "outputs": [
    {
     "name": "stdout",
     "output_type": "stream",
     "text": [
      "11.0\n"
     ]
    }
   ],
   "source": [
    "print(x)"
   ]
  },
  {
   "cell_type": "markdown",
   "metadata": {},
   "source": [
    "#### Type conversion\n",
    "we have two types of type conversions\n",
    "\n",
    "1. explicit type conversion: which can be done manuall, supports various built in type conversion funtions such as int(), float(), str()...etc syntax: required_datatype(expression)\n",
    "\n",
    "2. Implicit type conversion: here python interpreter automatically convertes during the run time\n",
    "\n",
    "* converts smallerr data type to longer data type to avoid losses\n",
    "eg: addition of a integer and float value results in float value\n",
    "\n",
    "* it has problem with all the conversions because it does not suport all the data types, for example addition of str and integer or float, it throws error as it is not a numeric"
   ]
  },
  {
   "cell_type": "code",
   "execution_count": 9,
   "metadata": {},
   "outputs": [],
   "source": [
    "x = '30'\n",
    "y = '8'\n",
    "q = float(x)*float(y)"
   ]
  },
  {
   "cell_type": "code",
   "execution_count": 10,
   "metadata": {},
   "outputs": [
    {
     "name": "stdout",
     "output_type": "stream",
     "text": [
      "240.0\n"
     ]
    }
   ],
   "source": [
    "print(q)"
   ]
  },
  {
   "cell_type": "code",
   "execution_count": 11,
   "metadata": {},
   "outputs": [
    {
     "name": "stdout",
     "output_type": "stream",
     "text": [
      "124.23\n"
     ]
    },
    {
     "data": {
      "text/plain": [
       "float"
      ]
     },
     "execution_count": 11,
     "metadata": {},
     "output_type": "execute_result"
    }
   ],
   "source": [
    "x = 123\n",
    "y = 1.23\n",
    "z = x+y\n",
    "print(z)\n",
    "type(z)"
   ]
  },
  {
   "cell_type": "code",
   "execution_count": 3,
   "metadata": {},
   "outputs": [],
   "source": [
    "x = 123\n",
    "y = '456'\n",
    "# z = x+y\n",
    "# print(z)"
   ]
  },
  {
   "cell_type": "markdown",
   "metadata": {},
   "source": [
    "**USER INPUTS**  python allows user to take input\n",
    "using input() function,\n",
    "converting user input: if we want to convert the string to number from the input we need to use type conversion function, as all the inputs are strings"
   ]
  },
  {
   "cell_type": "code",
   "execution_count": 2,
   "metadata": {},
   "outputs": [
    {
     "name": "stdout",
     "output_type": "stream",
     "text": [
      "Nishant\n"
     ]
    }
   ],
   "source": [
    "name = input(\"who are you\")\n",
    "print(name)"
   ]
  },
  {
   "cell_type": "code",
   "execution_count": 3,
   "metadata": {},
   "outputs": [
    {
     "name": "stdout",
     "output_type": "stream",
     "text": [
      "880.0\n"
     ]
    },
    {
     "data": {
      "text/plain": [
       "float"
      ]
     },
     "execution_count": 3,
     "metadata": {},
     "output_type": "execute_result"
    }
   ],
   "source": [
    "#convertin user i/p\n",
    "\n",
    "x = float(input(\"Enter number\")) # it takes input as string and converts to int\n",
    "y = x+1\n",
    "print(y)\n",
    "type(y)"
   ]
  },
  {
   "cell_type": "markdown",
   "metadata": {},
   "source": [
    "**Comments in python** These are used to explain the code in python and it can be anything.\n",
    "\n",
    "* these are represented by # for single line comments, and ''' ''' for multiple line comments\n",
    "* the matter written after # and in between ''' ''' are ignored by the interpreter."
   ]
  },
  {
   "cell_type": "markdown",
   "metadata": {},
   "source": []
  }
 ],
 "metadata": {
  "kernelspec": {
   "display_name": ".venv",
   "language": "python",
   "name": "python3"
  },
  "language_info": {
   "codemirror_mode": {
    "name": "ipython",
    "version": 3
   },
   "file_extension": ".py",
   "mimetype": "text/x-python",
   "name": "python",
   "nbconvert_exporter": "python",
   "pygments_lexer": "ipython3",
   "version": "3.8.10"
  }
 },
 "nbformat": 4,
 "nbformat_minor": 2
}
