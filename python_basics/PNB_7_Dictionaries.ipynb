{
 "cells": [
  {
   "cell_type": "markdown",
   "metadata": {
    "id": "xT7BS95x1w-9"
   },
   "source": [
    "## Practice Notebook"
   ]
  },
  {
   "cell_type": "markdown",
   "metadata": {
    "id": "22fQfO2n3R4Z"
   },
   "source": [
    "Dictionary is a composite datatype in the Python programming language. In a way, it is similar to lists. Lists are a collection of elements. Dictionaries are a collection of key, value pairs. Solutions to many programming problems can be easy and more concise with dictionaries. Here we explain all the important methods in the dictionary and some problem-solving with examples.\n",
    "\n",
    "Click [here](https://docs.python.org/3/library/stdtypes.html#mapping-types-dict) to go through official documentation on `dictionaries`."
   ]
  },
  {
   "cell_type": "markdown",
   "metadata": {
    "id": "J093ur414qXD"
   },
   "source": [
    "#### Exercise 1: \n",
    "From The dictionary created below, do the following:\n",
    "\n",
    "* Return a list of all the keys, using `list()` or `.keys()`.\n",
    "\n",
    "* Return the values of the dictionary using `.values()`.\n",
    "\n"
   ]
  },
  {
   "cell_type": "code",
   "execution_count": 1,
   "metadata": {
    "id": "2YqKC6m61rqZ"
   },
   "outputs": [],
   "source": [
    "dict1 = {\"Delhi\" : \"New Delhi\", \"Uttar Pradesh\" : \"Lucknow\",\"Madhya Pradesh\" : \"Bhopal\",\"Karnataka\" : \"Bengaluru\",\"Assam\" : \"Dispur\",\"Gujarat\" : \"Gandhinagar\"}"
   ]
  },
  {
   "cell_type": "code",
   "execution_count": 2,
   "metadata": {
    "id": "x9NwmHSE9tXz"
   },
   "outputs": [
    {
     "name": "stdout",
     "output_type": "stream",
     "text": [
      "dict_keys(['Delhi', 'Uttar Pradesh', 'Madhya Pradesh', 'Karnataka', 'Assam', 'Gujarat'])\n"
     ]
    }
   ],
   "source": [
    "# YOUR CODE HERE\n",
    "print(dict1.keys())"
   ]
  },
  {
   "cell_type": "code",
   "execution_count": 3,
   "metadata": {
    "id": "K6JM6mps9zGR"
   },
   "outputs": [
    {
     "name": "stdout",
     "output_type": "stream",
     "text": [
      "dict_values(['New Delhi', 'Lucknow', 'Bhopal', 'Bengaluru', 'Dispur', 'Gandhinagar'])\n"
     ]
    }
   ],
   "source": [
    "# YOUR CODE HERE\n",
    "print(dict1.values())"
   ]
  },
  {
   "cell_type": "markdown",
   "metadata": {
    "id": "-g9lEVYr7QNt"
   },
   "source": [
    "#### Exercise 2: \n",
    "From the dictionary created in Exercise 1-\n",
    "\n",
    "* Display the capital of Karnataka by retrieving the corresponding value for the key."
   ]
  },
  {
   "cell_type": "code",
   "execution_count": 4,
   "metadata": {
    "id": "7ZCZO0ms7ILp"
   },
   "outputs": [
    {
     "name": "stdout",
     "output_type": "stream",
     "text": [
      "Bengaluru\n"
     ]
    }
   ],
   "source": [
    "# YOUR CODE HERE\n",
    "print(dict1['Karnataka'])"
   ]
  },
  {
   "cell_type": "markdown",
   "metadata": {
    "id": "HUJg6Y_w8K1c"
   },
   "source": [
    "#### Exercise 3:\n",
    "\n",
    "Add (and print) a new element in the dictionary."
   ]
  },
  {
   "cell_type": "code",
   "execution_count": 7,
   "metadata": {
    "id": "kDeZ642qgy8_"
   },
   "outputs": [
    {
     "name": "stdout",
     "output_type": "stream",
     "text": [
      "Dehradun\n"
     ]
    }
   ],
   "source": [
    "# YOUR CODE HERE\n",
    "dict1['Uttarkhand'] = 'Dehradun'\n",
    "print(dict1['Uttarkhand'])"
   ]
  },
  {
   "cell_type": "markdown",
   "metadata": {
    "id": "7lf9Hxs9CFFc"
   },
   "source": [
    "#### Exercise 4:\n",
    "\n",
    "- Return the length of the dictionary using `len()`.\n"
   ]
  },
  {
   "cell_type": "code",
   "execution_count": 8,
   "metadata": {
    "id": "duut09pZB9F9"
   },
   "outputs": [
    {
     "name": "stdout",
     "output_type": "stream",
     "text": [
      "7\n"
     ]
    }
   ],
   "source": [
    "# YOUR CODE HERE\n",
    "print(len(dict1))"
   ]
  },
  {
   "cell_type": "markdown",
   "metadata": {
    "id": "P-r0gerfEFyi"
   },
   "source": [
    "#### Exercise 5:\n",
    "\n",
    "* Remove a key value pair from the dictionary.\n",
    "* Add the same key value pair again in the `dictionary`.\n",
    "* Display all the key-value pairs using `items()`."
   ]
  },
  {
   "cell_type": "code",
   "execution_count": 11,
   "metadata": {
    "id": "5JdipHYYIrzG"
   },
   "outputs": [
    {
     "name": "stdout",
     "output_type": "stream",
     "text": [
      "{'Delhi': 'New Delhi', 'Uttar Pradesh': 'Lucknow', 'Madhya Pradesh': 'Bhopal', 'Karnataka': 'Bengaluru', 'Assam': 'Dispur', 'Gujarat': 'Gandhinagar'}\n",
      "{'Uttar Pradesh': 'Lucknow', 'Madhya Pradesh': 'Bhopal', 'Karnataka': 'Bengaluru', 'Assam': 'Dispur', 'Gujarat': 'Gandhinagar'}\n",
      "{'Uttar Pradesh': 'Lucknow', 'Madhya Pradesh': 'Bhopal', 'Karnataka': 'Bengaluru', 'Assam': 'Dispur', 'Gujarat': 'Gandhinagar', 'Uttarkhand': 'Dehradun'}\n"
     ]
    }
   ],
   "source": [
    "# YOUR CODE HERE\n",
    "print(dict1)\n",
    "dict1.pop('Delhi')\n",
    "print(dict1)\n",
    "dict1['Uttarkhand'] = 'Dehradun'\n",
    "print(dict1)"
   ]
  },
  {
   "cell_type": "code",
   "execution_count": 14,
   "metadata": {
    "id": "Z1rzWNkkEe1U"
   },
   "outputs": [
    {
     "name": "stdout",
     "output_type": "stream",
     "text": [
      "dict_items([('Uttar Pradesh', 'Lucknow'), ('Madhya Pradesh', 'Bhopal'), ('Karnataka', 'Bengaluru'), ('Assam', 'Dispur'), ('Gujarat', 'Gandhinagar'), ('Uttarkhand', 'Dehradun')])\n"
     ]
    }
   ],
   "source": [
    "# YOUR CODE HERE\n",
    "print(dict1.items())"
   ]
  },
  {
   "cell_type": "code",
   "execution_count": null,
   "metadata": {
    "id": "jtQVrlnzDI5Z"
   },
   "outputs": [],
   "source": [
    "# YOUR CODE HERE"
   ]
  },
  {
   "cell_type": "code",
   "execution_count": null,
   "metadata": {
    "id": "VM6oA8j6DaVF"
   },
   "outputs": [],
   "source": [
    "# YOUR CODE HERE"
   ]
  },
  {
   "cell_type": "code",
   "execution_count": null,
   "metadata": {
    "id": "r33SZ8yyFE69"
   },
   "outputs": [],
   "source": [
    "# YOUR CODE HERE"
   ]
  },
  {
   "cell_type": "code",
   "execution_count": null,
   "metadata": {
    "id": "60BUPAdHFSSj"
   },
   "outputs": [],
   "source": [
    "# YOUR CODE HERE"
   ]
  },
  {
   "cell_type": "markdown",
   "metadata": {
    "id": "O9LfCd_kL00L"
   },
   "source": [
    "#### Exercise 6:\n",
    "\n",
    "Iterate over the keys of the dictionary using `for` and `.keys()` and print all the state capitals."
   ]
  },
  {
   "cell_type": "code",
   "execution_count": null,
   "metadata": {
    "id": "_jmS3h7qLq8I"
   },
   "outputs": [],
   "source": [
    "# YOUR CODE HERE"
   ]
  },
  {
   "cell_type": "markdown",
   "metadata": {
    "id": "qvVSS8PSjDBT"
   },
   "source": [
    "#### Exercise 7:\n",
    "\n",
    "* Initialize an empty dictionary ‘sen_map’.\n",
    "* Make the sentences all lower case.\n",
    "* Iterate over each word in the sentences.\n",
    "* Check if a word exists in the sen_map.\n",
    "* If not then add the word with a value of 1.\n",
    "* Otherwise, update the value of that word by 1."
   ]
  },
  {
   "cell_type": "code",
   "execution_count": null,
   "metadata": {
    "id": "NRHRUlggk4vs"
   },
   "outputs": [],
   "source": [
    "sents = \"TalentSprint is a digital platform designed to transform the lives of professionals in the new economy. Its blended bootcamps offer deeptech skills.\""
   ]
  },
  {
   "cell_type": "code",
   "execution_count": null,
   "metadata": {
    "id": "54llyHu8jNHC"
   },
   "outputs": [],
   "source": [
    "# YOUR CODE HERE"
   ]
  },
  {
   "cell_type": "markdown",
   "metadata": {
    "id": "T-D_DCUcPcqJ"
   },
   "source": [
    "#### Exercies 8:\n",
    "\n",
    "* Initialize an empty dictionary ‘counts’.\n",
    "* Define the following list names = ['Jack', 'John', 'Jill', 'John'].\n",
    "* Print the frequency count of elements in a list using a dictionary.\n",
    "* Using get method print the value of john.\n",
    "* Print a list of tuples containing the key-value pairs in ‘counts’.\n",
    "\n"
   ]
  },
  {
   "cell_type": "code",
   "execution_count": null,
   "metadata": {
    "id": "JAByE5_rPZmr"
   },
   "outputs": [],
   "source": [
    "# YOUR CODE HERE"
   ]
  },
  {
   "cell_type": "code",
   "execution_count": null,
   "metadata": {
    "id": "RghSmebepmLS"
   },
   "outputs": [],
   "source": [
    "# YOUR CODE HERE # The Python dictionary .get() method provides a convenient way of getting the value of a key from a dictionary"
   ]
  },
  {
   "cell_type": "code",
   "execution_count": null,
   "metadata": {
    "id": "iOBm5ICRmnNT"
   },
   "outputs": [],
   "source": [
    "# YOUR CODE HERE"
   ]
  }
 ],
 "metadata": {
  "colab": {
   "provenance": []
  },
  "kernelspec": {
   "display_name": ".venv",
   "language": "python",
   "name": "python3"
  },
  "language_info": {
   "codemirror_mode": {
    "name": "ipython",
    "version": 3
   },
   "file_extension": ".py",
   "mimetype": "text/x-python",
   "name": "python",
   "nbconvert_exporter": "python",
   "pygments_lexer": "ipython3",
   "version": "3.8.10"
  }
 },
 "nbformat": 4,
 "nbformat_minor": 0
}
