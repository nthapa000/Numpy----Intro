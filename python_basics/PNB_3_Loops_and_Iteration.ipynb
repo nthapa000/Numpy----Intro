{
 "cells": [
  {
   "cell_type": "markdown",
   "metadata": {
    "id": "xpw5QCyiSraB"
   },
   "source": [
    "## Practice Notebook"
   ]
  },
  {
   "cell_type": "markdown",
   "metadata": {
    "id": "rTjGNDoQDMDY"
   },
   "source": [
    "Exercise 1:  Write a *while* loop to print numbers from 0 to 10"
   ]
  },
  {
   "cell_type": "code",
   "execution_count": 3,
   "metadata": {
    "id": "qcRfEJm9DIup"
   },
   "outputs": [
    {
     "name": "stdout",
     "output_type": "stream",
     "text": [
      "0\n",
      "1\n",
      "2\n",
      "3\n",
      "4\n",
      "5\n",
      "6\n",
      "7\n",
      "8\n",
      "9\n",
      "10\n",
      "code ended\n"
     ]
    }
   ],
   "source": [
    "#YOUR CODE HERE\n",
    "n = 0\n",
    "while n <= 10:\n",
    "    print(n)\n",
    "    n = n + 1\n",
    "\n",
    "print(\"code ended\")"
   ]
  },
  {
   "cell_type": "markdown",
   "metadata": {
    "id": "8mWr0oK_DvMG"
   },
   "source": [
    "Exercise 2:  Print the first number greater than 100 that is divisible by 17"
   ]
  },
  {
   "cell_type": "code",
   "execution_count": 5,
   "metadata": {
    "id": "6HQKIFJPDVqd"
   },
   "outputs": [
    {
     "name": "stdout",
     "output_type": "stream",
     "text": [
      "102\n"
     ]
    }
   ],
   "source": [
    "#YOUR CODE HERE\n",
    "n = 100\n",
    "while(n>=100):\n",
    "    if n%17 == 0:\n",
    "        print(n)\n",
    "        break\n",
    "    n = n + 1\n",
    "\n"
   ]
  },
  {
   "cell_type": "markdown",
   "metadata": {
    "id": "eD3wqonyErxu"
   },
   "source": [
    "Exercise 3: Using *for* loop print out the characters of 'Portland'"
   ]
  },
  {
   "cell_type": "code",
   "execution_count": null,
   "metadata": {
    "id": "Hmi5x5vOD36-"
   },
   "outputs": [],
   "source": [
    "#YOUR CODE HERE"
   ]
  },
  {
   "cell_type": "markdown",
   "metadata": {
    "id": "tvVaWtBjE98f"
   },
   "source": [
    "Exercise 4: Do the following:\n",
    "\n",
    "1. Use a lower bound of 1 and an upper bound of 10 with range to print 1-9\n",
    "2. Use range with one bound only, the number 10, to print the first ten numbers\n",
    "3. Use a step increment to count the even numbers through 10"
   ]
  },
  {
   "cell_type": "code",
   "execution_count": null,
   "metadata": {
    "id": "FVkjF9igE1PE"
   },
   "outputs": [],
   "source": [
    "#YOUR CODE HERE"
   ]
  },
  {
   "cell_type": "code",
   "execution_count": null,
   "metadata": {
    "id": "aM-K75asFFsY"
   },
   "outputs": [],
   "source": [
    "#YOUR CODE HERE"
   ]
  },
  {
   "cell_type": "code",
   "execution_count": null,
   "metadata": {
    "id": "w00cuJgTFTyk"
   },
   "outputs": [],
   "source": [
    "#YOUR CODE HERE"
   ]
  },
  {
   "cell_type": "markdown",
   "metadata": {
    "id": "WO1yct7BFqZV"
   },
   "source": [
    "Exercise 5:  print each letter of \"Python\" three times"
   ]
  },
  {
   "cell_type": "code",
   "execution_count": null,
   "metadata": {
    "id": "tlgLoJlsFfrH"
   },
   "outputs": [],
   "source": [
    "#YOUR CODE HERE"
   ]
  },
  {
   "cell_type": "markdown",
   "metadata": {
    "id": "9GimWhLlJoJf"
   },
   "source": [
    "Exercise 6: Write a *for* loop for the following\n",
    "\n",
    "1.  print the squares of numbers from 1 to 10.\n",
    "2.  iterate over a list of names and print each name\n",
    "3.  calculate the sum of numbers in a given list."
   ]
  },
  {
   "cell_type": "code",
   "execution_count": null,
   "metadata": {
    "id": "9HHZAbh1F5E5"
   },
   "outputs": [],
   "source": [
    "#YOUR CODE HERE"
   ]
  },
  {
   "cell_type": "code",
   "execution_count": null,
   "metadata": {
    "id": "co4epgpPKH6J"
   },
   "outputs": [],
   "source": [
    "#YOUR CODE HERE"
   ]
  },
  {
   "cell_type": "code",
   "execution_count": null,
   "metadata": {
    "id": "ARJnmhcwKLcX"
   },
   "outputs": [],
   "source": [
    "#YOUR CODE HERE"
   ]
  },
  {
   "cell_type": "markdown",
   "metadata": {
    "id": "k8yzGR59KYks"
   },
   "source": [
    "Exercise 7: Write a nested loop to generate multiplication tables for numbers from 1 to 10"
   ]
  },
  {
   "cell_type": "code",
   "execution_count": null,
   "metadata": {
    "id": "PAv31T6RKacB"
   },
   "outputs": [],
   "source": [
    "#YOUR CODE HERE"
   ]
  }
 ],
 "metadata": {
  "colab": {
   "private_outputs": true,
   "provenance": []
  },
  "kernelspec": {
   "display_name": ".venv",
   "language": "python",
   "name": "python3"
  },
  "language_info": {
   "codemirror_mode": {
    "name": "ipython",
    "version": 3
   },
   "file_extension": ".py",
   "mimetype": "text/x-python",
   "name": "python",
   "nbconvert_exporter": "python",
   "pygments_lexer": "ipython3",
   "version": "3.8.10"
  }
 },
 "nbformat": 4,
 "nbformat_minor": 0
}
