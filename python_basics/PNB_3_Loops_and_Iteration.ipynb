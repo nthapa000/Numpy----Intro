{
 "cells": [
  {
   "cell_type": "markdown",
   "metadata": {
    "id": "xpw5QCyiSraB"
   },
   "source": [
    "## Practice Notebook"
   ]
  },
  {
   "cell_type": "markdown",
   "metadata": {
    "id": "rTjGNDoQDMDY"
   },
   "source": [
    "Exercise 1:  Write a *while* loop to print numbers from 0 to 10"
   ]
  },
  {
   "cell_type": "code",
   "execution_count": 3,
   "metadata": {
    "id": "qcRfEJm9DIup"
   },
   "outputs": [
    {
     "name": "stdout",
     "output_type": "stream",
     "text": [
      "0\n",
      "1\n",
      "2\n",
      "3\n",
      "4\n",
      "5\n",
      "6\n",
      "7\n",
      "8\n",
      "9\n",
      "10\n",
      "code ended\n"
     ]
    }
   ],
   "source": [
    "#YOUR CODE HERE\n",
    "n = 0\n",
    "while n <= 10:\n",
    "    print(n)\n",
    "    n = n + 1\n",
    "\n",
    "print(\"code ended\")"
   ]
  },
  {
   "cell_type": "markdown",
   "metadata": {
    "id": "8mWr0oK_DvMG"
   },
   "source": [
    "Exercise 2:  Print the first number greater than 100 that is divisible by 17"
   ]
  },
  {
   "cell_type": "code",
   "execution_count": 5,
   "metadata": {
    "id": "6HQKIFJPDVqd"
   },
   "outputs": [
    {
     "name": "stdout",
     "output_type": "stream",
     "text": [
      "102\n"
     ]
    }
   ],
   "source": [
    "#YOUR CODE HERE\n",
    "n = 100\n",
    "while(n>=100):\n",
    "    if n%17 == 0:\n",
    "        print(n)\n",
    "        break\n",
    "    n = n + 1\n",
    "\n"
   ]
  },
  {
   "cell_type": "markdown",
   "metadata": {
    "id": "eD3wqonyErxu"
   },
   "source": [
    "Exercise 3: Using *for* loop print out the characters of 'Portland'"
   ]
  },
  {
   "cell_type": "code",
   "execution_count": null,
   "metadata": {
    "id": "Hmi5x5vOD36-"
   },
   "outputs": [
    {
     "name": "stdout",
     "output_type": "stream",
     "text": [
      "P  \n",
      "o  \n",
      "r  \n",
      "t  \n",
      "l  \n",
      "a  \n",
      "n  \n",
      "d  \n"
     ]
    }
   ],
   "source": [
    "#YOUR CODE HERE\n",
    "str = \"Portland\"\n",
    "for ch in str:\n",
    "    print(ch)"
   ]
  },
  {
   "cell_type": "markdown",
   "metadata": {
    "id": "tvVaWtBjE98f"
   },
   "source": [
    "Exercise 4: Do the following:\n",
    "\n",
    "1. Use a lower bound of 1 and an upper bound of 10 with range to print 1-9\n",
    "2. Use range with one bound only, the number 10, to print the first ten numbers\n",
    "3. Use a step increment to count the even numbers through 10"
   ]
  },
  {
   "cell_type": "code",
   "execution_count": 12,
   "metadata": {
    "id": "FVkjF9igE1PE"
   },
   "outputs": [
    {
     "name": "stdout",
     "output_type": "stream",
     "text": [
      "1 2 3 4 5 6 7 8 9 "
     ]
    }
   ],
   "source": [
    "#YOUR CODE HERE\n",
    "for i in range (1,10):\n",
    "    print(i, end=\" \") # end = \" \" is use so that we print everything in the single line with spaces"
   ]
  },
  {
   "cell_type": "code",
   "execution_count": 11,
   "metadata": {
    "id": "aM-K75asFFsY"
   },
   "outputs": [
    {
     "name": "stdout",
     "output_type": "stream",
     "text": [
      "0 1 2 3 4 5 6 7 8 9 "
     ]
    }
   ],
   "source": [
    "#YOUR CODE HERE\n",
    "for i in range(10):\n",
    "    print(i, end=\" \")"
   ]
  },
  {
   "cell_type": "code",
   "execution_count": 16,
   "metadata": {
    "id": "w00cuJgTFTyk"
   },
   "outputs": [
    {
     "name": "stdout",
     "output_type": "stream",
     "text": [
      "0 2 4 6 8 \n",
      "No. of even no: 5\n"
     ]
    }
   ],
   "source": [
    "#YOUR CODE HERE\n",
    "count = 0\n",
    "for i in range(0,10,2):\n",
    "    count = count + 1\n",
    "    print(i,end=\" \")\n",
    "print(\"\\nNo. of even no:\",count)"
   ]
  },
  {
   "cell_type": "markdown",
   "metadata": {
    "id": "WO1yct7BFqZV"
   },
   "source": [
    "Exercise 5:  print each letter of \"Python\" three times"
   ]
  },
  {
   "cell_type": "code",
   "execution_count": 19,
   "metadata": {
    "id": "tlgLoJlsFfrH"
   },
   "outputs": [
    {
     "name": "stdout",
     "output_type": "stream",
     "text": [
      "PPP\n",
      "yyy\n",
      "ttt\n",
      "hhh\n",
      "ooo\n",
      "nnn\n"
     ]
    }
   ],
   "source": [
    "#YOUR CODE HERE\n",
    "word = \"Python\"\n",
    "for ch in word:\n",
    "    print(ch * 3)"
   ]
  },
  {
   "cell_type": "markdown",
   "metadata": {
    "id": "9GimWhLlJoJf"
   },
   "source": [
    "Exercise 6: Write a *for* loop for the following\n",
    "\n",
    "1.  print the squares of numbers from 1 to 10.\n",
    "2.  iterate over a list of names and print each name\n",
    "3.  calculate the sum of numbers in a given list."
   ]
  },
  {
   "cell_type": "code",
   "execution_count": 20,
   "metadata": {
    "id": "9HHZAbh1F5E5"
   },
   "outputs": [
    {
     "name": "stdout",
     "output_type": "stream",
     "text": [
      "1 4 9 16 25 36 49 64 81 100 "
     ]
    }
   ],
   "source": [
    "#YOUR CODE HERE\n",
    "for i in range(1,11):\n",
    "    print(i**2, end=\" \")"
   ]
  },
  {
   "cell_type": "code",
   "execution_count": 22,
   "metadata": {
    "id": "co4epgpPKH6J"
   },
   "outputs": [
    {
     "name": "stdout",
     "output_type": "stream",
     "text": [
      "Nishant\n",
      "Aarav\n",
      "Priya\n",
      "Rohan\n",
      "Meera\n",
      "Ananya\n",
      "Vikram\n",
      "Kiran\n",
      "Sita\n",
      "Arjun\n"
     ]
    }
   ],
   "source": [
    "#YOUR CODE HERE\n",
    "names = [\"Nishant\", \"Aarav\", \"Priya\", \"Rohan\", \"Meera\", \"Ananya\", \"Vikram\", \"Kiran\", \"Sita\", \"Arjun\"]\n",
    "for name in names:\n",
    "    print(name)"
   ]
  },
  {
   "cell_type": "code",
   "execution_count": 25,
   "metadata": {
    "id": "ARJnmhcwKLcX"
   },
   "outputs": [
    {
     "name": "stdout",
     "output_type": "stream",
     "text": [
      "502\n"
     ]
    }
   ],
   "source": [
    "#YOUR CODE HERE\n",
    "numbers = [42, 7, 89, 15, 63, 28, 91, 54, 36, 77]\n",
    "sum = 0\n",
    "for num in numbers:\n",
    "    sum = sum + num\n",
    "print(sum)"
   ]
  },
  {
   "cell_type": "markdown",
   "metadata": {
    "id": "k8yzGR59KYks"
   },
   "source": [
    "Exercise 7: Write a nested loop to generate multiplication tables for numbers from 1 to 10"
   ]
  },
  {
   "cell_type": "code",
   "execution_count": 28,
   "metadata": {
    "id": "PAv31T6RKacB"
   },
   "outputs": [
    {
     "name": "stdout",
     "output_type": "stream",
     "text": [
      "1  *  1  =  1\n",
      "1  *  2  =  2\n",
      "1  *  3  =  3\n",
      "1  *  4  =  4\n",
      "1  *  5  =  5\n",
      "1  *  6  =  6\n",
      "1  *  7  =  7\n",
      "1  *  8  =  8\n",
      "1  *  9  =  9\n",
      "1  *  10  =  10\n",
      "\n",
      "\n",
      "2  *  1  =  2\n",
      "2  *  2  =  4\n",
      "2  *  3  =  6\n",
      "2  *  4  =  8\n",
      "2  *  5  =  10\n",
      "2  *  6  =  12\n",
      "2  *  7  =  14\n",
      "2  *  8  =  16\n",
      "2  *  9  =  18\n",
      "2  *  10  =  20\n",
      "\n",
      "\n",
      "3  *  1  =  3\n",
      "3  *  2  =  6\n",
      "3  *  3  =  9\n",
      "3  *  4  =  12\n",
      "3  *  5  =  15\n",
      "3  *  6  =  18\n",
      "3  *  7  =  21\n",
      "3  *  8  =  24\n",
      "3  *  9  =  27\n",
      "3  *  10  =  30\n",
      "\n",
      "\n",
      "4  *  1  =  4\n",
      "4  *  2  =  8\n",
      "4  *  3  =  12\n",
      "4  *  4  =  16\n",
      "4  *  5  =  20\n",
      "4  *  6  =  24\n",
      "4  *  7  =  28\n",
      "4  *  8  =  32\n",
      "4  *  9  =  36\n",
      "4  *  10  =  40\n",
      "\n",
      "\n",
      "5  *  1  =  5\n",
      "5  *  2  =  10\n",
      "5  *  3  =  15\n",
      "5  *  4  =  20\n",
      "5  *  5  =  25\n",
      "5  *  6  =  30\n",
      "5  *  7  =  35\n",
      "5  *  8  =  40\n",
      "5  *  9  =  45\n",
      "5  *  10  =  50\n",
      "\n",
      "\n",
      "6  *  1  =  6\n",
      "6  *  2  =  12\n",
      "6  *  3  =  18\n",
      "6  *  4  =  24\n",
      "6  *  5  =  30\n",
      "6  *  6  =  36\n",
      "6  *  7  =  42\n",
      "6  *  8  =  48\n",
      "6  *  9  =  54\n",
      "6  *  10  =  60\n",
      "\n",
      "\n",
      "7  *  1  =  7\n",
      "7  *  2  =  14\n",
      "7  *  3  =  21\n",
      "7  *  4  =  28\n",
      "7  *  5  =  35\n",
      "7  *  6  =  42\n",
      "7  *  7  =  49\n",
      "7  *  8  =  56\n",
      "7  *  9  =  63\n",
      "7  *  10  =  70\n",
      "\n",
      "\n",
      "8  *  1  =  8\n",
      "8  *  2  =  16\n",
      "8  *  3  =  24\n",
      "8  *  4  =  32\n",
      "8  *  5  =  40\n",
      "8  *  6  =  48\n",
      "8  *  7  =  56\n",
      "8  *  8  =  64\n",
      "8  *  9  =  72\n",
      "8  *  10  =  80\n",
      "\n",
      "\n",
      "9  *  1  =  9\n",
      "9  *  2  =  18\n",
      "9  *  3  =  27\n",
      "9  *  4  =  36\n",
      "9  *  5  =  45\n",
      "9  *  6  =  54\n",
      "9  *  7  =  63\n",
      "9  *  8  =  72\n",
      "9  *  9  =  81\n",
      "9  *  10  =  90\n",
      "\n",
      "\n",
      "10  *  1  =  10\n",
      "10  *  2  =  20\n",
      "10  *  3  =  30\n",
      "10  *  4  =  40\n",
      "10  *  5  =  50\n",
      "10  *  6  =  60\n",
      "10  *  7  =  70\n",
      "10  *  8  =  80\n",
      "10  *  9  =  90\n",
      "10  *  10  =  100\n",
      "\n",
      "\n"
     ]
    }
   ],
   "source": [
    "#YOUR CODE HERE\n",
    "for i in range(1,11):\n",
    "    for j in range(1,11):\n",
    "        print(i,\" * \",j,\" = \", i*j)\n",
    "    print(\"\\n\")"
   ]
  },
  {
   "cell_type": "code",
   "execution_count": null,
   "metadata": {},
   "outputs": [],
   "source": []
  }
 ],
 "metadata": {
  "colab": {
   "private_outputs": true,
   "provenance": []
  },
  "kernelspec": {
   "display_name": ".venv",
   "language": "python",
   "name": "python3"
  },
  "language_info": {
   "codemirror_mode": {
    "name": "ipython",
    "version": 3
   },
   "file_extension": ".py",
   "mimetype": "text/x-python",
   "name": "python",
   "nbconvert_exporter": "python",
   "pygments_lexer": "ipython3",
   "version": "3.8.10"
  }
 },
 "nbformat": 4,
 "nbformat_minor": 0
}
