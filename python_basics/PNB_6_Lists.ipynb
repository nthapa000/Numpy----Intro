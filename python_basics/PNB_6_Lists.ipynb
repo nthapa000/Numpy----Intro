{
 "cells": [
  {
   "cell_type": "markdown",
   "metadata": {
    "id": "TdOxmRdvhMuv"
   },
   "source": [
    "## **List**"
   ]
  },
  {
   "cell_type": "markdown",
   "metadata": {
    "id": "gHYltWQUhPna"
   },
   "source": [
    "#### Exercise 01: \n",
    "Reverse the order of the given list.\n"
   ]
  },
  {
   "cell_type": "code",
   "execution_count": 3,
   "metadata": {
    "id": "SGr5LgIshFZy"
   },
   "outputs": [],
   "source": [
    "a = [100, 200, 300, 400, 500]"
   ]
  },
  {
   "cell_type": "markdown",
   "metadata": {
    "id": "o2kl4zueib5W"
   },
   "source": [
    "Expected output : [500, 400, 300, 200, 100] "
   ]
  },
  {
   "cell_type": "code",
   "execution_count": 5,
   "metadata": {
    "id": "XD3dwZ05ieKe"
   },
   "outputs": [
    {
     "name": "stdout",
     "output_type": "stream",
     "text": [
      "[500, 400, 300, 200, 100]\n"
     ]
    }
   ],
   "source": [
    "## YOUR CODE HERE\n",
    "print(a[::-1])"
   ]
  },
  {
   "cell_type": "markdown",
   "metadata": {
    "id": "O-TSshJ0in-w"
   },
   "source": [
    "#### Exercise 02: \n",
    "Concatenate two lists using `.extend()`.\n",
    "\n"
   ]
  },
  {
   "cell_type": "code",
   "execution_count": 12,
   "metadata": {
    "id": "xbz7w5_JiyQ7"
   },
   "outputs": [],
   "source": [
    "list1 = [\"Hello \", \"Students \"]\n",
    "list2 = (\"Dear\", \"Sir\")"
   ]
  },
  {
   "cell_type": "markdown",
   "metadata": {
    "id": "nv0a2lzespO8"
   },
   "source": [
    "Expected output : ['Hello ', 'Students ', 'Dear', 'Sir']"
   ]
  },
  {
   "cell_type": "code",
   "execution_count": null,
   "metadata": {
    "id": "9M9R2SkHi_se"
   },
   "outputs": [
    {
     "name": "stdout",
     "output_type": "stream",
     "text": [
      "['Hello ', 'Students ', 'Dear', 'Sir']\n"
     ]
    }
   ],
   "source": [
    "## YOUR CODE HERE\n",
    "list1.extend(list2)\n",
    "print(list1)\n",
    "# extend basically add on the existing list"
   ]
  },
  {
   "cell_type": "markdown",
   "metadata": {
    "id": "fK5Gc4KDmc9R"
   },
   "source": [
    "#### Exercise 03: \n",
    "For given list, perform the following:\n",
    "* Print the last element from the list.\n",
    "* Print index of element 4.\n",
    "\n"
   ]
  },
  {
   "cell_type": "code",
   "execution_count": 10,
   "metadata": {
    "id": "22x5RBNPnoWT"
   },
   "outputs": [],
   "source": [
    "list4 = [1, 2, 3, 4, 5, 6, 7] "
   ]
  },
  {
   "cell_type": "markdown",
   "metadata": {
    "id": "t9p9rezPsvUT"
   },
   "source": [
    "Expected outputs: 7  and 3"
   ]
  },
  {
   "cell_type": "code",
   "execution_count": 17,
   "metadata": {
    "id": "1mzuxFhFtYHY"
   },
   "outputs": [
    {
     "name": "stdout",
     "output_type": "stream",
     "text": [
      "7\n",
      "4\n"
     ]
    }
   ],
   "source": [
    "## YOUR CODE HERE\n",
    "print(list4[-1])\n",
    "print(list4[3])"
   ]
  },
  {
   "cell_type": "markdown",
   "metadata": {
    "id": "Yb176jZtoDcw"
   },
   "source": [
    "#### Exercise 04:  \n",
    "Print the sublist from the given list.\n"
   ]
  },
  {
   "cell_type": "markdown",
   "metadata": {
    "id": "8r9FNtdat2HQ"
   },
   "source": [
    "Expected output : [9,8,7]"
   ]
  },
  {
   "cell_type": "code",
   "execution_count": 20,
   "metadata": {
    "id": "RmF-bSAeodE1"
   },
   "outputs": [
    {
     "name": "stdout",
     "output_type": "stream",
     "text": [
      "[9, 8, 7]\n"
     ]
    }
   ],
   "source": [
    "list5 = [1, 2, 3, [9, 8, 7]]\n",
    "## YOUR CODE HERE\n",
    "print(list5[3])"
   ]
  },
  {
   "cell_type": "markdown",
   "metadata": {
    "id": "aynisxhTueLO"
   },
   "source": [
    "#### Exercise 05: \n",
    "For given list, find the following:\n",
    "\n",
    "* Check the type of the list elements. \n",
    "* Check whether the element `'name'` is present in the list.\n",
    "* Find the length of the list."
   ]
  },
  {
   "cell_type": "code",
   "execution_count": 21,
   "metadata": {
    "id": "ioHLtlbGuTvP"
   },
   "outputs": [
    {
     "name": "stdout",
     "output_type": "stream",
     "text": [
      "present\n"
     ]
    }
   ],
   "source": [
    "list6= [1,'name',0.7,\"this is a sentence\"]\n",
    "# YOUR CODE HERE\n",
    "if 'name' in list6:\n",
    "    print(\"present\")\n",
    "else:\n",
    "    print(\"absent\")"
   ]
  },
  {
   "cell_type": "markdown",
   "metadata": {
    "id": "wI1UrnQfwNWe"
   },
   "source": [
    "#### Exercise 6: \n",
    "For the given list, find the following:\n",
    "\n",
    "* Find the count of the apples.\n",
    "* Insert the `'Watermelon'` at the last position."
   ]
  },
  {
   "cell_type": "code",
   "execution_count": 22,
   "metadata": {
    "id": "pN_uttIEux6v"
   },
   "outputs": [
    {
     "name": "stdout",
     "output_type": "stream",
     "text": [
      "3\n"
     ]
    }
   ],
   "source": [
    "basket=['apple','apple','orange','mango','grape','orange','apple']\n",
    "# YOUR CODE HERE\n",
    "count = 0\n",
    "for fruit in basket:\n",
    "    if( fruit == 'apple'):\n",
    "        count = count + 1\n",
    "\n",
    "print(count)"
   ]
  },
  {
   "cell_type": "code",
   "execution_count": 23,
   "metadata": {
    "id": "qgS5vzggn4E3"
   },
   "outputs": [
    {
     "name": "stdout",
     "output_type": "stream",
     "text": [
      "['apple', 'apple', 'orange', 'mango', 'grape', 'orange', 'apple', 'Watermelon']\n"
     ]
    }
   ],
   "source": [
    "# YOUR CODE HERE\n",
    "basket.append('Watermelon')\n",
    "print(basket)"
   ]
  },
  {
   "cell_type": "markdown",
   "metadata": {
    "id": "RBA3j8-RIQ5u"
   },
   "source": [
    "#### Exercise 07:  \n",
    "Print the squares of the numbers in the given list.\n"
   ]
  },
  {
   "cell_type": "markdown",
   "metadata": {
    "id": "VDgNO3uFIYUl"
   },
   "source": [
    "Expected output : \n",
    "<br/>36<br/>49<br/>64"
   ]
  },
  {
   "cell_type": "code",
   "execution_count": 26,
   "metadata": {
    "id": "MHn_vaFioIyO"
   },
   "outputs": [],
   "source": [
    "list1 = [6, 7, 8]"
   ]
  },
  {
   "cell_type": "code",
   "execution_count": 27,
   "metadata": {
    "id": "QgNPTxTroW2w"
   },
   "outputs": [
    {
     "name": "stdout",
     "output_type": "stream",
     "text": [
      "36\n",
      "49\n",
      "64\n"
     ]
    }
   ],
   "source": [
    "## YOUR CODE HERE\n",
    "for num in list1:\n",
    "    print(num*num)"
   ]
  },
  {
   "cell_type": "markdown",
   "metadata": {
    "id": "yv54YbVDIdYm"
   },
   "source": [
    "#### Exercise 08: \n",
    "For the given list, print only the positive elements.\n"
   ]
  },
  {
   "cell_type": "markdown",
   "metadata": {
    "id": "IJDnwmxGIkXn"
   },
   "source": [
    "Expected output:\n",
    "\n",
    "2<br/>4<br/>6<br/>"
   ]
  },
  {
   "cell_type": "code",
   "execution_count": 28,
   "metadata": {
    "id": "SeyfXE34IYqH"
   },
   "outputs": [],
   "source": [
    "list2 = [-1, 2, -3, 4, -5, 6, -7] "
   ]
  },
  {
   "cell_type": "code",
   "execution_count": 29,
   "metadata": {
    "id": "K9_z6PglIixl"
   },
   "outputs": [
    {
     "name": "stdout",
     "output_type": "stream",
     "text": [
      "2\n",
      "4\n",
      "6\n"
     ]
    }
   ],
   "source": [
    "## YOUR CODE HERE\n",
    "for num in list2:\n",
    "    if(num > 0):\n",
    "        print(num)"
   ]
  },
  {
   "cell_type": "markdown",
   "metadata": {
    "id": "gtrr3-yJIm88"
   },
   "source": [
    "#### Exercise 09: \n",
    "For the given list, print numbers which are multiples of 5.\n"
   ]
  },
  {
   "cell_type": "markdown",
   "metadata": {
    "id": "fXk_6TVwIzjT"
   },
   "source": [
    "Expected output :\n",
    "\n",
    "10<br/>20<br/>30<br/>40"
   ]
  },
  {
   "cell_type": "code",
   "execution_count": 31,
   "metadata": {
    "id": "DTX8phUfIkpn"
   },
   "outputs": [],
   "source": [
    "list3 = [10, 12, 20, 22, 30, 32, 40]"
   ]
  },
  {
   "cell_type": "code",
   "execution_count": 33,
   "metadata": {
    "id": "rh-xkZNQIs7b"
   },
   "outputs": [
    {
     "name": "stdout",
     "output_type": "stream",
     "text": [
      "10\n",
      "20\n",
      "30\n",
      "40\n"
     ]
    }
   ],
   "source": [
    "## YOUR CODE \n",
    "for i in list3:\n",
    "    if(i%5==0):\n",
    "        print(i)"
   ]
  },
  {
   "cell_type": "markdown",
   "metadata": {
    "id": "NAHdHeYGI2qQ"
   },
   "source": [
    "#### Exercise 10: \n",
    "For the given list, print if the element is an one digit or a two-digit number.\n"
   ]
  },
  {
   "cell_type": "markdown",
   "metadata": {
    "id": "a0puXvbzI9s3"
   },
   "source": [
    "Expected output : \n",
    "\n",
    "5 is a one digit number.<br/>\n",
    "15 is a two digit number.<br/>\n",
    "20 is a two digit number.<br/>"
   ]
  },
  {
   "cell_type": "code",
   "execution_count": 35,
   "metadata": {
    "id": "xgOyfyjmI3-D"
   },
   "outputs": [],
   "source": [
    "list4 = [5, 15, 20]"
   ]
  },
  {
   "cell_type": "code",
   "execution_count": 36,
   "metadata": {
    "id": "O8AP3GOGI6kK"
   },
   "outputs": [
    {
     "name": "stdout",
     "output_type": "stream",
     "text": [
      "5  is a one digit number.\n",
      "15  is a two digit number.\n",
      "20  is a two digit number.\n"
     ]
    }
   ],
   "source": [
    "## YOUR CODE HERE\n",
    "for num in list4:\n",
    "    if(num<10):\n",
    "        print(num,\" is a one digit number.\")\n",
    "    else:\n",
    "        print(num,\" is a two digit number.\")"
   ]
  },
  {
   "cell_type": "markdown",
   "metadata": {
    "id": "uY4AF7vGJBhO"
   },
   "source": [
    "#### Exercise 11: \n",
    "For the given String, find the following:\n",
    "* Split the string into a list of words and print them.\n",
    "* Print the length of the list.\n",
    "\n"
   ]
  },
  {
   "cell_type": "markdown",
   "metadata": {
    "id": "m64dkYxAJUkO"
   },
   "source": [
    " Expected output :\n",
    " <br/>['The', 'quick', 'brown', 'fox', 'jumps', 'over', 'the', 'lazy', 'dog']\n",
    " <br/>9"
   ]
  },
  {
   "cell_type": "code",
   "execution_count": 37,
   "metadata": {
    "id": "6g2MX3k9I63k"
   },
   "outputs": [],
   "source": [
    "string1 = \"The quick brown fox jumps over the lazy dog\""
   ]
  },
  {
   "cell_type": "code",
   "execution_count": 39,
   "metadata": {
    "id": "7O5Yy-zHJSea"
   },
   "outputs": [
    {
     "name": "stdout",
     "output_type": "stream",
     "text": [
      "['The', 'quick', 'brown', 'fox', 'jumps', 'over', 'the', 'lazy', 'dog']\n",
      "9\n"
     ]
    }
   ],
   "source": [
    "## YOUR CODE HERE\n",
    "b = string1.split()\n",
    "print(b)\n",
    "print(len(b))"
   ]
  },
  {
   "cell_type": "markdown",
   "metadata": {
    "id": "7nbOyR5LJXXK"
   },
   "source": [
    "#### Exercise 12: \n",
    "For the given List, find the following:\n",
    "* list items from 2nd to 3rd.\n",
    "* list items from beginning to 3rd.\n",
    "* list items from 4th to the end of the list.\n",
    "\n"
   ]
  },
  {
   "cell_type": "markdown",
   "metadata": {
    "id": "1aENXHgnJbsx"
   },
   "source": [
    "Expected Output :\n",
    "<br/>[2, 3]\n",
    "<br/>[1, 2, 3]\n",
    "<br/>[4, 5, 6, 7]"
   ]
  },
  {
   "cell_type": "code",
   "execution_count": 43,
   "metadata": {
    "id": "BUQMK__9JZ9x"
   },
   "outputs": [
    {
     "name": "stdout",
     "output_type": "stream",
     "text": [
      "[2, 3]\n",
      "[1, 2, 3]\n",
      "[4, 5, 6, 7]\n"
     ]
    }
   ],
   "source": [
    "list5 = [1, 2, 3, 4, 5, 6, 7]\n",
    "print(list5[1:3])\n",
    "print(list5[:3])\n",
    "print(list5[3:])"
   ]
  },
  {
   "cell_type": "code",
   "execution_count": null,
   "metadata": {
    "id": "-FI4iFk9Jcpv"
   },
   "outputs": [],
   "source": [
    "#YOUR CODE HERE"
   ]
  },
  {
   "cell_type": "markdown",
   "metadata": {
    "id": "_nF2ypT2JoDC"
   },
   "source": [
    "#### Exercise 13: \n",
    "For the given list, print the numbers which are greater than or equal to 10."
   ]
  },
  {
   "cell_type": "markdown",
   "metadata": {
    "id": "Ry2mcz9QJvff"
   },
   "source": [
    "Expected Output :\n",
    "<br/>10<br/>11<br/>12<br/>13"
   ]
  },
  {
   "cell_type": "code",
   "execution_count": null,
   "metadata": {
    "id": "YJ6UqsltJd4_"
   },
   "outputs": [],
   "source": [
    "list6 = [0, 1, 2, 3, 10, 11, 12, 13]"
   ]
  },
  {
   "cell_type": "code",
   "execution_count": null,
   "metadata": {
    "id": "mGDGYJavJs-J"
   },
   "outputs": [],
   "source": [
    "# YOUR CODE HERE"
   ]
  }
 ],
 "metadata": {
  "colab": {
   "private_outputs": true,
   "provenance": []
  },
  "kernelspec": {
   "display_name": ".venv",
   "language": "python",
   "name": "python3"
  },
  "language_info": {
   "codemirror_mode": {
    "name": "ipython",
    "version": 3
   },
   "file_extension": ".py",
   "mimetype": "text/x-python",
   "name": "python",
   "nbconvert_exporter": "python",
   "pygments_lexer": "ipython3",
   "version": "3.8.10"
  }
 },
 "nbformat": 4,
 "nbformat_minor": 0
}
