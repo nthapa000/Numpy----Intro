{
 "cells": [
  {
   "cell_type": "markdown",
   "metadata": {
    "id": "12wF6gUYT_We"
   },
   "source": [
    "## Practice Notebook"
   ]
  },
  {
   "cell_type": "markdown",
   "metadata": {
    "id": "OJx1Dus7hHsx"
   },
   "source": [
    "## Strings\n",
    "\n",
    "A string is a series of characters. In Python, anything inside \"quotes\" is a string. You can either use 'single quotes' or \"double quotes\".\n",
    "\n",
    "For more info, refer [here](https://www.w3schools.com/python/python_strings.asp)."
   ]
  },
  {
   "cell_type": "markdown",
   "metadata": {
    "id": "dN-JN2GeYNzP"
   },
   "source": [
    "#### Exercise 1:\n",
    "\n",
    "Declare the values of a string variable to be 'Tests, Quizzes, Individual Labs, Group Labs and Hackathons'.\n",
    "\n",
    "\n",
    "Print the string."
   ]
  },
  {
   "cell_type": "code",
   "execution_count": 1,
   "metadata": {
    "id": "PvmSKSuCYAzn"
   },
   "outputs": [
    {
     "name": "stdout",
     "output_type": "stream",
     "text": [
      "Tests, Quizzes, Individual Labs, Group Labs and Hackathons\n"
     ]
    }
   ],
   "source": [
    "# YOUR CODE HERE\n",
    "str_sent = \"Tests, Quizzes, Individual Labs, Group Labs and Hackathons\"\n",
    "print(str_sent)"
   ]
  },
  {
   "cell_type": "markdown",
   "metadata": {
    "id": "_5P3baVHXixq"
   },
   "source": [
    "#### Exercise 2:\n",
    "\n",
    "Declare the values of a string variable to be \"I need Tables, Chairs, Cupboards\", in double qoutes. \n",
    "\n",
    "Print the string."
   ]
  },
  {
   "cell_type": "code",
   "execution_count": 2,
   "metadata": {
    "id": "TRkcTF71T1PO"
   },
   "outputs": [
    {
     "name": "stdout",
     "output_type": "stream",
     "text": [
      "I need Tables, Chairs, Cupboards\n"
     ]
    }
   ],
   "source": [
    "# YOUR CODE HERE\n",
    "str_double = \"I need Tables, Chairs, Cupboards\"\n",
    "print(str_double)"
   ]
  },
  {
   "cell_type": "markdown",
   "metadata": {
    "id": "-_F548p0cm-Y"
   },
   "source": [
    "#### Exercise 3:\n",
    "\n",
    "Concatenate the two string variables declared in Exercise 1 and Exercise 2."
   ]
  },
  {
   "cell_type": "code",
   "execution_count": 4,
   "metadata": {
    "id": "JEdJQUBkcUHe"
   },
   "outputs": [
    {
     "name": "stdout",
     "output_type": "stream",
     "text": [
      "Tests, Quizzes, Individual Labs, Group Labs and Hackathons I need Tables, Chairs, Cupboards\n"
     ]
    }
   ],
   "source": [
    "# YOUR CODE HERE\n",
    "str_res = str_sent + \" \" +str_double\n",
    "print(str_res)"
   ]
  },
  {
   "cell_type": "markdown",
   "metadata": {
    "id": "BsMn8suiZSMr"
   },
   "source": [
    "#### Exercise 4:\n",
    "\n",
    "Write a short note on any topic in python and print the note using single `print` statement."
   ]
  },
  {
   "cell_type": "code",
   "execution_count": 10,
   "metadata": {
    "id": "ndGfCaAMZEyj"
   },
   "outputs": [
    {
     "name": "stdout",
     "output_type": "stream",
     "text": [
      "In python it feels like we are writing everything in English Language,\n",
      "this in turn make python feels like very easy to use language it feels there isn't \n",
      "any effort required to run the code, in python string operation are basically we can\n",
      "say immutable, which simply means once we define the str we can't make changes on the\n",
      "orginal string\n"
     ]
    }
   ],
   "source": [
    "# YOUR CODE HERE\n",
    "notes = \"In python it feels like we are writing everything in English Language,\\nthis in turn make python feels like very easy to use language it feels there isn't \\nany effort required to run the code, in python string operation are basically we can\\nsay immutable, which simply means once we define the str we can't make changes on the\\norginal string\"\n",
    "print(notes)"
   ]
  },
  {
   "cell_type": "markdown",
   "metadata": {
    "id": "bpzOBwWjdUbO"
   },
   "source": [
    "#### Exercise 5:\n",
    "\n",
    "* Concatenate the output of the string in Exercise 3 and output of the string in Exercise 1.\n",
    "* Print the length of the concatenated string.\n"
   ]
  },
  {
   "cell_type": "code",
   "execution_count": 12,
   "metadata": {
    "id": "ScREMvsJd4Ig"
   },
   "outputs": [
    {
     "name": "stdout",
     "output_type": "stream",
     "text": [
      "150\n"
     ]
    }
   ],
   "source": [
    "# YOUR CODE HERE\n",
    "result = str_res + \" \" + str_sent\n",
    "print(len(result))"
   ]
  },
  {
   "cell_type": "markdown",
   "metadata": {
    "id": "zrvj2kICovvo"
   },
   "source": [
    "#### Exercies 6:\n",
    "\n",
    "Perform simple string operations for A = \"Hello\", B = \"world!\":\n",
    " * Concatenate by +.\n",
    " * Multiple concatenation by *  (ex: 4 * A + \" \" * 3 + B * 2).\n",
    " * Check for substring with `in`.\n",
    " * Determine the size (number of characters) using `len`."
   ]
  },
  {
   "cell_type": "code",
   "execution_count": null,
   "metadata": {
    "id": "mUwqIlhnpBPe"
   },
   "outputs": [],
   "source": [
    "# YOUR CODE HERE\n"
   ]
  },
  {
   "cell_type": "markdown",
   "metadata": {
    "id": "t_RU_DjFqMF-"
   },
   "source": [
    "#### Exercies 7:\n",
    "\n",
    "For the given variable name = 'hELLO, WORLD!', perform the following:\n",
    "* Print the character '!'. \n",
    "* Convert the string to lowercase.\n",
    "* Print the first character in upper case.\n",
    "* Print a string where all the upper case letters are lower case and vice versa.\n"
   ]
  },
  {
   "cell_type": "code",
   "execution_count": 17,
   "metadata": {
    "id": "JeDkZaQxpamY"
   },
   "outputs": [
    {
     "name": "stdout",
     "output_type": "stream",
     "text": [
      "!\n"
     ]
    }
   ],
   "source": [
    "name = 'hELLO, WORLD!'\n",
    "# YOUR CODE HERE\n",
    "print(name[-1::])"
   ]
  },
  {
   "cell_type": "code",
   "execution_count": 19,
   "metadata": {
    "id": "B8n5iU_-snKH"
   },
   "outputs": [
    {
     "name": "stdout",
     "output_type": "stream",
     "text": [
      "hello, world!\n"
     ]
    }
   ],
   "source": [
    "# The lower() method returns a string converted to lowercase.\n",
    "# YOUR CODE HERE\n",
    "lowercase = name.lower()\n",
    "print(lowercase)"
   ]
  },
  {
   "cell_type": "code",
   "execution_count": 20,
   "metadata": {
    "id": "8d0wOfi3Zsd-"
   },
   "outputs": [
    {
     "name": "stdout",
     "output_type": "stream",
     "text": [
      "Hello, world!\n"
     ]
    }
   ],
   "source": [
    "# YOUR CODE HERE\n",
    "print(name.capitalize())"
   ]
  },
  {
   "cell_type": "code",
   "execution_count": 21,
   "metadata": {
    "id": "hYOmJNw4aOL9"
   },
   "outputs": [
    {
     "name": "stdout",
     "output_type": "stream",
     "text": [
      "Hello, world!\n"
     ]
    }
   ],
   "source": [
    "# YOUR CODE HERE\n",
    "print(name.swapcase())"
   ]
  },
  {
   "cell_type": "markdown",
   "metadata": {
    "id": "3wNoT59o2HAi"
   },
   "source": [
    "#### Exercies 8:\n",
    "\n",
    "For a given string, perform the following:\n",
    "* Using `for` to iterate over a string in Python.\n",
    "* Print the number of times the letter/character ‘s’ appears in a string."
   ]
  },
  {
   "cell_type": "code",
   "execution_count": 22,
   "metadata": {
    "id": "C52n7pwL0_dZ"
   },
   "outputs": [
    {
     "name": "stdout",
     "output_type": "stream",
     "text": [
      "4\n"
     ]
    }
   ],
   "source": [
    "# YOUR CODE HERE\n",
    "str_word = \"ohsabfhasasdacas\"\n",
    "count = 0\n",
    "for ch in str_word:\n",
    "    if ch == 's':\n",
    "        count = count + 1\n",
    "\n",
    "print(count)"
   ]
  },
  {
   "cell_type": "code",
   "execution_count": null,
   "metadata": {
    "id": "5zjqFGxI3Epa"
   },
   "outputs": [],
   "source": [
    "# YOUR CODE HERE"
   ]
  },
  {
   "cell_type": "markdown",
   "metadata": {
    "id": "LelhQmty6yac"
   },
   "source": [
    "#### Exercies 9:\n",
    "\n",
    "For a given list, perform the following:\n",
    "\n",
    "* Print the list in reverse oder.\n",
    "\n",
    "* Print the following my_list[-1].\n",
    "\n",
    "* Print the following output  [2, 33, 222, 14] using slice method."
   ]
  },
  {
   "cell_type": "code",
   "execution_count": 23,
   "metadata": {
    "id": "62p4fL9g-5rH"
   },
   "outputs": [
    {
     "name": "stdout",
     "output_type": "stream",
     "text": [
      "[25, 14, 222, 33, 2]\n"
     ]
    }
   ],
   "source": [
    "my_list = [2, 33, 222, 14, 25]\n",
    "# YOUR CODE HERE\n",
    "print(my_list[::-1])"
   ]
  },
  {
   "cell_type": "code",
   "execution_count": 24,
   "metadata": {
    "id": "2-tNVH8R4lIC"
   },
   "outputs": [
    {
     "name": "stdout",
     "output_type": "stream",
     "text": [
      "25\n"
     ]
    }
   ],
   "source": [
    "my_list = [2, 33, 222, 14, 25]\n",
    "# YOUR CODE HERE\n",
    "print(my_list[-1])"
   ]
  },
  {
   "cell_type": "code",
   "execution_count": 25,
   "metadata": {
    "id": "HTkPuU97-x0C"
   },
   "outputs": [
    {
     "name": "stdout",
     "output_type": "stream",
     "text": [
      "[2, 33, 222, 14]\n"
     ]
    }
   ],
   "source": [
    "my_list = [2, 33, 222, 14, 25]\n",
    "# YOUR CODE HERE\n",
    "print(my_list[:4])"
   ]
  },
  {
   "cell_type": "markdown",
   "metadata": {
    "id": "iXRD9t9QaXRF"
   },
   "source": [
    "#### Exercies 10:\n",
    "\n",
    "For the given string, perform following methods:\n",
    "\n",
    "* Split the string by using 'word.split' and print the result.\n",
    "* Replace MachineLearning by Python using `.replace()`."
   ]
  },
  {
   "cell_type": "code",
   "execution_count": null,
   "metadata": {
    "id": "qWaaIZ5EVz-_"
   },
   "outputs": [],
   "source": [
    "# YOUR CODE HERE\n"
   ]
  },
  {
   "cell_type": "code",
   "execution_count": null,
   "metadata": {
    "id": "TIyyhrYrV15M"
   },
   "outputs": [],
   "source": [
    "# YOUR CODE HERE"
   ]
  }
 ],
 "metadata": {
  "colab": {
   "provenance": []
  },
  "kernelspec": {
   "display_name": ".venv",
   "language": "python",
   "name": "python3"
  },
  "language_info": {
   "codemirror_mode": {
    "name": "ipython",
    "version": 3
   },
   "file_extension": ".py",
   "mimetype": "text/x-python",
   "name": "python",
   "nbconvert_exporter": "python",
   "pygments_lexer": "ipython3",
   "version": "3.8.10"
  }
 },
 "nbformat": 4,
 "nbformat_minor": 0
}
