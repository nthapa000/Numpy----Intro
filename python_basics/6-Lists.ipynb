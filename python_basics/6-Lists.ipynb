{
 "cells": [
  {
   "cell_type": "markdown",
   "metadata": {
    "id": "CQkoh9Qd7gNx"
   },
   "source": [
    "### **Collections**\n",
    "In python collections are containers that are used to store collections of data. For example: **List, Dict, Set, Tuple etc,.**"
   ]
  },
  {
   "cell_type": "markdown",
   "metadata": {
    "id": "j_d2kWT98FgD"
   },
   "source": [
    "#### **List**\n",
    "It is a sequence of datatype which is used to store the collections of data. It contains multiple values in an ordered sequence.\n",
    "\n",
    "\n",
    "which is enclosed in **[ ]**'s"
   ]
  },
  {
   "cell_type": "code",
   "execution_count": 81,
   "metadata": {
    "executionInfo": {
     "elapsed": 32,
     "status": "ok",
     "timestamp": 1692601777017,
     "user": {
      "displayName": "Jayasurya Thirumaran",
      "userId": "13318290182123921947"
     },
     "user_tz": -330
    },
    "id": "JnhIjkrT7P5A"
   },
   "outputs": [],
   "source": [
    "# List of Strings\n",
    "friends = ['Joseph', 'Glenn', 'Sally'] # values inside a list are items, are seperated by comma delimited"
   ]
  },
  {
   "cell_type": "code",
   "execution_count": 82,
   "metadata": {
    "executionInfo": {
     "elapsed": 32,
     "status": "ok",
     "timestamp": 1692601777017,
     "user": {
      "displayName": "Jayasurya Thirumaran",
      "userId": "13318290182123921947"
     },
     "user_tz": -330
    },
    "id": "kPJdEntK-Lez"
   },
   "outputs": [],
   "source": [
    "# List of Integers\n",
    "ages = [20, 22, 24, 25]"
   ]
  },
  {
   "cell_type": "markdown",
   "metadata": {
    "id": "P3psZAw3KSXd"
   },
   "source": [
    "The elements of the list don't have to be same type"
   ]
  },
  {
   "cell_type": "code",
   "execution_count": 83,
   "metadata": {
    "colab": {
     "base_uri": "https://localhost:8080/"
    },
    "executionInfo": {
     "elapsed": 33,
     "status": "ok",
     "timestamp": 1692601777018,
     "user": {
      "displayName": "Jayasurya Thirumaran",
      "userId": "13318290182123921947"
     },
     "user_tz": -330
    },
    "id": "CyUKACjPKcYZ",
    "outputId": "c8312522-af10-467f-a587-f4f34cc57840"
   },
   "outputs": [
    {
     "name": "stdout",
     "output_type": "stream",
     "text": [
      "[20, 22, 24, 25]\n"
     ]
    }
   ],
   "source": [
    "print(ages)"
   ]
  },
  {
   "cell_type": "code",
   "execution_count": 84,
   "metadata": {
    "colab": {
     "base_uri": "https://localhost:8080/"
    },
    "executionInfo": {
     "elapsed": 31,
     "status": "ok",
     "timestamp": 1692601777018,
     "user": {
      "displayName": "Jayasurya Thirumaran",
      "userId": "13318290182123921947"
     },
     "user_tz": -330
    },
    "id": "GDOM_-LqKdm6",
    "outputId": "dce32235-1501-440f-fee7-c7c6f8342a09"
   },
   "outputs": [
    {
     "name": "stdout",
     "output_type": "stream",
     "text": [
      "['Joseph', 'Glenn', 'Sally']\n"
     ]
    }
   ],
   "source": [
    "print(friends)"
   ]
  },
  {
   "cell_type": "code",
   "execution_count": 85,
   "metadata": {
    "colab": {
     "base_uri": "https://localhost:8080/"
    },
    "executionInfo": {
     "elapsed": 29,
     "status": "ok",
     "timestamp": 1692601777018,
     "user": {
      "displayName": "Jayasurya Thirumaran",
      "userId": "13318290182123921947"
     },
     "user_tz": -330
    },
    "id": "Cc0P6H4FKgjl",
    "outputId": "2532a3d6-1ab2-45a2-978f-2becd1def642"
   },
   "outputs": [
    {
     "name": "stdout",
     "output_type": "stream",
     "text": [
      "['Joseph', 24, 98.6]\n"
     ]
    }
   ],
   "source": [
    "print(['Joseph', 24, 98.6])"
   ]
  },
  {
   "cell_type": "markdown",
   "metadata": {
    "id": "QUOG4G7BM8GF"
   },
   "source": [
    "A **list** element can be any python object\n",
    "\n",
    " -even another **list**"
   ]
  },
  {
   "cell_type": "code",
   "execution_count": 86,
   "metadata": {
    "colab": {
     "base_uri": "https://localhost:8080/"
    },
    "executionInfo": {
     "elapsed": 28,
     "status": "ok",
     "timestamp": 1692601777018,
     "user": {
      "displayName": "Jayasurya Thirumaran",
      "userId": "13318290182123921947"
     },
     "user_tz": -330
    },
    "id": "_GQH7CunK2j0",
    "outputId": "14eeb98f-338f-482f-ceba-47de1a1bb3cc"
   },
   "outputs": [
    {
     "name": "stdout",
     "output_type": "stream",
     "text": [
      "[1, True, (4-7j), [5, 6], 7, 'Joseph']\n"
     ]
    }
   ],
   "source": [
    "print([1, True, 4-7j, [5, 6], 7, \"Joseph\"])"
   ]
  },
  {
   "cell_type": "markdown",
   "metadata": {
    "id": "LYG8AexdNOqu"
   },
   "source": [
    "A **List** can also be empty"
   ]
  },
  {
   "cell_type": "code",
   "execution_count": 87,
   "metadata": {
    "colab": {
     "base_uri": "https://localhost:8080/"
    },
    "executionInfo": {
     "elapsed": 26,
     "status": "ok",
     "timestamp": 1692601777018,
     "user": {
      "displayName": "Jayasurya Thirumaran",
      "userId": "13318290182123921947"
     },
     "user_tz": -330
    },
    "id": "XqTJWEW4K_17",
    "outputId": "655ba1b7-e9e8-44ed-f31f-48121ff7c494"
   },
   "outputs": [
    {
     "name": "stdout",
     "output_type": "stream",
     "text": [
      "[]\n"
     ]
    }
   ],
   "source": [
    "print([])"
   ]
  },
  {
   "cell_type": "markdown",
   "metadata": {
    "id": "ttEN7urMOZV4"
   },
   "source": [
    "Access the elements insides a **List**"
   ]
  },
  {
   "cell_type": "markdown",
   "metadata": {
    "id": "ij9r84-3O5EW"
   },
   "source": [
    "List **index** starts from 0 which means that the 1st element in the list has 0 as its index"
   ]
  },
  {
   "cell_type": "code",
   "execution_count": 88,
   "metadata": {
    "colab": {
     "base_uri": "https://localhost:8080/"
    },
    "executionInfo": {
     "elapsed": 26,
     "status": "ok",
     "timestamp": 1692601777019,
     "user": {
      "displayName": "Jayasurya Thirumaran",
      "userId": "13318290182123921947"
     },
     "user_tz": -330
    },
    "id": "rldUDTIDOcZC",
    "outputId": "75639753-12ad-4e25-c8f9-831cd973aff2"
   },
   "outputs": [
    {
     "name": "stdout",
     "output_type": "stream",
     "text": [
      "Glenn\n"
     ]
    }
   ],
   "source": [
    "# Index  Joseph - 0, Glenn - 1, Sally - 2\n",
    "friends = ['Joseph', 'Glenn', 'Sally']\n",
    "print(friends[1])"
   ]
  },
  {
   "cell_type": "markdown",
   "metadata": {
    "id": "v34K1xHkQ9TL"
   },
   "source": [
    "Negative indexing for accessing elements in a list. The index of -1 refers to the last item, -2 refers to second last."
   ]
  },
  {
   "cell_type": "code",
   "execution_count": 89,
   "metadata": {
    "colab": {
     "base_uri": "https://localhost:8080/"
    },
    "executionInfo": {
     "elapsed": 24,
     "status": "ok",
     "timestamp": 1692601777019,
     "user": {
      "displayName": "Jayasurya Thirumaran",
      "userId": "13318290182123921947"
     },
     "user_tz": -330
    },
    "id": "kzmk7eh4RLd2",
    "outputId": "78a9e5f8-1f1b-44fa-9822-3b3b12bf6974"
   },
   "outputs": [
    {
     "name": "stdout",
     "output_type": "stream",
     "text": [
      "24\n"
     ]
    }
   ],
   "source": [
    "ages = [20, 22, 24, 25]\n",
    "print(ages[-2])"
   ]
  },
  {
   "cell_type": "markdown",
   "metadata": {
    "id": "UPMaYvbIRkKr"
   },
   "source": [
    "**List** can also contain other list values. The values in these list of list can be accessed using multiple indexes"
   ]
  },
  {
   "cell_type": "code",
   "execution_count": 90,
   "metadata": {
    "colab": {
     "base_uri": "https://localhost:8080/"
    },
    "executionInfo": {
     "elapsed": 22,
     "status": "ok",
     "timestamp": 1692601777019,
     "user": {
      "displayName": "Jayasurya Thirumaran",
      "userId": "13318290182123921947"
     },
     "user_tz": -330
    },
    "id": "Ewahb2j_Rhpe",
    "outputId": "fc33ee1c-da8a-49bb-c4af-df7b78e791c8"
   },
   "outputs": [
    {
     "name": "stdout",
     "output_type": "stream",
     "text": [
      "Sally\n"
     ]
    }
   ],
   "source": [
    "a = [['Joseph', 'Glenn', 'Sally'],[20, 22, 24, 25]]\n",
    "print(a[0][2]) # The first indicates which list values to use, and second indicates values within the list."
   ]
  },
  {
   "cell_type": "code",
   "execution_count": 91,
   "metadata": {
    "colab": {
     "base_uri": "https://localhost:8080/"
    },
    "executionInfo": {
     "elapsed": 20,
     "status": "ok",
     "timestamp": 1692601777019,
     "user": {
      "displayName": "Jayasurya Thirumaran",
      "userId": "13318290182123921947"
     },
     "user_tz": -330
    },
    "id": "onVYhKONTXu_",
    "outputId": "5605221b-4be4-4ce2-a171-9030abaadb45"
   },
   "outputs": [
    {
     "name": "stdout",
     "output_type": "stream",
     "text": [
      "25\n"
     ]
    }
   ],
   "source": [
    "print(a[1][3])"
   ]
  },
  {
   "cell_type": "markdown",
   "metadata": {
    "id": "Ka51StJSUya5"
   },
   "source": [
    "List **Slicing**\n",
    "\n",
    "As index can get single values from a list, slice can get several values from a list in the form of new list(sublists), it is similar like an index, but it has two integers seperated by a colon"
   ]
  },
  {
   "cell_type": "code",
   "execution_count": 92,
   "metadata": {
    "colab": {
     "base_uri": "https://localhost:8080/"
    },
    "executionInfo": {
     "elapsed": 19,
     "status": "ok",
     "timestamp": 1692601777019,
     "user": {
      "displayName": "Jayasurya Thirumaran",
      "userId": "13318290182123921947"
     },
     "user_tz": -330
    },
    "id": "426Ms7wHTeNd",
    "outputId": "2f176afe-4590-4ea0-ad10-e23aecdfc9b6"
   },
   "outputs": [
    {
     "name": "stdout",
     "output_type": "stream",
     "text": [
      "['Joseph', 'Glenn', 'Sally']\n"
     ]
    }
   ],
   "source": [
    "friends = ['Joseph', 'Glenn', 'Sally']\n",
    "print(friends[0:3])"
   ]
  },
  {
   "cell_type": "code",
   "execution_count": 93,
   "metadata": {
    "colab": {
     "base_uri": "https://localhost:8080/"
    },
    "executionInfo": {
     "elapsed": 18,
     "status": "ok",
     "timestamp": 1692601777020,
     "user": {
      "displayName": "Jayasurya Thirumaran",
      "userId": "13318290182123921947"
     },
     "user_tz": -330
    },
    "id": "H-r9HX1rWKEK",
    "outputId": "863bb3bb-9e01-4775-e1e3-1dbeb5cbbe8d"
   },
   "outputs": [
    {
     "name": "stdout",
     "output_type": "stream",
     "text": [
      "['Glenn']\n"
     ]
    }
   ],
   "source": [
    "print(friends[1:2])"
   ]
  },
  {
   "cell_type": "code",
   "execution_count": 94,
   "metadata": {
    "colab": {
     "base_uri": "https://localhost:8080/"
    },
    "executionInfo": {
     "elapsed": 16,
     "status": "ok",
     "timestamp": 1692601777020,
     "user": {
      "displayName": "Jayasurya Thirumaran",
      "userId": "13318290182123921947"
     },
     "user_tz": -330
    },
    "id": "C1IZVt5jWNPt",
    "outputId": "68ec757d-e00e-4daf-9a99-5e65cf43990c"
   },
   "outputs": [
    {
     "name": "stdout",
     "output_type": "stream",
     "text": [
      "['Joseph', 'Glenn']\n"
     ]
    }
   ],
   "source": [
    "print(friends[0:-1])"
   ]
  },
  {
   "cell_type": "code",
   "execution_count": 95,
   "metadata": {
    "colab": {
     "base_uri": "https://localhost:8080/"
    },
    "executionInfo": {
     "elapsed": 15,
     "status": "ok",
     "timestamp": 1692601777020,
     "user": {
      "displayName": "Jayasurya Thirumaran",
      "userId": "13318290182123921947"
     },
     "user_tz": -330
    },
    "id": "s9PcbQ7VWRzh",
    "outputId": "4c8c99a0-f38b-4a29-83bb-9cfdc5b970f0"
   },
   "outputs": [
    {
     "name": "stdout",
     "output_type": "stream",
     "text": [
      "['Glenn', 'Sally']\n"
     ]
    }
   ],
   "source": [
    "print(friends[1:])"
   ]
  },
  {
   "cell_type": "code",
   "execution_count": 96,
   "metadata": {
    "colab": {
     "base_uri": "https://localhost:8080/"
    },
    "executionInfo": {
     "elapsed": 14,
     "status": "ok",
     "timestamp": 1692601777020,
     "user": {
      "displayName": "Jayasurya Thirumaran",
      "userId": "13318290182123921947"
     },
     "user_tz": -330
    },
    "id": "70xDNbJlWVm0",
    "outputId": "54c674ef-fe73-450c-aafa-97de13dd93f5"
   },
   "outputs": [
    {
     "name": "stdout",
     "output_type": "stream",
     "text": [
      "['Sally', 'Glenn', 'Joseph']\n"
     ]
    }
   ],
   "source": [
    "# prints list in reverse order\n",
    "print(friends[::-1])"
   ]
  },
  {
   "cell_type": "markdown",
   "metadata": {
    "id": "nmPt9Zs7XQus"
   },
   "source": [
    "Getting list's **length**"
   ]
  },
  {
   "cell_type": "markdown",
   "metadata": {
    "id": "uJdhxOm5XbAG"
   },
   "source": [
    "The **len()** function will return the number of values that are in a list value passed to it, just like it count number of characters in a string value"
   ]
  },
  {
   "cell_type": "code",
   "execution_count": 97,
   "metadata": {
    "colab": {
     "base_uri": "https://localhost:8080/"
    },
    "executionInfo": {
     "elapsed": 12,
     "status": "ok",
     "timestamp": 1692601777020,
     "user": {
      "displayName": "Jayasurya Thirumaran",
      "userId": "13318290182123921947"
     },
     "user_tz": -330
    },
    "id": "NVYtQZwgXZ2m",
    "outputId": "0c7464e0-b58c-4cf5-9db2-171d088bb1b1"
   },
   "outputs": [
    {
     "name": "stdout",
     "output_type": "stream",
     "text": [
      "3\n"
     ]
    }
   ],
   "source": [
    "friends = ['Joseph', 'Glenn', 'Sally']\n",
    "print(len(friends))"
   ]
  },
  {
   "cell_type": "code",
   "execution_count": 98,
   "metadata": {
    "colab": {
     "base_uri": "https://localhost:8080/"
    },
    "executionInfo": {
     "elapsed": 12,
     "status": "ok",
     "timestamp": 1692601777021,
     "user": {
      "displayName": "Jayasurya Thirumaran",
      "userId": "13318290182123921947"
     },
     "user_tz": -330
    },
    "id": "dSECtvlbXVjl",
    "outputId": "134414ed-a782-4e03-9cd3-33c7c8e8f942"
   },
   "outputs": [
    {
     "name": "stdout",
     "output_type": "stream",
     "text": [
      "4\n"
     ]
    }
   ],
   "source": [
    "a = [1, 2, 'joe', 99]\n",
    "print(len(a))"
   ]
  },
  {
   "cell_type": "markdown",
   "metadata": {
    "id": "aQPTzYalYBQ3"
   },
   "source": [
    "Change/ Update the values inside the list with indexes"
   ]
  },
  {
   "cell_type": "markdown",
   "metadata": {
    "id": "6CaYHCzMYVDp"
   },
   "source": [
    "Strings are '**immutable**'\n",
    "- cannot change the contents of a string\n",
    "- must create a **new string** to make any changes\n",
    "\n"
   ]
  },
  {
   "cell_type": "code",
   "execution_count": 99,
   "metadata": {
    "executionInfo": {
     "elapsed": 10,
     "status": "ok",
     "timestamp": 1692601777021,
     "user": {
      "displayName": "Jayasurya Thirumaran",
      "userId": "13318290182123921947"
     },
     "user_tz": -330
    },
    "id": "tB4LTpNIYH4o"
   },
   "outputs": [],
   "source": [
    "a = 'Hello World'\n",
    "a[0] = 'J'"
   ]
  },
  {
   "cell_type": "markdown",
   "metadata": {
    "id": "D6posNwdYqB3"
   },
   "source": [
    "Lists are '**mutable**'\n",
    "- we can **change** an element of a list using the **index** operator"
   ]
  },
  {
   "cell_type": "code",
   "execution_count": 100,
   "metadata": {
    "colab": {
     "base_uri": "https://localhost:8080/"
    },
    "executionInfo": {
     "elapsed": 10,
     "status": "ok",
     "timestamp": 1692601777021,
     "user": {
      "displayName": "Jayasurya Thirumaran",
      "userId": "13318290182123921947"
     },
     "user_tz": -330
    },
    "id": "nEkGgyrbYpoV",
    "outputId": "d93a209f-21d2-4e28-b5a1-5824e990b94b"
   },
   "outputs": [
    {
     "name": "stdout",
     "output_type": "stream",
     "text": [
      "[20, 22, 24, 25]\n"
     ]
    }
   ],
   "source": [
    "ages = [20, 22, 24, 25]\n",
    "print(ages)"
   ]
  },
  {
   "cell_type": "code",
   "execution_count": 101,
   "metadata": {
    "colab": {
     "base_uri": "https://localhost:8080/"
    },
    "executionInfo": {
     "elapsed": 497,
     "status": "ok",
     "timestamp": 1692601777510,
     "user": {
      "displayName": "Jayasurya Thirumaran",
      "userId": "13318290182123921947"
     },
     "user_tz": -330
    },
    "id": "YH99eaBUcK0C",
    "outputId": "1365e73a-bc27-4cf7-a9e8-47c204f61840"
   },
   "outputs": [
    {
     "name": "stdout",
     "output_type": "stream",
     "text": [
      "[20, 22, 28, 25]\n"
     ]
    }
   ],
   "source": [
    "ages[2] = 28\n",
    "print(ages)"
   ]
  },
  {
   "cell_type": "markdown",
   "metadata": {
    "id": "q8ebutXhc-ew"
   },
   "source": [
    "List **concatenation** and **repetition**\n",
    "\n",
    "- List can be concatenated and replicated just like strings\n",
    "- The **+** operator combines two lists to create a new list value"
   ]
  },
  {
   "cell_type": "code",
   "execution_count": 102,
   "metadata": {
    "colab": {
     "base_uri": "https://localhost:8080/"
    },
    "executionInfo": {
     "elapsed": 58,
     "status": "ok",
     "timestamp": 1692601777511,
     "user": {
      "displayName": "Jayasurya Thirumaran",
      "userId": "13318290182123921947"
     },
     "user_tz": -330
    },
    "id": "-FPjzjgBdRS4",
    "outputId": "d0683024-e341-4b9c-9f03-a1392e38ed7f"
   },
   "outputs": [
    {
     "name": "stdout",
     "output_type": "stream",
     "text": [
      "['Joseph', 'Glenn', 'Sally', 20, 22, 24]\n"
     ]
    }
   ],
   "source": [
    "friends = ['Joseph', 'Glenn', 'Sally']\n",
    "a = friends + [20, 22, 24]\n",
    "\n",
    "print(a)"
   ]
  },
  {
   "cell_type": "markdown",
   "metadata": {
    "id": "z16ZGX31dyZT"
   },
   "source": [
    "- The **x** operator can be used with a list and an integer value to replicate the list"
   ]
  },
  {
   "cell_type": "code",
   "execution_count": 103,
   "metadata": {
    "colab": {
     "base_uri": "https://localhost:8080/"
    },
    "executionInfo": {
     "elapsed": 56,
     "status": "ok",
     "timestamp": 1692601777511,
     "user": {
      "displayName": "Jayasurya Thirumaran",
      "userId": "13318290182123921947"
     },
     "user_tz": -330
    },
    "id": "Nv1x18B5ddRk",
    "outputId": "7ac5bbe4-3e8b-490a-dfa8-a7cc6da0f45d"
   },
   "outputs": [
    {
     "name": "stdout",
     "output_type": "stream",
     "text": [
      "[20, 22, 24, 20, 22, 24, 20, 22, 24]\n"
     ]
    }
   ],
   "source": [
    "print([20, 22, 24] * 3)"
   ]
  },
  {
   "cell_type": "markdown",
   "metadata": {
    "id": "XOK26TIBdB31"
   },
   "source": [
    "**Range** function\n",
    "\n",
    "returns a list of numbers that range from zero to one less than the parameter"
   ]
  },
  {
   "cell_type": "code",
   "execution_count": 104,
   "metadata": {
    "colab": {
     "base_uri": "https://localhost:8080/"
    },
    "executionInfo": {
     "elapsed": 55,
     "status": "ok",
     "timestamp": 1692601777511,
     "user": {
      "displayName": "Jayasurya Thirumaran",
      "userId": "13318290182123921947"
     },
     "user_tz": -330
    },
    "id": "TijK1avOef-N",
    "outputId": "248fd96a-8055-4215-e639-e5eedc7332ca"
   },
   "outputs": [
    {
     "name": "stdout",
     "output_type": "stream",
     "text": [
      "range(0, 4)\n"
     ]
    }
   ],
   "source": [
    "print(range(4))"
   ]
  },
  {
   "cell_type": "code",
   "execution_count": 105,
   "metadata": {
    "colab": {
     "base_uri": "https://localhost:8080/"
    },
    "executionInfo": {
     "elapsed": 53,
     "status": "ok",
     "timestamp": 1692601777511,
     "user": {
      "displayName": "Jayasurya Thirumaran",
      "userId": "13318290182123921947"
     },
     "user_tz": -330
    },
    "id": "Z9MLLGske33W",
    "outputId": "f9a84298-89e2-4d58-f675-92f13541c0df"
   },
   "outputs": [
    {
     "name": "stdout",
     "output_type": "stream",
     "text": [
      "3\n"
     ]
    }
   ],
   "source": [
    "frineds = ['Joseph', 'Glenn', 'Sally']\n",
    "print(len(friends)) # the output when we print len of friends"
   ]
  },
  {
   "cell_type": "code",
   "execution_count": 106,
   "metadata": {
    "colab": {
     "base_uri": "https://localhost:8080/"
    },
    "executionInfo": {
     "elapsed": 52,
     "status": "ok",
     "timestamp": 1692601777511,
     "user": {
      "displayName": "Jayasurya Thirumaran",
      "userId": "13318290182123921947"
     },
     "user_tz": -330
    },
    "id": "Mkk9wgL8fEH_",
    "outputId": "dd52934a-ac49-4ec9-e7e9-bded63299461"
   },
   "outputs": [
    {
     "name": "stdout",
     "output_type": "stream",
     "text": [
      "range(0, 3)\n"
     ]
    }
   ],
   "source": [
    "frineds = ['Joseph', 'Glenn', 'Sally']\n",
    "print(range(len(friends))) # the output will be range of values/elements in a list"
   ]
  },
  {
   "cell_type": "markdown",
   "metadata": {
    "id": "YNDuVFZbfT46"
   },
   "source": [
    "**for loops** with list"
   ]
  },
  {
   "cell_type": "code",
   "execution_count": 107,
   "metadata": {
    "colab": {
     "base_uri": "https://localhost:8080/"
    },
    "executionInfo": {
     "elapsed": 51,
     "status": "ok",
     "timestamp": 1692601777512,
     "user": {
      "displayName": "Jayasurya Thirumaran",
      "userId": "13318290182123921947"
     },
     "user_tz": -330
    },
    "id": "6dgPfrszfS-p",
    "outputId": "1c047481-6e13-4d99-e2a0-4851ba853e3d"
   },
   "outputs": [
    {
     "name": "stdout",
     "output_type": "stream",
     "text": [
      "20\n",
      "22\n",
      "24\n"
     ]
    }
   ],
   "source": [
    "for i in [20, 22, 24]:\n",
    "    print(i)"
   ]
  },
  {
   "cell_type": "code",
   "execution_count": 108,
   "metadata": {
    "colab": {
     "base_uri": "https://localhost:8080/"
    },
    "executionInfo": {
     "elapsed": 50,
     "status": "ok",
     "timestamp": 1692601777512,
     "user": {
      "displayName": "Jayasurya Thirumaran",
      "userId": "13318290182123921947"
     },
     "user_tz": -330
    },
    "id": "8BF0ZoiYipwk",
    "outputId": "efaf5253-8a59-4af3-90d9-6b7d4d4ed1f1"
   },
   "outputs": [
    {
     "name": "stdout",
     "output_type": "stream",
     "text": [
      "0\n",
      "1\n",
      "2\n"
     ]
    }
   ],
   "source": [
    "for i in range(len([20, 22, 24])):\n",
    "    print(i)"
   ]
  },
  {
   "cell_type": "markdown",
   "metadata": {
    "id": "6tKrpDM9i0_z"
   },
   "source": [
    "**Definite Loops**"
   ]
  },
  {
   "cell_type": "code",
   "execution_count": 109,
   "metadata": {
    "colab": {
     "base_uri": "https://localhost:8080/"
    },
    "executionInfo": {
     "elapsed": 48,
     "status": "ok",
     "timestamp": 1692601777512,
     "user": {
      "displayName": "Jayasurya Thirumaran",
      "userId": "13318290182123921947"
     },
     "user_tz": -330
    },
    "id": "4uE_zxw2i3xk",
    "outputId": "8de4247d-41cd-45f8-acc1-1613f3a2ef15"
   },
   "outputs": [
    {
     "name": "stdout",
     "output_type": "stream",
     "text": [
      "Happy New Year: Joseph\n",
      "Happy New Year: Glenn\n",
      "Happy New Year: Sally\n",
      "Done!\n"
     ]
    }
   ],
   "source": [
    "frineds = ['Joseph', 'Glenn', 'Sally']\n",
    "for friend in friends:\n",
    "    print('Happy New Year:', friend)\n",
    "print('Done!')"
   ]
  },
  {
   "cell_type": "code",
   "execution_count": 110,
   "metadata": {
    "colab": {
     "base_uri": "https://localhost:8080/"
    },
    "executionInfo": {
     "elapsed": 47,
     "status": "ok",
     "timestamp": 1692601777512,
     "user": {
      "displayName": "Jayasurya Thirumaran",
      "userId": "13318290182123921947"
     },
     "user_tz": -330
    },
    "id": "G5Um0ST0jWwr",
    "outputId": "053c6152-210c-44d9-e97b-936c0ac3d5ac"
   },
   "outputs": [
    {
     "name": "stdout",
     "output_type": "stream",
     "text": [
      "Happy New Year: Joseph\n",
      "Happy New Year: Glenn\n",
      "Happy New Year: Sally\n",
      "Happy New Year: Joseph\n",
      "Happy New Year: Glenn\n",
      "Happy New Year: Sally\n"
     ]
    }
   ],
   "source": [
    "frineds = ['Joseph', 'Glenn', 'Sally']\n",
    "for friend in friends:\n",
    "    print('Happy New Year:', friend)\n",
    "\n",
    "for i in range(len(friends)):\n",
    "    friend = friends[i]\n",
    "    print('Happy New Year:', friend)"
   ]
  },
  {
   "cell_type": "markdown",
   "metadata": {
    "id": "9rShDGlBj3CT"
   },
   "source": [
    "List **Built-in** **methods**"
   ]
  },
  {
   "cell_type": "code",
   "execution_count": 111,
   "metadata": {
    "colab": {
     "base_uri": "https://localhost:8080/"
    },
    "executionInfo": {
     "elapsed": 45,
     "status": "ok",
     "timestamp": 1692601777512,
     "user": {
      "displayName": "Jayasurya Thirumaran",
      "userId": "13318290182123921947"
     },
     "user_tz": -330
    },
    "id": "6vYsFj9Cj7su",
    "outputId": "e1f6a7fb-5723-46b6-bc2e-0b130085ba13"
   },
   "outputs": [
    {
     "data": {
      "text/plain": [
       "list"
      ]
     },
     "execution_count": 111,
     "metadata": {},
     "output_type": "execute_result"
    }
   ],
   "source": [
    "x = list()\n",
    "type(x) # we get list datatype as output"
   ]
  },
  {
   "cell_type": "code",
   "execution_count": 112,
   "metadata": {
    "colab": {
     "base_uri": "https://localhost:8080/"
    },
    "executionInfo": {
     "elapsed": 41,
     "status": "ok",
     "timestamp": 1692601777513,
     "user": {
      "displayName": "Jayasurya Thirumaran",
      "userId": "13318290182123921947"
     },
     "user_tz": -330
    },
    "id": "IIPjDvtnmY8H",
    "outputId": "a3fc102f-65c3-46c0-e4ae-e67477ad3a1c"
   },
   "outputs": [
    {
     "data": {
      "text/plain": [
       "['__add__',\n",
       " '__class__',\n",
       " '__class_getitem__',\n",
       " '__contains__',\n",
       " '__delattr__',\n",
       " '__delitem__',\n",
       " '__dir__',\n",
       " '__doc__',\n",
       " '__eq__',\n",
       " '__format__',\n",
       " '__ge__',\n",
       " '__getattribute__',\n",
       " '__getitem__',\n",
       " '__gt__',\n",
       " '__hash__',\n",
       " '__iadd__',\n",
       " '__imul__',\n",
       " '__init__',\n",
       " '__init_subclass__',\n",
       " '__iter__',\n",
       " '__le__',\n",
       " '__len__',\n",
       " '__lt__',\n",
       " '__mul__',\n",
       " '__ne__',\n",
       " '__new__',\n",
       " '__reduce__',\n",
       " '__reduce_ex__',\n",
       " '__repr__',\n",
       " '__reversed__',\n",
       " '__rmul__',\n",
       " '__setattr__',\n",
       " '__setitem__',\n",
       " '__sizeof__',\n",
       " '__str__',\n",
       " '__subclasshook__',\n",
       " 'append',\n",
       " 'clear',\n",
       " 'copy',\n",
       " 'count',\n",
       " 'extend',\n",
       " 'index',\n",
       " 'insert',\n",
       " 'pop',\n",
       " 'remove',\n",
       " 'reverse',\n",
       " 'sort']"
      ]
     },
     "execution_count": 112,
     "metadata": {},
     "output_type": "execute_result"
    }
   ],
   "source": [
    "dir(x) # we get all the list builtin methods"
   ]
  },
  {
   "cell_type": "markdown",
   "metadata": {
    "id": "pv6I2Smen8-o"
   },
   "source": [
    "Finding a value in list with **index()** method"
   ]
  },
  {
   "cell_type": "markdown",
   "metadata": {
    "id": "SlecIeyjoG1u"
   },
   "source": [
    "List values have an **index()** method that can be passed a value, and if that value exits in the list, the index of the value is returned"
   ]
  },
  {
   "cell_type": "code",
   "execution_count": 113,
   "metadata": {
    "colab": {
     "base_uri": "https://localhost:8080/"
    },
    "executionInfo": {
     "elapsed": 40,
     "status": "ok",
     "timestamp": 1692601777513,
     "user": {
      "displayName": "Jayasurya Thirumaran",
      "userId": "13318290182123921947"
     },
     "user_tz": -330
    },
    "id": "N1_kC1Qun7rc",
    "outputId": "e7e816e8-a450-45bb-a145-5f8caaaa5338"
   },
   "outputs": [
    {
     "data": {
      "text/plain": [
       "1"
      ]
     },
     "execution_count": 113,
     "metadata": {},
     "output_type": "execute_result"
    }
   ],
   "source": [
    "frineds = ['Joseph', 'Glenn', 'Sally']\n",
    "friends.index('Glenn')"
   ]
  },
  {
   "cell_type": "code",
   "execution_count": 114,
   "metadata": {
    "colab": {
     "base_uri": "https://localhost:8080/"
    },
    "executionInfo": {
     "elapsed": 38,
     "status": "ok",
     "timestamp": 1692601777513,
     "user": {
      "displayName": "Jayasurya Thirumaran",
      "userId": "13318290182123921947"
     },
     "user_tz": -330
    },
    "id": "DFA4KH6Hoefp",
    "outputId": "76ac20ce-b968-4ce6-d2ef-3931182bf3e9"
   },
   "outputs": [
    {
     "data": {
      "text/plain": [
       "2"
      ]
     },
     "execution_count": 114,
     "metadata": {},
     "output_type": "execute_result"
    }
   ],
   "source": [
    "friends.index('Sally')"
   ]
  },
  {
   "cell_type": "markdown",
   "metadata": {
    "id": "g-pinWSwomoq"
   },
   "source": [
    "if the values isn't in the list, then python produces a **ValueError** error"
   ]
  },
  {
   "cell_type": "code",
   "execution_count": 115,
   "metadata": {
    "executionInfo": {
     "elapsed": 36,
     "status": "ok",
     "timestamp": 1692601777513,
     "user": {
      "displayName": "Jayasurya Thirumaran",
      "userId": "13318290182123921947"
     },
     "user_tz": -330
    },
    "id": "FrRzu_VBohO1"
   },
   "outputs": [],
   "source": [
    "friends.index('book')"
   ]
  },
  {
   "cell_type": "markdown",
   "metadata": {
    "id": "M-OjZ8qppCXw"
   },
   "source": [
    "**Building a List from Scratch**\n",
    "\n",
    "- We can create an empty list and then add elements using the **append()** method"
   ]
  },
  {
   "cell_type": "code",
   "execution_count": 116,
   "metadata": {
    "colab": {
     "base_uri": "https://localhost:8080/"
    },
    "executionInfo": {
     "elapsed": 36,
     "status": "ok",
     "timestamp": 1692601777513,
     "user": {
      "displayName": "Jayasurya Thirumaran",
      "userId": "13318290182123921947"
     },
     "user_tz": -330
    },
    "id": "zhw6W8VppE8g",
    "outputId": "3523eab7-2f90-465d-ef2b-7e85efa10f8a"
   },
   "outputs": [
    {
     "name": "stdout",
     "output_type": "stream",
     "text": [
      "['Stale', 99]\n"
     ]
    }
   ],
   "source": [
    "f = list()\n",
    "f.append('Stale')\n",
    "f.append(99)\n",
    "\n",
    "print(f)"
   ]
  },
  {
   "cell_type": "markdown",
   "metadata": {
    "id": "k_m5BIoKpcHx"
   },
   "source": [
    "the **list** stays in order and new elements are **added** at the end of the **list**"
   ]
  },
  {
   "cell_type": "code",
   "execution_count": 117,
   "metadata": {
    "colab": {
     "base_uri": "https://localhost:8080/"
    },
    "executionInfo": {
     "elapsed": 35,
     "status": "ok",
     "timestamp": 1692601777514,
     "user": {
      "displayName": "Jayasurya Thirumaran",
      "userId": "13318290182123921947"
     },
     "user_tz": -330
    },
    "id": "yRzMEoxRpveD",
    "outputId": "4bfa322f-e7fa-41bd-e8dc-5e20bf54b6ab"
   },
   "outputs": [
    {
     "name": "stdout",
     "output_type": "stream",
     "text": [
      "['Stale', 99, 'book']\n"
     ]
    }
   ],
   "source": [
    "f.append('book')\n",
    "print(f)"
   ]
  },
  {
   "cell_type": "markdown",
   "metadata": {
    "id": "4E53iDlmp1_F"
   },
   "source": [
    "The **insert()** method can insert a value at any index in the list"
   ]
  },
  {
   "cell_type": "code",
   "execution_count": 118,
   "metadata": {
    "colab": {
     "base_uri": "https://localhost:8080/"
    },
    "executionInfo": {
     "elapsed": 33,
     "status": "ok",
     "timestamp": 1692601777514,
     "user": {
      "displayName": "Jayasurya Thirumaran",
      "userId": "13318290182123921947"
     },
     "user_tz": -330
    },
    "id": "iPR6XBjzp8rl",
    "outputId": "12949070-1327-4463-8508-885cfcae2181"
   },
   "outputs": [
    {
     "name": "stdout",
     "output_type": "stream",
     "text": [
      "['Stale', 'dog', 99, 'book']\n"
     ]
    }
   ],
   "source": [
    "f.insert(1,'dog')\n",
    "print(f)"
   ]
  },
  {
   "cell_type": "markdown",
   "metadata": {
    "id": "WcmX2RaeqbB9"
   },
   "source": [
    "Is something in a list?\n",
    "\n",
    "- Python provides two **operations** that let you check if an item is in a list\n",
    "- These are logical operators that return **True** or **False**\n",
    "- They do not modify the list"
   ]
  },
  {
   "cell_type": "code",
   "execution_count": 119,
   "metadata": {
    "executionInfo": {
     "elapsed": 31,
     "status": "ok",
     "timestamp": 1692601777514,
     "user": {
      "displayName": "Jayasurya Thirumaran",
      "userId": "13318290182123921947"
     },
     "user_tz": -330
    },
    "id": "6moh-wtWqauY"
   },
   "outputs": [],
   "source": [
    "p = [1, 9, 21, 10, 16]"
   ]
  },
  {
   "cell_type": "code",
   "execution_count": 120,
   "metadata": {
    "colab": {
     "base_uri": "https://localhost:8080/"
    },
    "executionInfo": {
     "elapsed": 31,
     "status": "ok",
     "timestamp": 1692601777514,
     "user": {
      "displayName": "Jayasurya Thirumaran",
      "userId": "13318290182123921947"
     },
     "user_tz": -330
    },
    "id": "I47Ns9_orCCw",
    "outputId": "734bc6a4-d32c-470a-981b-a5cc5eb301d5"
   },
   "outputs": [
    {
     "data": {
      "text/plain": [
       "True"
      ]
     },
     "execution_count": 120,
     "metadata": {},
     "output_type": "execute_result"
    }
   ],
   "source": [
    "9 in p"
   ]
  },
  {
   "cell_type": "code",
   "execution_count": 121,
   "metadata": {
    "colab": {
     "base_uri": "https://localhost:8080/"
    },
    "executionInfo": {
     "elapsed": 30,
     "status": "ok",
     "timestamp": 1692601777515,
     "user": {
      "displayName": "Jayasurya Thirumaran",
      "userId": "13318290182123921947"
     },
     "user_tz": -330
    },
    "id": "NYz0MFcsrDst",
    "outputId": "f6d8ab95-693c-4fde-be15-7a510d7756ef"
   },
   "outputs": [
    {
     "data": {
      "text/plain": [
       "False"
      ]
     },
     "execution_count": 121,
     "metadata": {},
     "output_type": "execute_result"
    }
   ],
   "source": [
    "15 in p"
   ]
  },
  {
   "cell_type": "code",
   "execution_count": 122,
   "metadata": {
    "colab": {
     "base_uri": "https://localhost:8080/"
    },
    "executionInfo": {
     "elapsed": 28,
     "status": "ok",
     "timestamp": 1692601777515,
     "user": {
      "displayName": "Jayasurya Thirumaran",
      "userId": "13318290182123921947"
     },
     "user_tz": -330
    },
    "id": "HGzjcHysrtzu",
    "outputId": "d5b2c917-c2b6-4a41-f71b-abdb7ffbfbb0"
   },
   "outputs": [
    {
     "data": {
      "text/plain": [
       "True"
      ]
     },
     "execution_count": 122,
     "metadata": {},
     "output_type": "execute_result"
    }
   ],
   "source": [
    "20 not in p"
   ]
  },
  {
   "cell_type": "markdown",
   "metadata": {
    "id": "2wMUWEqqrxAp"
   },
   "source": [
    "**Lists are in Order**\n",
    "\n",
    "- lists of numbers values or lists of strings can be sorted with the **sort()** method"
   ]
  },
  {
   "cell_type": "code",
   "execution_count": 123,
   "metadata": {
    "colab": {
     "base_uri": "https://localhost:8080/"
    },
    "executionInfo": {
     "elapsed": 26,
     "status": "ok",
     "timestamp": 1692601777515,
     "user": {
      "displayName": "Jayasurya Thirumaran",
      "userId": "13318290182123921947"
     },
     "user_tz": -330
    },
    "id": "ZWG15xQWr9zn",
    "outputId": "972ddc59-ff51-4289-97fd-1aa39bc779c3"
   },
   "outputs": [
    {
     "name": "stdout",
     "output_type": "stream",
     "text": [
      "['Glenn', 'Joseph', 'Sally']\n"
     ]
    }
   ],
   "source": [
    "friends = ['Joseph', 'Glenn', 'Sally']\n",
    "\n",
    "friends.sort() # returns string according to alphabetical order\n",
    "print(friends)"
   ]
  },
  {
   "cell_type": "markdown",
   "metadata": {
    "id": "Rty9btNKr9hV"
   },
   "source": [
    "- Can also pass **True** for the reverse keywords arguments to have **sort()**, sort the values in reverse order"
   ]
  },
  {
   "cell_type": "code",
   "execution_count": 124,
   "metadata": {
    "colab": {
     "base_uri": "https://localhost:8080/"
    },
    "executionInfo": {
     "elapsed": 24,
     "status": "ok",
     "timestamp": 1692601777515,
     "user": {
      "displayName": "Jayasurya Thirumaran",
      "userId": "13318290182123921947"
     },
     "user_tz": -330
    },
    "id": "RRRVvA6ysroN",
    "outputId": "2063972f-36f4-44c5-f28c-83046a7bca3d"
   },
   "outputs": [
    {
     "name": "stdout",
     "output_type": "stream",
     "text": [
      "['Sally', 'Joseph', 'Glenn']\n"
     ]
    }
   ],
   "source": [
    "friends.sort(reverse=True)\n",
    "print(friends)"
   ]
  },
  {
   "cell_type": "markdown",
   "metadata": {
    "id": "yb__zTc7swhD"
   },
   "source": [
    "- The remove() method removes the first accurance of the element with the specified value"
   ]
  },
  {
   "cell_type": "code",
   "execution_count": 125,
   "metadata": {
    "colab": {
     "base_uri": "https://localhost:8080/"
    },
    "executionInfo": {
     "elapsed": 24,
     "status": "ok",
     "timestamp": 1692601777516,
     "user": {
      "displayName": "Jayasurya Thirumaran",
      "userId": "13318290182123921947"
     },
     "user_tz": -330
    },
    "id": "cMR98w_fs5iG",
    "outputId": "9b36ae67-4878-4968-fb9b-40c25ab15cd3"
   },
   "outputs": [
    {
     "name": "stdout",
     "output_type": "stream",
     "text": [
      "['Sally', 'Glenn']\n"
     ]
    }
   ],
   "source": [
    "friends.remove('Joseph')\n",
    "print(friends)"
   ]
  },
  {
   "cell_type": "markdown",
   "metadata": {
    "id": "EwLPAfgstYRh"
   },
   "source": [
    "**Built-in Functions and Lists**\n",
    "\n",
    "- There are a number of **functions** built-in into **python** that take **list** as parameters\n",
    "- Remember the loops we built?\n",
    "these are much simpler\n"
   ]
  },
  {
   "cell_type": "code",
   "execution_count": 126,
   "metadata": {
    "colab": {
     "base_uri": "https://localhost:8080/"
    },
    "executionInfo": {
     "elapsed": 22,
     "status": "ok",
     "timestamp": 1692601777516,
     "user": {
      "displayName": "Jayasurya Thirumaran",
      "userId": "13318290182123921947"
     },
     "user_tz": -330
    },
    "id": "W6Sp9QFxtxF3",
    "outputId": "b64ecae8-6c14-457f-9726-1ade00378160"
   },
   "outputs": [
    {
     "name": "stdout",
     "output_type": "stream",
     "text": [
      "6\n"
     ]
    }
   ],
   "source": [
    "nums = [3, 41, 12, 9, 74, 15]\n",
    "print(len(nums))"
   ]
  },
  {
   "cell_type": "code",
   "execution_count": 127,
   "metadata": {
    "colab": {
     "base_uri": "https://localhost:8080/"
    },
    "executionInfo": {
     "elapsed": 20,
     "status": "ok",
     "timestamp": 1692601777516,
     "user": {
      "displayName": "Jayasurya Thirumaran",
      "userId": "13318290182123921947"
     },
     "user_tz": -330
    },
    "id": "R0a9TmNJt8Sn",
    "outputId": "90f5a5e8-8e12-4d43-f6cf-d14e5608a0d5"
   },
   "outputs": [
    {
     "name": "stdout",
     "output_type": "stream",
     "text": [
      "74\n"
     ]
    }
   ],
   "source": [
    "print(max(nums))"
   ]
  },
  {
   "cell_type": "code",
   "execution_count": 128,
   "metadata": {
    "colab": {
     "base_uri": "https://localhost:8080/"
    },
    "executionInfo": {
     "elapsed": 18,
     "status": "ok",
     "timestamp": 1692601777516,
     "user": {
      "displayName": "Jayasurya Thirumaran",
      "userId": "13318290182123921947"
     },
     "user_tz": -330
    },
    "id": "xmhfc97Et_BB",
    "outputId": "03ee8a1e-93d2-4606-d173-0a7c3e9759fe"
   },
   "outputs": [
    {
     "name": "stdout",
     "output_type": "stream",
     "text": [
      "3\n"
     ]
    }
   ],
   "source": [
    "print(min(nums))"
   ]
  },
  {
   "cell_type": "code",
   "execution_count": 129,
   "metadata": {
    "colab": {
     "base_uri": "https://localhost:8080/"
    },
    "executionInfo": {
     "elapsed": 16,
     "status": "ok",
     "timestamp": 1692601777516,
     "user": {
      "displayName": "Jayasurya Thirumaran",
      "userId": "13318290182123921947"
     },
     "user_tz": -330
    },
    "id": "TkSu3oPYuBJy",
    "outputId": "7f9f7844-b27b-473e-a027-213ea255cf50"
   },
   "outputs": [
    {
     "name": "stdout",
     "output_type": "stream",
     "text": [
      "154\n"
     ]
    }
   ],
   "source": [
    "print(sum(nums))"
   ]
  },
  {
   "cell_type": "code",
   "execution_count": 130,
   "metadata": {
    "colab": {
     "base_uri": "https://localhost:8080/"
    },
    "executionInfo": {
     "elapsed": 15,
     "status": "ok",
     "timestamp": 1692601777517,
     "user": {
      "displayName": "Jayasurya Thirumaran",
      "userId": "13318290182123921947"
     },
     "user_tz": -330
    },
    "id": "-nIpDcRauC5s",
    "outputId": "f7b60d0f-62c4-4d1f-e739-ab21007e9028"
   },
   "outputs": [
    {
     "name": "stdout",
     "output_type": "stream",
     "text": [
      "25.666666666666668\n"
     ]
    }
   ],
   "source": [
    "print(sum(nums)/len(nums))"
   ]
  },
  {
   "cell_type": "markdown",
   "metadata": {
    "id": "DV-gmwvRuOnR"
   },
   "source": [
    "**Working with lists**"
   ]
  },
  {
   "cell_type": "code",
   "execution_count": 131,
   "metadata": {
    "colab": {
     "base_uri": "https://localhost:8080/"
    },
    "executionInfo": {
     "elapsed": 43014,
     "status": "ok",
     "timestamp": 1692601820518,
     "user": {
      "displayName": "Jayasurya Thirumaran",
      "userId": "13318290182123921947"
     },
     "user_tz": -330
    },
    "id": "VVjtrfUJuQ9P",
    "outputId": "cf8ee20f-f691-47ec-88ae-02749eb8f74b"
   },
   "outputs": [
    {
     "name": "stdout",
     "output_type": "stream",
     "text": [
      "Enter a number: 10\n",
      "Enter a number: 20\n",
      "Enter a number: 30\n",
      "Enter a number: 10\n",
      "Enter a number: 11\n",
      "Enter a number: 12\n",
      "Enter a number: done\n",
      "Average: 15.5\n"
     ]
    }
   ],
   "source": [
    "total = 0\n",
    "count = 0\n",
    "while True:\n",
    "    inp = input('Enter a number: ')\n",
    "    if inp == 'done':\n",
    "        break\n",
    "    value = float(inp)\n",
    "    total = total + value\n",
    "    count = count + 1\n",
    "\n",
    "average = total / count\n",
    "print('Average:', average)"
   ]
  },
  {
   "cell_type": "markdown",
   "metadata": {
    "id": "hrRmUsTvvDec"
   },
   "source": [
    "Rewrite the above code using lists"
   ]
  },
  {
   "cell_type": "code",
   "execution_count": 132,
   "metadata": {
    "colab": {
     "base_uri": "https://localhost:8080/"
    },
    "executionInfo": {
     "elapsed": 32894,
     "status": "ok",
     "timestamp": 1692601853397,
     "user": {
      "displayName": "Jayasurya Thirumaran",
      "userId": "13318290182123921947"
     },
     "user_tz": -330
    },
    "id": "sAZw0BBRu3xH",
    "outputId": "852cffef-3c35-4ef9-88bd-f2c6b85934b7"
   },
   "outputs": [
    {
     "name": "stdout",
     "output_type": "stream",
     "text": [
      "Enter a number: 13\n",
      "Enter a number: 14\n",
      "Enter a number: 15\n",
      "Enter a number: done\n",
      "14.0\n"
     ]
    }
   ],
   "source": [
    "numlist = list()\n",
    "\n",
    "while True:\n",
    "    inp = input('Enter a number: ')\n",
    "    if inp == 'done':\n",
    "        break\n",
    "    value = float(inp)\n",
    "    numlist.append(value)\n",
    "\n",
    "average = sum(numlist)/ len(numlist)\n",
    "print(average)"
   ]
  },
  {
   "cell_type": "markdown",
   "metadata": {
    "id": "SU3X2j2MxVa0"
   },
   "source": [
    "**Best Friends: strings and Lists**"
   ]
  },
  {
   "cell_type": "code",
   "execution_count": 133,
   "metadata": {
    "colab": {
     "base_uri": "https://localhost:8080/"
    },
    "executionInfo": {
     "elapsed": 29,
     "status": "ok",
     "timestamp": 1692601853397,
     "user": {
      "displayName": "Jayasurya Thirumaran",
      "userId": "13318290182123921947"
     },
     "user_tz": -330
    },
    "id": "BoAs9hIfxa8T",
    "outputId": "00f57f85-667d-4762-b07c-799ce1ac1750"
   },
   "outputs": [
    {
     "name": "stdout",
     "output_type": "stream",
     "text": [
      "['with', 'three', 'words']\n"
     ]
    }
   ],
   "source": [
    "a = 'with three words'\n",
    "\n",
    "b = a.split()\n",
    "print(b)"
   ]
  },
  {
   "cell_type": "code",
   "execution_count": 134,
   "metadata": {
    "colab": {
     "base_uri": "https://localhost:8080/"
    },
    "executionInfo": {
     "elapsed": 29,
     "status": "ok",
     "timestamp": 1692601853398,
     "user": {
      "displayName": "Jayasurya Thirumaran",
      "userId": "13318290182123921947"
     },
     "user_tz": -330
    },
    "id": "3q5FWq5YxjX0",
    "outputId": "022f53a2-1557-4b72-b0a7-254ac00639f9"
   },
   "outputs": [
    {
     "name": "stdout",
     "output_type": "stream",
     "text": [
      "3\n"
     ]
    }
   ],
   "source": [
    "print(len(b))"
   ]
  },
  {
   "cell_type": "code",
   "execution_count": 135,
   "metadata": {
    "colab": {
     "base_uri": "https://localhost:8080/"
    },
    "executionInfo": {
     "elapsed": 27,
     "status": "ok",
     "timestamp": 1692601853398,
     "user": {
      "displayName": "Jayasurya Thirumaran",
      "userId": "13318290182123921947"
     },
     "user_tz": -330
    },
    "id": "moebEVZIxlGG",
    "outputId": "3b9751e3-2144-4ec2-a7bf-39f752d52ca6"
   },
   "outputs": [
    {
     "name": "stdout",
     "output_type": "stream",
     "text": [
      "with\n"
     ]
    }
   ],
   "source": [
    "print(b[0])"
   ]
  },
  {
   "cell_type": "markdown",
   "metadata": {
    "id": "mXF_ZzEBxnQ1"
   },
   "source": [
    "**split** breaks a string into parts and produces a list of strings. we think of there as words. we can **access** a particular word or **loop** through all the words."
   ]
  },
  {
   "cell_type": "code",
   "execution_count": 136,
   "metadata": {
    "colab": {
     "base_uri": "https://localhost:8080/"
    },
    "executionInfo": {
     "elapsed": 25,
     "status": "ok",
     "timestamp": 1692601853398,
     "user": {
      "displayName": "Jayasurya Thirumaran",
      "userId": "13318290182123921947"
     },
     "user_tz": -330
    },
    "id": "o_W9wf6Gx9L5",
    "outputId": "6004d61c-bdfb-450f-c17f-2c3d443c0b27"
   },
   "outputs": [
    {
     "name": "stdout",
     "output_type": "stream",
     "text": [
      "['with', 'three', 'words']\n",
      "with\n",
      "three\n",
      "words\n"
     ]
    }
   ],
   "source": [
    "print(b)\n",
    "\n",
    "for w in b:\n",
    "    print(w)"
   ]
  },
  {
   "cell_type": "markdown",
   "metadata": {
    "id": "vN0jWfMjyEXE"
   },
   "source": [
    "**Use of Delimiter**\n",
    "\n",
    "- when you do not specify a **delimeter**, multiple spaces are treated like one delimeter\n",
    "- You can specify what **delimeter** character to use in the **splitting**"
   ]
  },
  {
   "cell_type": "code",
   "execution_count": 137,
   "metadata": {
    "colab": {
     "base_uri": "https://localhost:8080/"
    },
    "executionInfo": {
     "elapsed": 24,
     "status": "ok",
     "timestamp": 1692601853398,
     "user": {
      "displayName": "Jayasurya Thirumaran",
      "userId": "13318290182123921947"
     },
     "user_tz": -330
    },
    "id": "cTdXbSybx_Ie",
    "outputId": "5bece2d4-908b-4f6e-e1bd-d81e327f7ec4"
   },
   "outputs": [
    {
     "name": "stdout",
     "output_type": "stream",
     "text": [
      "['A', 'lot', 'of', 'spaces']\n"
     ]
    }
   ],
   "source": [
    "line = 'A lot of spaces'\n",
    "a = line.split()\n",
    "print(a)"
   ]
  },
  {
   "cell_type": "code",
   "execution_count": 138,
   "metadata": {
    "colab": {
     "base_uri": "https://localhost:8080/"
    },
    "executionInfo": {
     "elapsed": 21,
     "status": "ok",
     "timestamp": 1692601853398,
     "user": {
      "displayName": "Jayasurya Thirumaran",
      "userId": "13318290182123921947"
     },
     "user_tz": -330
    },
    "id": "HCN6pjq0yagp",
    "outputId": "5b0d8072-8da1-4d8b-b42d-90f3b0c479af"
   },
   "outputs": [
    {
     "name": "stdout",
     "output_type": "stream",
     "text": [
      "['first;second;third']\n"
     ]
    }
   ],
   "source": [
    "line = 'first;second;third'\n",
    "b = line.split()\n",
    "print(b)"
   ]
  },
  {
   "cell_type": "code",
   "execution_count": 139,
   "metadata": {
    "colab": {
     "base_uri": "https://localhost:8080/"
    },
    "executionInfo": {
     "elapsed": 20,
     "status": "ok",
     "timestamp": 1692601853399,
     "user": {
      "displayName": "Jayasurya Thirumaran",
      "userId": "13318290182123921947"
     },
     "user_tz": -330
    },
    "id": "MOULibdAyi5A",
    "outputId": "aa8f0c20-d16c-47df-a439-7bdaf0094324"
   },
   "outputs": [
    {
     "name": "stdout",
     "output_type": "stream",
     "text": [
      "1\n"
     ]
    }
   ],
   "source": [
    "print(len(b))"
   ]
  },
  {
   "cell_type": "code",
   "execution_count": 140,
   "metadata": {
    "colab": {
     "base_uri": "https://localhost:8080/"
    },
    "executionInfo": {
     "elapsed": 18,
     "status": "ok",
     "timestamp": 1692601853399,
     "user": {
      "displayName": "Jayasurya Thirumaran",
      "userId": "13318290182123921947"
     },
     "user_tz": -330
    },
    "id": "QkkKazkGymmD",
    "outputId": "6738d8b3-5e29-432c-eb71-3b0a6a7b34d9"
   },
   "outputs": [
    {
     "name": "stdout",
     "output_type": "stream",
     "text": [
      "['first', 'second', 'third']\n"
     ]
    }
   ],
   "source": [
    "b = line.split(';')\n",
    "print(b)"
   ]
  },
  {
   "cell_type": "code",
   "execution_count": 141,
   "metadata": {
    "colab": {
     "base_uri": "https://localhost:8080/"
    },
    "executionInfo": {
     "elapsed": 16,
     "status": "ok",
     "timestamp": 1692601853399,
     "user": {
      "displayName": "Jayasurya Thirumaran",
      "userId": "13318290182123921947"
     },
     "user_tz": -330
    },
    "id": "k1VQzA2wyuQf",
    "outputId": "6bd02619-c6b3-4f47-f2e6-3a91218acad4"
   },
   "outputs": [
    {
     "name": "stdout",
     "output_type": "stream",
     "text": [
      "3\n"
     ]
    }
   ],
   "source": [
    "print(len(b))"
   ]
  }
 ],
 "metadata": {
  "colab": {
   "provenance": []
  },
  "kernelspec": {
   "display_name": "Python 3",
   "name": "python3"
  },
  "language_info": {
   "name": "python"
  }
 },
 "nbformat": 4,
 "nbformat_minor": 0
}
