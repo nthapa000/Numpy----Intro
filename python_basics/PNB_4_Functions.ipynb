{
 "cells": [
  {
   "cell_type": "markdown",
   "metadata": {
    "id": "z3HaSE94quKx"
   },
   "source": [
    "## Practice Notebook\n",
    "\n",
    "\n"
   ]
  },
  {
   "cell_type": "markdown",
   "metadata": {
    "id": "cjtwSnDTNwpI"
   },
   "source": [
    "#### Manually Created Functions\n",
    "Functions are very easy to write in python and all non-trivial programs have functions. Function names have the same rules as variable names.\n",
    "\n",
    "#### Built in Functions\n",
    "Python comes with a nice set of built-in functions\n",
    "The complete set can be seen at:\n",
    "https://docs.python.org/3.6/library/functions.html\n",
    "\n",
    "https://docs.python.org/3/library/functions.html \n",
    "\n",
    "We take a look at the most used ones here. "
   ]
  },
  {
   "cell_type": "markdown",
   "metadata": {
    "id": "icKsHSwnULhw"
   },
   "source": [
    "## Manually Created Functions"
   ]
  },
  {
   "cell_type": "markdown",
   "metadata": {
    "id": "gRs6bMS-YUgN"
   },
   "source": [
    "#### Exercise 01: Build a function that takes the below string as a parameter and returns the words in the given string in backward order.\n",
    "\n",
    "Hint: [Split the words and join them in the reverse order using ' '.join(iterable)](https://docs.python.org/3/library/stdtypes.html)"
   ]
  },
  {
   "cell_type": "code",
   "execution_count": null,
   "metadata": {
    "id": "7zS2WRHBYUgR"
   },
   "outputs": [
    {
     "name": "stdout",
     "output_type": "stream",
     "text": [
      "['johnny', 'is', 'name', 'my']\n",
      "johnny is name my\n"
     ]
    }
   ],
   "source": [
    "string1 = \"my name is johnny\"\n",
    "def reverse(strr):\n",
    "    words = strr.split()\n",
    "    reversed_words = words[::-1]\n",
    "    # print(reversed_words)\n",
    "    return \" \".join(reversed_words)\n",
    "\n",
    "print(reverse(string1))"
   ]
  },
  {
   "cell_type": "code",
   "execution_count": null,
   "metadata": {
    "id": "8YbeeR45dDAJ"
   },
   "outputs": [],
   "source": [
    "## YOUR CODE HERE"
   ]
  },
  {
   "cell_type": "markdown",
   "metadata": {
    "id": "QmjnX-rNkxxe"
   },
   "source": [
    "#### Exercise 02: For the given tuple of numbers, do the following:\n",
    "* Write a function which takes an integer 'N' as a parameter and returns the sum of multiples of 3 or 5 between 0 and N (limit). Where N is any element from the given tuple.\n",
    "* Print all the sum of multiples for each element from the tuple.\n",
    "* Example: If we list all the natural numbers less than 10 that are multiples of 3 or 5, we get 3, 5, 6, and 9 and their sum is 23"
   ]
  },
  {
   "cell_type": "code",
   "execution_count": null,
   "metadata": {
    "id": "8aEXBfFAlXhD"
   },
   "outputs": [],
   "source": [
    "tuple2 = (10, 20, 30, 40, 50)"
   ]
  },
  {
   "cell_type": "code",
   "execution_count": 4,
   "metadata": {
    "id": "GpyN1zSKRS-_"
   },
   "outputs": [
    {
     "name": "stdout",
     "output_type": "stream",
     "text": [
      "23\n"
     ]
    }
   ],
   "source": [
    "## YOUR CODE HERE\n",
    "def multiple_3_5(n):\n",
    "    sum = 0\n",
    "    for i in range(n):\n",
    "        if(i%3==0 or i%5==0):\n",
    "            sum = sum + i\n",
    "    print(sum)\n",
    "\n",
    "multiple_3_5(10)"
   ]
  },
  {
   "cell_type": "markdown",
   "metadata": {
    "id": "Eush4rnY_Gy2"
   },
   "source": [
    "#### Exercise 03: Build a function to print prime numbers within the given range."
   ]
  },
  {
   "cell_type": "code",
   "execution_count": 7,
   "metadata": {
    "id": "XOWLvObDvVNQ"
   },
   "outputs": [
    {
     "name": "stdout",
     "output_type": "stream",
     "text": [
      "2 3 5 7 11 13 17 19 "
     ]
    }
   ],
   "source": [
    "limit = 20\n",
    "## YOUR CODE HERE\n",
    "\n",
    "def print_prime(n):\n",
    "    for i in range(1,n+1):\n",
    "        count = 0\n",
    "        for j in range(1,i+1):\n",
    "            if(i%j==0):\n",
    "                count = count + 1\n",
    "        if(count == 2):\n",
    "            print(i, end=\" \")\n",
    "\n",
    "print_prime(limit)\n",
    "    "
   ]
  },
  {
   "cell_type": "markdown",
   "metadata": {
    "id": "JoecaqnzRahf"
   },
   "source": [
    "#### Exercise 4: Rock Paper Scissors: Complete the function below that takes the given input word as a parameter and selects a random element from the words list. It then prints the random word within the function and returns a string, declaring 'win' or 'lose' or 'tie'.\n",
    "\n",
    "Example: Random input= 'Scissors', User input= Paper, Output = 'lose'\n",
    "\n",
    "Hint: [random.choice](https://docs.python.org/3/library/random.html)"
   ]
  },
  {
   "cell_type": "code",
   "execution_count": null,
   "metadata": {
    "id": "-hXoV_CdR9Os"
   },
   "outputs": [
    {
     "name": "stdout",
     "output_type": "stream",
     "text": [
      "User Move:  Papr\n",
      "Computer Move:  Rock\n",
      "invalid input\n"
     ]
    }
   ],
   "source": [
    "import random\n",
    "words = ['Rock','Paper','Scissors']\n",
    "input  = 'Paper'\n",
    "\n",
    "def game(input):\n",
    "  ## Complete the function\n",
    "  random_move = random.choice(words)\n",
    "  print('User Move: ',input)\n",
    "  print('Computer Move: ',random_move)\n",
    "  if((input == 'Rock' and random_move == 'Rock') or (input == 'Scissors' and random_move == 'Scissors') or (input == 'Paper' and random_move == 'Paper')):\n",
    "    print('tie')\n",
    "  elif((input == 'Rock' and random_move == 'Paper') or (input == 'Scissors' and random_move == 'Rock') or (input == 'Paper' and random_move == 'Scissors')):\n",
    "    print('lose')\n",
    "  elif((input == 'Rock' and random_move == 'Scissors') or (input == 'Scissors' and random_move == 'Paper') or (input == 'Paper' and random_move == 'Rock')):\n",
    "    print('win')\n",
    "  else:\n",
    "    print(\"invalid input\")\n",
    "game(input)"
   ]
  },
  {
   "cell_type": "markdown",
   "metadata": {
    "id": "zGN4_CEaUHs4"
   },
   "source": [
    "## Built-in Functions"
   ]
  },
  {
   "cell_type": "markdown",
   "metadata": {
    "id": "tQOfYzymO4ek"
   },
   "source": [
    "#### Exercise 05: Extract maximum value of each element in the given list using the built-in max function.\n",
    "\n",
    "\n",
    "\n",
    "Hint: [max(iterable)](https://docs.python.org/3/library/functions.html#max)"
   ]
  },
  {
   "cell_type": "code",
   "execution_count": 29,
   "metadata": {
    "id": "mP0ba14iO7JT"
   },
   "outputs": [],
   "source": [
    "list1 = [[1,2,4],[5,6],[8,9,12],[21,44],[121]]"
   ]
  },
  {
   "cell_type": "code",
   "execution_count": 32,
   "metadata": {
    "id": "Vj3mGI5bO_Pq"
   },
   "outputs": [
    {
     "name": "stdout",
     "output_type": "stream",
     "text": [
      "4 6 12 44 121 "
     ]
    }
   ],
   "source": [
    "## YOUR CODE HERE\n",
    "for lst in list1:\n",
    "    print(max(lst), end=\" \")"
   ]
  },
  {
   "cell_type": "markdown",
   "metadata": {
    "id": "NsrffgW5PFvL"
   },
   "source": [
    "#### Exercise 06: For given list *a* and *b* perform the following Aggregate Functions\n",
    "* len(iterable)\n",
    "* max(iterable)\n",
    "* min(iterable)\n",
    "* sorted(iterable, key, reverse)\n",
    "* sum(iterable, start)"
   ]
  },
  {
   "cell_type": "code",
   "execution_count": 33,
   "metadata": {
    "id": "liPmIx_mPWVM"
   },
   "outputs": [],
   "source": [
    "a = [1, 2, 3, 4, 5, 6, 7, 8, 9, 10]\n",
    "b = [5,10, 15, 20, 25, 30, 35, 40, 45, 50]"
   ]
  },
  {
   "cell_type": "code",
   "execution_count": 49,
   "metadata": {
    "id": "_8E9DUwqPeTB"
   },
   "outputs": [
    {
     "name": "stdout",
     "output_type": "stream",
     "text": [
      "Size of the list  10   10\n",
      "Maximum in each list  10   50\n",
      "Minimum in each list  1   5\n",
      "Sorting a in descending order [10, 9, 8, 7, 6, 5, 4, 3, 2, 1]\n",
      "[1, 2, 3, 4, 5, 6, 7, 8, 9, 10]  \n",
      "basically duplicate of a was formed orginal list was not touched\n",
      "Summation of element in a 55\n"
     ]
    }
   ],
   "source": [
    "# YOUR CODE HERE\n",
    "print(\"Size of the list \",len(a),\" \",len(b))\n",
    "print(\"Maximum in each list \", max(a), \" \", max(b))\n",
    "print(\"Minimum in each list \", min(a), \" \", min(b))\n",
    "print('Sorting a in descending order', sorted(a,reverse=True))\n",
    "print(a,\" \\nbasically duplicate of a was formed orginal list was not touched\")\n",
    "print(\"Summation of element in a\", sum(a,0))\n",
    "# print(\"Summation from the mid\", sum(a,0))\n"
   ]
  },
  {
   "cell_type": "markdown",
   "metadata": {
    "id": "yerVE_tzVG39"
   },
   "source": [
    "#### Exercise 07: Print the data type of x, y and z  values "
   ]
  },
  {
   "cell_type": "code",
   "execution_count": 51,
   "metadata": {
    "id": "xeR5yEdnPphw"
   },
   "outputs": [
    {
     "name": "stdout",
     "output_type": "stream",
     "text": [
      "<class 'int'>\n",
      "<class 'float'>\n",
      "<class 'float'>\n"
     ]
    }
   ],
   "source": [
    "x = 10\n",
    "print(type(x))\n",
    "# YOUR CODE HERE\n",
    "\n",
    "y = 12.6\n",
    "print(type(y))\n",
    "# YOUR CODE HERE\n",
    "  \n",
    "z = x + y  \n",
    "print(type(z))\n",
    "# YOUR CODE HERE"
   ]
  },
  {
   "cell_type": "markdown",
   "metadata": {
    "id": "SaPsPE9Idbqn"
   },
   "source": [
    "Exercise 08:  Initialize the string and perform the following:\n",
    "\n",
    "1. Check the type of string\n",
    "2. convert string to int and check the type"
   ]
  },
  {
   "cell_type": "code",
   "execution_count": 56,
   "metadata": {
    "id": "NRBsQnHMVas6"
   },
   "outputs": [
    {
     "name": "stdout",
     "output_type": "stream",
     "text": [
      "<class 'str'>\n",
      "1234\n",
      "<class 'int'>\n"
     ]
    }
   ],
   "source": [
    "a = '1234'\n",
    "# YOUR CODE HERE\n",
    "print(type(a))\n",
    "int_a = int(a)\n",
    "print(a)\n",
    "print(type(int_a))"
   ]
  },
  {
   "cell_type": "code",
   "execution_count": null,
   "metadata": {
    "id": "9RUhtfSngtQx"
   },
   "outputs": [],
   "source": []
  }
 ],
 "metadata": {
  "colab": {
   "provenance": []
  },
  "kernelspec": {
   "display_name": ".venv",
   "language": "python",
   "name": "python3"
  },
  "language_info": {
   "codemirror_mode": {
    "name": "ipython",
    "version": 3
   },
   "file_extension": ".py",
   "mimetype": "text/x-python",
   "name": "python",
   "nbconvert_exporter": "python",
   "pygments_lexer": "ipython3",
   "version": "3.8.10"
  }
 },
 "nbformat": 4,
 "nbformat_minor": 0
}
