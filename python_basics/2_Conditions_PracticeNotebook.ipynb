{
 "cells": [
  {
   "cell_type": "markdown",
   "metadata": {
    "id": "KDWorf6akTBl"
   },
   "source": [
    "## Practice Notebook\n",
    "\n",
    "\n"
   ]
  },
  {
   "cell_type": "markdown",
   "metadata": {
    "id": "x2mBnQmtxF0z"
   },
   "source": [
    "## Comparision"
   ]
  },
  {
   "cell_type": "markdown",
   "metadata": {
    "id": "DOG5IrV4w-ic"
   },
   "source": [
    "Comparison Operators are available for the purpose of comparison. We validate equal to, greater than or less than and so on. To support these kind of comparisons, we use comparison operators.\n",
    "The following are list of comparison operators:\n",
    "\n",
    "a == b # it represents a equal to b\n",
    "\n",
    "a > b # it represents a greater than b\n",
    "\n",
    "a < b # it represents a less than b\n",
    "\n",
    "a != b # it represents a not equal to b\n",
    "\n",
    "a >= b # it represents a greater than or equal to b\n",
    "\n",
    "a <= b # it represents a less than or equal to b\n",
    "\n",
    "\n",
    "\n",
    "\n",
    "\n",
    "#### Exercise 1: Assume variable *a* holds 10 and variable *b* holds 20, then perform each of the comparison operators listed above."
   ]
  },
  {
   "cell_type": "code",
   "execution_count": 1,
   "metadata": {
    "colab": {
     "base_uri": "https://localhost:8080/"
    },
    "executionInfo": {
     "elapsed": 13,
     "status": "ok",
     "timestamp": 1755197914089,
     "user": {
      "displayName": "Nishant Thapa",
      "userId": "15311183378415201513"
     },
     "user_tz": -330
    },
    "id": "auzrTIKCxI8r",
    "outputId": "3e715a32-ed7c-4ccf-ae3d-f22a734849a3"
   },
   "outputs": [
    {
     "name": "stdout",
     "output_type": "stream",
     "text": [
      "False\n",
      "False\n",
      "True\n",
      "True\n",
      "False\n",
      "True\n"
     ]
    }
   ],
   "source": [
    "#YOUR CODE HERE\n",
    "a = 10\n",
    "b = 20\n",
    "print(a==b)\n",
    "print(a>b)\n",
    "print(a<b)\n",
    "print(a!=b)\n",
    "print(a>=b)\n",
    "print(a<=b)\n"
   ]
  },
  {
   "cell_type": "markdown",
   "metadata": {
    "id": "b-HgoroZkZwM"
   },
   "source": [
    "## Conditions"
   ]
  },
  {
   "cell_type": "markdown",
   "metadata": {
    "id": "FUy2QXsxlz-1"
   },
   "source": [
    "#### Exercise 2:\n",
    "\n",
    "* Input two variables, marks_student (marks that a student in the class obtained), max_marks (maximum marks scored in the class).\n",
    "* Write one block of 'if' statement to compare whether the marks scored by the student is valid (i.e. less than or equal to max marks) or not.\n",
    "* If marks are less than maximum marks in the class and greater than 40, print, welcome to the class, your marks are: (marks of the student)."
   ]
  },
  {
   "cell_type": "code",
   "execution_count": 6,
   "metadata": {
    "colab": {
     "base_uri": "https://localhost:8080/"
    },
    "executionInfo": {
     "elapsed": 15153,
     "status": "ok",
     "timestamp": 1755198273616,
     "user": {
      "displayName": "Nishant Thapa",
      "userId": "15311183378415201513"
     },
     "user_tz": -330
    },
    "id": "92L52K03q05f",
    "outputId": "c53e7065-19e1-49ff-bc72-092a2980c875"
   },
   "outputs": [
    {
     "name": "stdout",
     "output_type": "stream",
     "text": [
      "Marks that a student in the class obtained90\n",
      "maximum marks scored in the class80\n",
      "invalid marks\n"
     ]
    }
   ],
   "source": [
    "#YOUR CODE HERE\n",
    "marks_student = input(\"Marks that a student in the class obtained \")\n",
    "max_marks = input(\"maximum marks scored in the class \")\n",
    "\n",
    "if marks_student <= max_marks:\n",
    "  print(\"valid\")\n",
    "else:\n",
    "  print(\"invalid marks\")\n",
    "\n",
    "if marks_student < max_marks and marks_student > 40:\n",
    "  print(\"welcome to the class, your marks are \", marks_student)"
   ]
  },
  {
   "cell_type": "markdown",
   "metadata": {
    "id": "GgcTvzIdtyLB"
   },
   "source": [
    "#### Exercise 3:\n",
    "\n",
    "There is an ongoing recruitment process for the march past parade in the police academy.\n",
    "- The selection procedure for this activity is very simple.\n",
    "* If the candidate's height is greater than 180 cm, they can participate in the activity.\n",
    "__________________________________\n",
    "\n",
    "* Input height of the individual\n",
    "* write one block of 'if' statement to compare the height of the individual with 180 cm.\n",
    "* For a candidate whose height is greater than 180 cm, print the statements:\n",
    "  * Welcome to the academy.\n",
    "  * We will begin march past practice from tomorrow.\n",
    "  * You will receive your selection letter via mail."
   ]
  },
  {
   "cell_type": "code",
   "execution_count": 12,
   "metadata": {
    "colab": {
     "base_uri": "https://localhost:8080/"
    },
    "executionInfo": {
     "elapsed": 4275,
     "status": "ok",
     "timestamp": 1755198746262,
     "user": {
      "displayName": "Nishant Thapa",
      "userId": "15311183378415201513"
     },
     "user_tz": -330
    },
    "id": "FYh2IbPunaJe",
    "outputId": "70b7405b-2be3-4e90-8400-39dde5c4e0a7"
   },
   "outputs": [
    {
     "name": "stdout",
     "output_type": "stream",
     "text": [
      "Input the height of the individual180\n",
      "Better luck next time\n"
     ]
    }
   ],
   "source": [
    "#YOUR CODE HERE\n",
    "height = int(input(\"Input the height of the individual \"))\n",
    "\n",
    "if height > 180:\n",
    "  print(\"Welcome to the academy. \")\n",
    "  print(\"We will begin march past practice from tomorrow\")\n",
    "  print(\"You will recieve your selection letter via mail\")\n",
    "else:\n",
    "  print(\"Better luck next time\")"
   ]
  },
  {
   "cell_type": "markdown",
   "metadata": {
    "id": "2sCmcxyXymQ7"
   },
   "source": [
    "#### Exercise 4:\n",
    "\n",
    "In Exercise 3, we were successfully able to notify the participant of the march past parade as to whether they are selected.\n",
    "* There is one shortcoming in the Exercise 3, it does not output anything if the participant was not selected.\n",
    "* write an 'else' block below the 'if' block discussed in exercise 2.\n",
    "* In the 'else' block, print a message for the participants who did not get selected."
   ]
  },
  {
   "cell_type": "code",
   "execution_count": null,
   "metadata": {
    "id": "RwVxx_-BwTmI"
   },
   "outputs": [],
   "source": [
    "#YOUR CODE HERE"
   ]
  },
  {
   "cell_type": "markdown",
   "metadata": {
    "id": "jK6zkzodFpaC"
   },
   "source": [
    "#### Exercise 5:\n",
    "\n",
    "There is a good news for the participants. If they applied for march past parade but could not make it to the activity because their height is less than 180 cm, they can still participate in the Tug-Of-War activity.\n",
    "\n",
    "\n",
    "Write if-else-if statements:\n",
    "* if the required height was met, they participated.\n",
    "* else, they could not participate in march past.\n",
    "* But if their weight is between 65-80, give them a good news that they can participate in Tug-Of-War."
   ]
  },
  {
   "cell_type": "code",
   "execution_count": 15,
   "metadata": {
    "colab": {
     "base_uri": "https://localhost:8080/"
    },
    "executionInfo": {
     "elapsed": 7786,
     "status": "ok",
     "timestamp": 1755199126621,
     "user": {
      "displayName": "Nishant Thapa",
      "userId": "15311183378415201513"
     },
     "user_tz": -330
    },
    "id": "HOAqDHaeGjfa",
    "outputId": "0368c5cb-c5d4-4ff2-c885-d3351039b6a7"
   },
   "outputs": [
    {
     "name": "stdout",
     "output_type": "stream",
     "text": [
      "Input the height of the individual 190\n",
      "Input the weight of the individual 67\n",
      "Welcome to the academy. You can participate \n"
     ]
    }
   ],
   "source": [
    "#YOUR CODE HERE\n",
    "height = int(input(\"Input the height of the individual \"))\n",
    "weight = int(input(\"Input the weight of the individual \"))\n",
    "\n",
    "\n",
    "if height > 180:\n",
    "  print(\"Welcome to the academy. You can participate \")\n",
    "elif weight<=80 and weight>=65:\n",
    "  print(\"You can participate in Tug of War\")\n",
    "else:\n",
    "  print(\"Better luck next time\")\n"
   ]
  },
  {
   "cell_type": "markdown",
   "metadata": {
    "id": "16eOKcJ90gaV"
   },
   "source": [
    "#### Exercise 6:\n",
    "\n",
    "* There is one more activity being held in the police academy.\n",
    "* It is a 'Tug-Of-War' competition.\n",
    "* The only individuals whose height is above 180 cm can attend the event because they are part of march past team.\n",
    "* The individuals whose weight is between 65 to 70/ 70 to 75/ 75 to 80 Kg will play the game in different teams.\n",
    "____________________________________\n",
    "In the similar fashion.\n",
    "\n",
    "* write 'else-if' ladder to display appropriate messages to the selected individuals.\n",
    "* If the requirement of their height is met, they can attend the program.\n",
    "* If their weight is between 65 to 70, they will play in Team A.\n",
    "* If their weight is between 70 to 75, they will play in Team B.\n",
    "* If their weight is between 75 to 80, they will play in Team C."
   ]
  },
  {
   "cell_type": "markdown",
   "metadata": {
    "id": "OMjH5fBM5vtS"
   },
   "source": [
    "If the individual's height is more than 180 cm, they are already a part of another event and hence they will not participate here."
   ]
  },
  {
   "cell_type": "code",
   "execution_count": null,
   "metadata": {
    "id": "Fq3yLSH1zr8M"
   },
   "outputs": [],
   "source": [
    "#YOUR CODE HERE"
   ]
  },
  {
   "cell_type": "markdown",
   "metadata": {
    "id": "Fbvxm2c5DIRj"
   },
   "source": [
    "#### Exercise 7:\n",
    "\n",
    "There is one shortcoming in the code used for Exercise 5. If the individuals' height is more than 180 but he still applies to play in Tug-Of-War game in the police academy then there will be an issue on the date of event.\n",
    "\n",
    "It will become difficult for one individual to participate in two activity on the same day.\n",
    "_______________________________________________\n",
    "To deal with this issue:\n",
    "* Change the code in Exercise 6 in a way that if a person's height is more than 180 cms, they will not be selected in any team.\n",
    "* Display a message, you are already a part of march past activity, you cannot play in Tug-Of-War."
   ]
  },
  {
   "cell_type": "code",
   "execution_count": null,
   "metadata": {
    "id": "e1RXVTCtDH7f"
   },
   "outputs": [],
   "source": [
    "#YOUR CODE HERE"
   ]
  }
 ],
 "metadata": {
  "colab": {
   "provenance": []
  },
  "kernelspec": {
   "display_name": ".venv",
   "language": "python",
   "name": "python3"
  },
  "language_info": {
   "codemirror_mode": {
    "name": "ipython",
    "version": 3
   },
   "file_extension": ".py",
   "mimetype": "text/x-python",
   "name": "python",
   "nbconvert_exporter": "python",
   "pygments_lexer": "ipython3",
   "version": "3.8.10"
  }
 },
 "nbformat": 4,
 "nbformat_minor": 0
}
