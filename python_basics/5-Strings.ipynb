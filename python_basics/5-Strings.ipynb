{
 "cells": [
  {
   "cell_type": "markdown",
   "metadata": {
    "id": "_gZO4nxFlWw8"
   },
   "source": [
    "## Strings"
   ]
  },
  {
   "cell_type": "markdown",
   "metadata": {
    "id": "86aZH_wmliwN"
   },
   "source": [
    "As everything in python is an object , so are strings.\n",
    "\n",
    "Strings are **immutable sequence objects** where each character represents an element in the sequence.\n",
    "\n",
    "A basic example of a string is below:"
   ]
  },
  {
   "cell_type": "code",
   "execution_count": null,
   "metadata": {
    "id": "MzfAiDpTaWLr"
   },
   "outputs": [],
   "source": [
    "# Strings can be single quoted or double quoted\n",
    "a = \"Hello World !\"\n",
    "b = \"I'm happy to use python\"\n",
    "c = 'GVR says, \"Readability counts\" and python shines here'"
   ]
  },
  {
   "cell_type": "markdown",
   "metadata": {
    "id": "D8HPg4vlnkU7"
   },
   "source": [
    "Immutable in the case of strings means that once a string object is initialised in memory, We cannot change it, but we can still manipulate it with many built-in methods. but the original string object remains unchanged while a copy of it is returned. As a simple rule of thumb, any method that manipulates a string returns a copy of it."
   ]
  },
  {
   "cell_type": "code",
   "execution_count": null,
   "metadata": {
    "id": "yA1amAiUkQzM"
   },
   "outputs": [],
   "source": [
    "# Strings can also be triple quoted (with single quotes or double quotes)\n",
    "d = '''She said, \"Thank you! It's mine.\"'''\n",
    "e = \"\"\"Long long ago, in a galaxy far far away..\"\"\""
   ]
  },
  {
   "cell_type": "markdown",
   "metadata": {
    "id": "_OfF7wW4nuLu"
   },
   "source": [
    "### String Operations"
   ]
  },
  {
   "cell_type": "code",
   "execution_count": null,
   "metadata": {
    "id": "XoPMri4aaZU-"
   },
   "outputs": [],
   "source": [
    "# String Concatenation using '+' operator\n",
    "h = \"Hello\"\n",
    "w = \"world!\"\n",
    "hw = h + w\n",
    "print(hw)"
   ]
  },
  {
   "cell_type": "code",
   "execution_count": null,
   "metadata": {
    "id": "8X7ZeuyCajnj"
   },
   "outputs": [],
   "source": [
    "# String repetition\n",
    "h4s3w2 = 4 * h + \" \" * 3 + w * 2\n",
    "print(h4s3w2)"
   ]
  },
  {
   "cell_type": "markdown",
   "metadata": {
    "id": "L15z7jn8pDpR"
   },
   "source": [
    "### Accessing characters in string"
   ]
  },
  {
   "cell_type": "markdown",
   "metadata": {
    "id": "AO8X8so4pX0H"
   },
   "source": [
    "You can access an element of string object (which is basically a character) by it's index, specified in a square brackets.\n",
    "\n"
   ]
  },
  {
   "cell_type": "code",
   "execution_count": null,
   "metadata": {
    "id": "eqpaX1YRayiK"
   },
   "outputs": [],
   "source": [
    "a = \"Hello!\"\n",
    "b = a[1]\n",
    "print(b)"
   ]
  },
  {
   "cell_type": "markdown",
   "metadata": {
    "id": "wA5bkwuKqO7m"
   },
   "source": [
    "The second statement in the above code extracts the character at index position 1 from the variable 'a' and assigns it to the variable 'b'.\n",
    "\n",
    "The expression in brackets is called an index. The index indicates which character in the sequence you want (hence the name)."
   ]
  },
  {
   "cell_type": "markdown",
   "metadata": {
    "id": "R5Kk6GI6-59j"
   },
   "source": [
    "Accessing characters/elements in a string by negative index number. Let's take a look at the below code sample:"
   ]
  },
  {
   "cell_type": "code",
   "execution_count": null,
   "metadata": {
    "id": "_VX1WSk0a6OS"
   },
   "outputs": [],
   "source": [
    "a = \"Hello!\"\n",
    "b = a[-1] # Accessing the character of string \"Hello!\" at last index\n",
    "print(b)"
   ]
  },
  {
   "cell_type": "markdown",
   "metadata": {
    "id": "6xPDwZsIASZx"
   },
   "source": [
    "The second statement in the above code will access the character of the string at last index position -1 from the variable 'a' and assign it to the variable 'b', You can use negative indices, which count backward from the end of the string. The expression a[-1] yields the last letter, a[-2] yields the second to last, and so on."
   ]
  },
  {
   "cell_type": "markdown",
   "metadata": {
    "id": "O-aZyIUDAruG"
   },
   "source": [
    "### A character too far"
   ]
  },
  {
   "cell_type": "markdown",
   "metadata": {
    "id": "Hq1EcJCKBPIo"
   },
   "source": [
    "What if you try to access the index of the character/element which is beyond the end of the string? Let's a look at the below code example:"
   ]
  },
  {
   "cell_type": "code",
   "execution_count": null,
   "metadata": {
    "id": "S5P9_MKaa9Jf"
   },
   "outputs": [],
   "source": [
    "a = \"Hello!\"\n",
    "print(a[6]) # Trying to access the index position 6 which is beyond the string index"
   ]
  },
  {
   "cell_type": "markdown",
   "metadata": {
    "id": "gxS2IPYaByRD"
   },
   "source": [
    "The above code will throw **indexError** specifying string index out of range so need to be careful when constructing index values and slices."
   ]
  },
  {
   "cell_type": "markdown",
   "metadata": {
    "id": "2UhW-Q19CYWe"
   },
   "source": [
    "### Getting the length of a string using `len`\n",
    "\n",
    "`len` is a built-in function that returns the number of characters in a\n",
    "string:"
   ]
  },
  {
   "cell_type": "code",
   "execution_count": null,
   "metadata": {
    "id": "ahe-qIc5bFJd"
   },
   "outputs": [],
   "source": [
    "a = \"Hello!\"\n",
    "len(a)"
   ]
  },
  {
   "cell_type": "markdown",
   "metadata": {
    "id": "L4AGcnmiChjI"
   },
   "source": [
    "### Traversal through a string with looping\n",
    "\n",
    "A lot of computations involve processing a string one character at a\n",
    "time. Often they start at the beginning, select each character in turn,\n",
    "do something to it, and continue until the end. This pattern of\n",
    "processing is called a *traversal*. One way to write a traversal is with\n",
    "a `while` loop:"
   ]
  },
  {
   "cell_type": "code",
   "execution_count": null,
   "metadata": {
    "id": "9CV42YfYbH_1"
   },
   "outputs": [],
   "source": [
    "a = \"Hello!\"\n",
    "index = 0\n",
    "while index < len(a):\n",
    "    letter = a[index]\n",
    "    print(index, letter)\n",
    "    index = index + 1"
   ]
  },
  {
   "cell_type": "markdown",
   "metadata": {
    "id": "UrO5Xg9tDZN-"
   },
   "source": [
    "In the above code, the loop traverses through the string and displays each letter on a line by itself. The loop condition is `index < len(a)`, so when `index` is equal to the length of the string, the condition is false, and the body of the loop is not executed. The last character accessed is the one with the index `len(a)-1`, which is the last character in the string and we are printing the index and it's corresponding letter from the string."
   ]
  },
  {
   "cell_type": "markdown",
   "metadata": {
    "id": "FxlO-hqFEZvP"
   },
   "source": [
    "Another way to write a traversal is with a `for` loop:"
   ]
  },
  {
   "cell_type": "code",
   "execution_count": null,
   "metadata": {
    "id": "TNiXApdDbZ3W"
   },
   "outputs": [],
   "source": [
    "a = \"Hello!\"\n",
    "for ch in a:\n",
    "    print(ch)"
   ]
  },
  {
   "cell_type": "markdown",
   "metadata": {
    "id": "m2VpYHIWFH_g"
   },
   "source": [
    "In the above code, each time through the loop, the next character in the string is assigned to the variable 'ch'. The loop continues until no characters are left."
   ]
  },
  {
   "cell_type": "markdown",
   "metadata": {
    "id": "sw-z7c-nFYJO"
   },
   "source": [
    "### Looping and Counting"
   ]
  },
  {
   "cell_type": "markdown",
   "metadata": {
    "id": "InGNNyW5FetO"
   },
   "source": [
    "Now, let's take a look at the below program that counts the number of times the letter/character 'l' appears in a string:"
   ]
  },
  {
   "cell_type": "code",
   "execution_count": null,
   "metadata": {
    "id": "n2UuxfUubgf8"
   },
   "outputs": [],
   "source": [
    "a = \"Hello!\"\n",
    "count = 0\n",
    "for letter in a:\n",
    "    if letter == 'l':\n",
    "        count = count + 1\n",
    "print(count)"
   ]
  },
  {
   "cell_type": "markdown",
   "metadata": {
    "id": "fH9LzJnxFvz7"
   },
   "source": [
    "This program demonstrates another pattern of computation called a\n",
    "*counter*. The variable `count` is initialized to 0 and then incremented\n",
    "each time an character \"l\" is found. When the loop exits, `count` contains the result: the total number of l's."
   ]
  },
  {
   "cell_type": "markdown",
   "metadata": {
    "id": "zQc-ru3iGLqm"
   },
   "source": [
    "### String Slicing\n",
    "\n",
    "Slicing means cutting a part out of something. In python, strings can be considered as an array where each character of string can be given an index position. Let's take a look at the below string:\n",
    "\n",
    "f = Hello World\n",
    "\n",
    "For the above string normal indexing — starts at 0 and ends at 10,\n",
    "negative indexing — starts at -1 (and from the end of the string) and ends to the start of string (-11)\n",
    "\n",
    "Selecting a slice is similar to selecting a character. Slicing follows the syntax given below:\n",
    "\n",
    "**str[start_index : end_index : increment]**"
   ]
  },
  {
   "cell_type": "markdown",
   "metadata": {
    "id": "bLPH-vLsJsek"
   },
   "source": [
    "Let's take a look at the code example below:"
   ]
  },
  {
   "cell_type": "code",
   "execution_count": null,
   "metadata": {
    "id": "SAQAg9Q1bxxq"
   },
   "outputs": [],
   "source": [
    "f = \"Hello World\"\n",
    "print(f[0:6])"
   ]
  },
  {
   "cell_type": "markdown",
   "metadata": {
    "id": "qtoOeOqrJxA4"
   },
   "source": [
    "The output of the program is **Hello** and can be explained as below -\n",
    "\n",
    "`Start index` = 0, i.e. \"H\"\n",
    "\n",
    "`End index` = 6 — 1 = 5 (End index always is one less than the mentioned index)\n",
    "\n",
    "`Increment` = 1 (when not mentioned increment is 1 by default)"
   ]
  },
  {
   "cell_type": "markdown",
   "metadata": {
    "id": "seRCc6QSMWjB"
   },
   "source": [
    "Let's take a look at another example:"
   ]
  },
  {
   "cell_type": "code",
   "execution_count": null,
   "metadata": {
    "id": "kgFnCkUlcQtC"
   },
   "outputs": [],
   "source": [
    "print(f[:3]) # Using indexing sequence"
   ]
  },
  {
   "cell_type": "markdown",
   "metadata": {
    "id": "emgHrJGTMcFz"
   },
   "source": [
    "For the above code the syntax looks like this:\n",
    "\n",
    "`str[:stop]` = slicing the elelemts/characters of the string from the beginning through stop-1\n",
    "\n",
    "The above code outputs the slicing of the string from the begining till the (3 - 1) = 2 character."
   ]
  },
  {
   "cell_type": "code",
   "execution_count": null,
   "metadata": {
    "id": "ArwA2WAKcoA9"
   },
   "outputs": [],
   "source": [
    "print(f[3:])"
   ]
  },
  {
   "cell_type": "markdown",
   "metadata": {
    "id": "9sA9cS6ZNw6E"
   },
   "source": [
    "For above code the syntax looks like this:\n",
    "\n",
    "`str[start:]` = slicing the elelemts/characters of the string from the start through the rest of the array."
   ]
  },
  {
   "cell_type": "code",
   "execution_count": null,
   "metadata": {
    "id": "AMEaQLj7cre6"
   },
   "outputs": [],
   "source": [
    "print(f[1:-1])"
   ]
  },
  {
   "cell_type": "markdown",
   "metadata": {
    "id": "XpywVOKAOebn"
   },
   "source": [
    "For the above code, the syntax looks like this:\n",
    "\n",
    "str[start:stop] = slicing starts from the beginning of the character/element and ends through stop-1\n",
    "\n",
    "The above code outputs the elements starting from the 1st character and ignores the last character in the string that is letter 'd'"
   ]
  },
  {
   "cell_type": "markdown",
   "metadata": {
    "id": "1R_ww46tPMNz"
   },
   "source": [
    "### String Striding\n",
    "\n",
    "String striding in Python refers to extracting substrings from a string by specifying a step or stride value. This allows you to select specific characters at regular intervals within the string. The syntax for string striding is as follows:\n",
    "\n",
    "**string[start:end:step]**\n",
    "\n",
    "Here's an explanation of each component:\n",
    "\n",
    "**string:** The original string from which you want to extract substrings.\n",
    "\n",
    "**start:** The index at which to start the substring extraction (inclusive). If not specified, it defaults to the beginning of the string.\n",
    "\n",
    "**end:** The index at which to end the substring extraction (exclusive). If not specified, it defaults to the end of the string.\n",
    "\n",
    "**step:** The step value or stride, indicating the interval between characters to be included in the substring. A positive stride moves forward in the string, while a negative stride moves backward. If not specified, it defaults to 1.\n",
    "\n",
    "Now let's see some examples on string striding:"
   ]
  },
  {
   "cell_type": "code",
   "execution_count": null,
   "metadata": {
    "id": "pLMAV-3rczz2"
   },
   "outputs": [],
   "source": [
    "f = 'Hello World'\n",
    "print(f[1::2])"
   ]
  },
  {
   "cell_type": "markdown",
   "metadata": {
    "id": "nSv7cE2Z8gNj"
   },
   "source": [
    "In the above code f[1::2] uses string striding to extract a substring from the string \"f\".\n",
    "\n",
    "`1 `indicates the start index of the substring. In this case, it starts at index 1, which corresponds to the letter 'e'.\n",
    "\n",
    "`::2` indicates the stride or step value. The 2 means to skip every second character.\n",
    "\n",
    "So, the resulting substring consists of characters starting from index 1 and selecting every second character thereafter."
   ]
  },
  {
   "cell_type": "code",
   "execution_count": null,
   "metadata": {
    "id": "jDUp3w1UdEVz"
   },
   "outputs": [],
   "source": [
    "print(f[::2])"
   ]
  },
  {
   "cell_type": "markdown",
   "metadata": {
    "id": "w1SEUu6d9ccd"
   },
   "source": [
    "f[::2] string striding to extract a substring from the string f.\n",
    "\n",
    "2 indicates the stride or step value. It means to select every second character from the string"
   ]
  },
  {
   "cell_type": "code",
   "execution_count": null,
   "metadata": {
    "id": "uzIWeK4HdSAF"
   },
   "outputs": [],
   "source": [
    "print(f[::-1])"
   ]
  },
  {
   "cell_type": "markdown",
   "metadata": {
    "id": "x2UQGFds90Zc"
   },
   "source": [
    "f[::-1]: `-1` indicates the stride or step value. A negative stride means the substring is extracted in reverse order.\n",
    "\n",
    "It output the string in reverse order `dlroW olleH`. The string is reversed because of the negative stride. Each character in the original string is included in reverse order."
   ]
  },
  {
   "cell_type": "code",
   "execution_count": null,
   "metadata": {
    "id": "xR_J0tQbdW1P"
   },
   "outputs": [],
   "source": [
    "print(f[1:10:2])"
   ]
  },
  {
   "cell_type": "markdown",
   "metadata": {
    "id": "AOB6xY5C-hle"
   },
   "source": [
    "In the above code f[1:10:2]:\n",
    "\n",
    "`1` indicates the start index of the substring. In this case, it starts at index 1, which corresponds to the letter 'e'.\n",
    "\n",
    "`10` indicates the end index of the substring. It specifies the index up to which the substring extraction is done (exclusive). In this case, it ends at index 10, which corresponds to the letter 'd'.\n",
    "\n",
    "`2` indicates the stride or step value. It means to select every second character.\n",
    "\n"
   ]
  },
  {
   "cell_type": "markdown",
   "metadata": {
    "id": "_8wElGQ0OqsR"
   },
   "source": [
    "### Updating Strings\n",
    "\n",
    "Strings are immutable which means that the existing string can't be changed. Let's take a look at the example code below:"
   ]
  },
  {
   "cell_type": "code",
   "execution_count": null,
   "metadata": {
    "id": "DaFSUBGTddPF"
   },
   "outputs": [],
   "source": [
    "f = 'Hello World!'\n",
    "f[0] = 'J'"
   ]
  },
  {
   "cell_type": "markdown",
   "metadata": {
    "id": "MfnPFdm1QBm8"
   },
   "source": [
    "In the above code `f[0] = 'J'` line attempts to change the character at index 0 of the string `f` from 'H' to 'J'. However, it raises an error because strings in Python are immutable, meaning they cannot be modified in-place."
   ]
  },
  {
   "cell_type": "markdown",
   "metadata": {
    "id": "FQ7Aro4qQcJu"
   },
   "source": [
    "Let's take look at the below code which can update existing string by reassigning a variable to another string."
   ]
  },
  {
   "cell_type": "code",
   "execution_count": null,
   "metadata": {
    "id": "BDWZyHvOdqo3"
   },
   "outputs": [],
   "source": [
    "f = 'Hello world!'\n",
    "f = 'J' + f[1:]\n",
    "print(f)"
   ]
  },
  {
   "cell_type": "markdown",
   "metadata": {
    "id": "wxy9q5gRQvR8"
   },
   "source": [
    "In the above code `f = 'J' + f[1:]` line creates a new string by concatenating the character 'J' with the substring `f[1:]`. The expression `f[1:]` selects the substring starting from index 1 (the second character) until the end of the string. By combining the character 'J' with the remaining substring, a new string `'Jello world!'` is created."
   ]
  },
  {
   "cell_type": "markdown",
   "metadata": {
    "id": "5J5N6GPNQXxi"
   },
   "source": [
    "### String built-in methods"
   ]
  },
  {
   "cell_type": "markdown",
   "metadata": {
    "id": "rwMxAArpRQIR"
   },
   "source": [
    "`a.upper()` — This method returns the uppercase version of the string"
   ]
  },
  {
   "cell_type": "code",
   "execution_count": null,
   "metadata": {
    "id": "SpV2fK5Td14D"
   },
   "outputs": [],
   "source": [
    "a = \"hello world\"\n",
    "b = a.upper()\n",
    "print(b)"
   ]
  },
  {
   "cell_type": "markdown",
   "metadata": {
    "id": "xgZeYukKRk2v"
   },
   "source": [
    "`a.lower()` — This method returns the lowercase version of the string"
   ]
  },
  {
   "cell_type": "code",
   "execution_count": null,
   "metadata": {
    "id": "ax3pqp-DeIs8"
   },
   "outputs": [],
   "source": [
    "a = \"hello world\"\n",
    "b = a.lower()\n",
    "print(b)"
   ]
  },
  {
   "cell_type": "markdown",
   "metadata": {
    "id": "ZAWQ5_HPRtUb"
   },
   "source": [
    "`a.find() `— This method searches for the given other string (not a regular expression) within 'a', and returns the first index where it begins or -1 if not found"
   ]
  },
  {
   "cell_type": "code",
   "execution_count": null,
   "metadata": {
    "id": "1skDjRiGeNvy"
   },
   "outputs": [],
   "source": [
    "a = \"Hello World\"\n",
    "a.find('r')"
   ]
  },
  {
   "cell_type": "code",
   "execution_count": null,
   "metadata": {
    "id": "aEBj1hoqhc8x"
   },
   "outputs": [],
   "source": [
    "a.find('lo')"
   ]
  },
  {
   "cell_type": "markdown",
   "metadata": {
    "id": "xo3QNEroSFQL"
   },
   "source": [
    "`word.title()` - This method captalizes the first character of each word in the string."
   ]
  },
  {
   "cell_type": "code",
   "execution_count": null,
   "metadata": {
    "id": "5j-MKPN5hjl6"
   },
   "outputs": [],
   "source": [
    "word = \"HelloWorld\"\n",
    "print(word.title())"
   ]
  },
  {
   "cell_type": "markdown",
   "metadata": {
    "id": "GQL776TcSUVA"
   },
   "source": [
    "`word.capitalize()` - This method captalizes the first character of the string."
   ]
  },
  {
   "cell_type": "code",
   "execution_count": null,
   "metadata": {
    "id": "JLdmyhq5hs2R"
   },
   "outputs": [],
   "source": [
    "word = \"hello\"\n",
    "print(word.capitalize())"
   ]
  },
  {
   "cell_type": "markdown",
   "metadata": {
    "id": "lW6huxisS5BR"
   },
   "source": [
    "`word.swapcase()` - This method allows to convert the uppercase characters in a string to lowercase and vice versa. It returns a new string with the case of each character swapped."
   ]
  },
  {
   "cell_type": "code",
   "execution_count": null,
   "metadata": {
    "id": "SgIylzCsh-cf"
   },
   "outputs": [],
   "source": [
    "word = \"Hello World\"\n",
    "print(word.swapcase())"
   ]
  },
  {
   "cell_type": "markdown",
   "metadata": {
    "id": "wujwVUJnTJMI"
   },
   "source": [
    "### The `in` operator\n",
    "\n",
    "The word `in` is a boolean operator that takes two strings and returns\n",
    "`True` if the first appears as a substring in the second:"
   ]
  },
  {
   "cell_type": "code",
   "execution_count": null,
   "metadata": {
    "id": "QTkUaCByiS1U"
   },
   "outputs": [],
   "source": [
    "'a' in 'banana'"
   ]
  },
  {
   "cell_type": "markdown",
   "metadata": {
    "id": "WAcc6jIqTSQ7"
   },
   "source": [
    "In the above code if the character `'a'` is found in the string `'banana'` it will return the output as `True`"
   ]
  },
  {
   "cell_type": "code",
   "execution_count": null,
   "metadata": {
    "id": "4fjeYrJ9ifBz"
   },
   "outputs": [],
   "source": [
    "'seed' in 'banana'"
   ]
  },
  {
   "cell_type": "markdown",
   "metadata": {
    "id": "IeBJMNhMTmxj"
   },
   "source": [
    "In the above code if the substring/string `'seed'` is not found in the string `'banana'` it will return the output as `False`"
   ]
  },
  {
   "cell_type": "markdown",
   "metadata": {
    "id": "8KLJ2368T6-f"
   },
   "source": [
    "Now, let's take a look at the below code example where the function is written which prints all the letters from word1 that also appear in word2."
   ]
  },
  {
   "cell_type": "code",
   "execution_count": null,
   "metadata": {
    "id": "fU4riDpkip5D"
   },
   "outputs": [],
   "source": [
    "def in_both(word1, word2):\n",
    "    for letter in word1:\n",
    "        if letter in word2:\n",
    "            print(letter)\n",
    "in_both('apples', 'oranges')"
   ]
  },
  {
   "cell_type": "markdown",
   "metadata": {
    "id": "blqGG2X4VQh-"
   },
   "source": [
    "1. In the above code we define a function with name `in_both` which takes takes two parameters, `word1` and `word2`\n",
    "\n",
    "2. The second line `for letter in word1` initiates a loop that iterates over each character in the string word1.\n",
    "\n",
    "3. The third line `if letter in word2`checks if the current character, represented by the variable letter, is present in the string word2.\n",
    "\n",
    "4. `print(letter)` - If the character letter is found in word2, this line prints the character."
   ]
  },
  {
   "cell_type": "markdown",
   "metadata": {
    "id": "fIMqI8-0E1ct"
   },
   "source": [
    "### String Methods"
   ]
  },
  {
   "cell_type": "markdown",
   "metadata": {
    "id": "k23fOJvdWRuy"
   },
   "source": [
    "`startswith()` - This method checks whether the string starts with the substring and return a boolean value.\n"
   ]
  },
  {
   "cell_type": "code",
   "execution_count": null,
   "metadata": {
    "id": "-T1ZF10ejMr0"
   },
   "outputs": [],
   "source": [
    "'Hello World!'.startswith('Hello')"
   ]
  },
  {
   "cell_type": "code",
   "execution_count": null,
   "metadata": {
    "id": "IQj8so7ijcWF"
   },
   "outputs": [],
   "source": [
    "'Hello World!'.startswith('abcde')"
   ]
  },
  {
   "cell_type": "markdown",
   "metadata": {
    "id": "pe4GIw0GXUpC"
   },
   "source": [
    "`a.index()` - This method is used to find the index of the first occurrence of a substring within a string. It returns the index position where the substring starts."
   ]
  },
  {
   "cell_type": "code",
   "execution_count": null,
   "metadata": {
    "id": "VepHx3FqjhR2"
   },
   "outputs": [],
   "source": [
    "a = 'Python Programming'\n",
    "print(a.index('Program'))"
   ]
  },
  {
   "cell_type": "markdown",
   "metadata": {
    "id": "y3U3hqB2XvT_"
   },
   "source": [
    "In the above code the `index()` method is called on the string a with the argument `'Program'`. It searches for the substring `'Program'` within the string a. Since `'Program'` is present in string `a`, the method returns the index position of the start of the first occurrence of the substring."
   ]
  },
  {
   "cell_type": "markdown",
   "metadata": {
    "id": "m36zHyYlX7E3"
   },
   "source": [
    "`a.count()` - This method return the number of times the substring is present in the string."
   ]
  },
  {
   "cell_type": "code",
   "execution_count": null,
   "metadata": {
    "id": "sGkC7macjqgG"
   },
   "outputs": [],
   "source": [
    "a = 'Python    Programming'\n",
    "print(a.count(\" \"))"
   ]
  },
  {
   "cell_type": "markdown",
   "metadata": {
    "id": "_4tZGo5DYKeq"
   },
   "source": [
    "In the above code `a.count(\" \")` counts the number of spaces present in the string a"
   ]
  },
  {
   "cell_type": "markdown",
   "metadata": {
    "id": "TPdUfUmWZKnu"
   },
   "source": [
    "`a.encode()` - This method is used to encode a string into a specified encoding format. If no encoding is specified, it uses the default encoding, which is usually UTF-8."
   ]
  },
  {
   "cell_type": "code",
   "execution_count": null,
   "metadata": {
    "id": "Vr9Wp7UDj4c4"
   },
   "outputs": [],
   "source": [
    "a = \"My name is Ståle\"\n",
    "print(a.encode())"
   ]
  },
  {
   "cell_type": "markdown",
   "metadata": {
    "id": "mM03IIT7aQ9j"
   },
   "source": [
    "In the above code the line `a.encode()` encodes the string a using the default encoding and prints the encoded bytes."
   ]
  },
  {
   "cell_type": "markdown",
   "metadata": {
    "id": "7GZg_5VJakQx"
   },
   "source": [
    "`center()` - This method adds padding characters on both sides of the original string to center it within the specified width. By default, the padding character is a space."
   ]
  },
  {
   "cell_type": "code",
   "execution_count": null,
   "metadata": {
    "id": "qjeBP5BhkSEt"
   },
   "outputs": [],
   "source": [
    "'Hello'.center(20)"
   ]
  },
  {
   "cell_type": "markdown",
   "metadata": {
    "id": "AdYxcDk-a47J"
   },
   "source": [
    "`center(20)` is called on the string 'Hello'. The `center()` method is used to center a string within a specified width.\n",
    "\n",
    "`20` is the width specified. It represents the total number of characters the resulting string should occupy, including the original string and any additional padding characters."
   ]
  },
  {
   "cell_type": "code",
   "execution_count": null,
   "metadata": {
    "id": "AAT6uQ2FksC7"
   },
   "outputs": [],
   "source": [
    "'Hello'.center(20, '=')"
   ]
  },
  {
   "cell_type": "markdown",
   "metadata": {
    "id": "pWsKRHl9DSfQ"
   },
   "source": [
    "In the above code, `.center(20, '=')` is a method call on the string object, using the center() method. This method takes two arguments: the **width** and the **fillchar**.\n",
    "\n",
    "`20` is the width argument, which specifies the total width of the resulting centered string.\n",
    "\n",
    "`'='` is the fillchar argument, which specifies the character used to fill the space on either side of the centered string. In this case, it's the equal sign \"=\".\n",
    "\n",
    "The `center()` method calculates the amount of space needed on either side of the string to center it within the specified width.\n",
    "\n",
    "It then adds the fillchar on both sides of the string to fill the remaining space, resulting in a centered string within a width of 20 characters."
   ]
  },
  {
   "cell_type": "markdown",
   "metadata": {
    "id": "5VAITEGiDt4e"
   },
   "source": [
    "`format()` - This method formats the specified values and insert them inside the string's placeholder. The placeholder is defined using curly brackets `{}`."
   ]
  },
  {
   "cell_type": "code",
   "execution_count": null,
   "metadata": {
    "id": "mNeohy-Hk2vm"
   },
   "outputs": [],
   "source": [
    "print(\"The sum of 1 + 2 is {0}\".format(1+2))"
   ]
  },
  {
   "cell_type": "markdown",
   "metadata": {
    "id": "qiseSnkHENQJ"
   },
   "source": [
    "In the above code, `\"The sum of 1 + 2 is {0}\"` is a string that serves as the format template. It contains a placeholder `{0}` which indicates the position where the result of the addition operation will be inserted.\n",
    "\n",
    "`.format(1+2)` is a method call on the string object, using the `format()` method. This method takes one or more arguments and replaces the corresponding placeholders in the format template.\n",
    "\n",
    "`1+2` is the addition operation that evaluates to the value `3`. This is the value that will be inserted into the placeholder `{0}` in the format template.\n",
    "\n",
    "The `format()` method replaces `{0}` in the format template with the value `3`, resulting in the string `\"The sum of 1 + 2 is 3\"`."
   ]
  },
  {
   "cell_type": "markdown",
   "metadata": {
    "id": "XjJHLMehE6UV"
   },
   "source": [
    "### The join() and split() methods"
   ]
  },
  {
   "cell_type": "markdown",
   "metadata": {
    "id": "Nx7QlqyhE_0q"
   },
   "source": [
    "`join()` — This method joins the elements in the given list together using the string as the delimiter."
   ]
  },
  {
   "cell_type": "code",
   "execution_count": null,
   "metadata": {
    "id": "QVSiLnsulIaQ"
   },
   "outputs": [],
   "source": [
    "a = \"Hello World!\"\n",
    "b = '_'.join(a)\n",
    "print(b)"
   ]
  },
  {
   "cell_type": "markdown",
   "metadata": {
    "id": "g_00_seNFbhl"
   },
   "source": [
    "In the above code `b = '_'.join(a)` is a method call on the string object `a`. The `join()` method is used to concatenate the elements of an iterable (in this case, the characters of the string a) into a single string, with a specified delimiter.\n",
    "\n",
    "`'_'` is the delimiter passed as an argument to the `join()` method. It specifies that an underscore character should be placed between each character of the string.\n",
    "\n",
    "The `join()` method concatenates the characters of the string a using the underscore delimiter. It creates a new string where each character of a is separated by an underscore."
   ]
  },
  {
   "cell_type": "code",
   "execution_count": null,
   "metadata": {
    "id": "Igcaa9ZNlZrF"
   },
   "outputs": [],
   "source": [
    "' '.join(['My', 'name', 'is', 'Jack'])"
   ]
  },
  {
   "cell_type": "markdown",
   "metadata": {
    "id": "tZk-pVm9G2pL"
   },
   "source": [
    "`a.split(‘delim’)` — This method returns a list of substrings separated by the given delimiter. The delimiter is not a regular expression, it’s just text. As a convenient special case a.split() (with no arguments) splits on all whitespace chars."
   ]
  },
  {
   "cell_type": "code",
   "execution_count": null,
   "metadata": {
    "id": "V-nHAE_Flkew"
   },
   "outputs": [],
   "source": [
    "a = \"Hello World!\"\n",
    "b = a.split(\" \")\n",
    "print(b)"
   ]
  },
  {
   "cell_type": "markdown",
   "metadata": {
    "id": "UCmp7DEiHPDa"
   },
   "source": [
    "`a.strip() `— This method returns a string with whitespace removed from the start and end."
   ]
  },
  {
   "cell_type": "code",
   "execution_count": null,
   "metadata": {
    "id": "05okEDIIlwU8"
   },
   "outputs": [],
   "source": [
    "a = \"    Hello World!    \"\n",
    "b = a.strip(\" \")\n",
    "print(b)"
   ]
  },
  {
   "cell_type": "markdown",
   "metadata": {
    "id": "sw5W6ONTHihB"
   },
   "source": [
    "In the above code `b = a.strip(\" \")` is a method call on the string object `a`. The `strip()` method is used to remove leading and trailing characters from a string.\n",
    "\n",
    "`\" \"` is the argument passed to the `strip()` method. It specifies that leading and trailing spaces should be removed.\n",
    "\n",
    "The `strip()` method removes the leading and trailing spaces from the string `a`."
   ]
  },
  {
   "cell_type": "markdown",
   "metadata": {
    "id": "qR44lOOjHvO0"
   },
   "source": [
    "`a.lstrip()` - This method removes the blank space from the left side of the given string"
   ]
  },
  {
   "cell_type": "code",
   "execution_count": null,
   "metadata": {
    "id": "mgV_5E07l6fR"
   },
   "outputs": [],
   "source": [
    "a = \"    Hello World    \"\n",
    "a.lstrip(\" \")"
   ]
  },
  {
   "cell_type": "markdown",
   "metadata": {
    "id": "p4iLbnZzH-P1"
   },
   "source": [
    "In the above code `lstrip(\" \")` is a method call on the string object `a`, using the `lstrip()` method. This method removes leading characters from the left side of the string.\n",
    "\n",
    "`\" \"` is the argument passed to the `lstrip()` method. It specifies that leading spaces should be removed.\n",
    "\n",
    "The `lstrip()` method removes the leading spaces from the string a."
   ]
  },
  {
   "cell_type": "markdown",
   "metadata": {
    "id": "khMxmMGtIbNO"
   },
   "source": [
    "`a.rstrip()` - This method removes the blank space from the rightside"
   ]
  },
  {
   "cell_type": "code",
   "execution_count": null,
   "metadata": {
    "id": "2Sl4CqVMmBJp"
   },
   "outputs": [],
   "source": [
    "a = \"    Hello World    \"\n",
    "a.rstrip(\" \")"
   ]
  },
  {
   "cell_type": "markdown",
   "metadata": {
    "id": "7VwlcoFLIog6"
   },
   "source": [
    "In the above code, `.rstrip(\" \")` is a method call on the string object `a`, using the `rstrip()` method. This method removes trailing characters from the right side of the string.\n",
    "\n",
    "`\" \"` is the argument passed to the `rstrip()` method. It specifies that trailing spaces should be removed.\n",
    "\n",
    "The `rstrip()` method removes the trailing spaces from the string a."
   ]
  },
  {
   "cell_type": "markdown",
   "metadata": {
    "id": "ryOuoamrI_29"
   },
   "source": [
    "### String comparison\n",
    "\n",
    "The comparison operators work on strings. To see if two strings are\n",
    "equal:"
   ]
  },
  {
   "cell_type": "code",
   "execution_count": null,
   "metadata": {
    "id": "uwo5b9KTmEBj"
   },
   "outputs": [],
   "source": [
    "word = 'banana'\n",
    "if word == 'banana':\n",
    "    print('All right, bananas.')"
   ]
  },
  {
   "cell_type": "markdown",
   "metadata": {
    "id": "Aq9_MrY_JRJr"
   },
   "source": [
    "Other comparison operations are useful by keeping words in alphabetical order:"
   ]
  },
  {
   "cell_type": "code",
   "execution_count": null,
   "metadata": {
    "id": "bXQL5CVAmWvA"
   },
   "outputs": [],
   "source": [
    "word = 'pineapple'\n",
    "if word < 'banana':\n",
    "    print('Your word, ' + word + ', comes before banana.')\n",
    "elif word > 'banana':\n",
    "    print('Your word, ' + word + ', comes after banana.')\n",
    "else:\n",
    "    print('All right, bananas.')"
   ]
  }
 ],
 "metadata": {
  "colab": {
   "private_outputs": true,
   "provenance": []
  },
  "kernelspec": {
   "display_name": "Python 3",
   "name": "python3"
  },
  "language_info": {
   "name": "python"
  }
 },
 "nbformat": 4,
 "nbformat_minor": 0
}
