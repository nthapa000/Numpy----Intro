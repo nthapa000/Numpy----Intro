{
 "cells": [
  {
   "cell_type": "markdown",
   "metadata": {
    "id": "7A_JDS0CHMH4"
   },
   "source": [
    "In the above code the variable `n` is initialized with a value of `5`.\n",
    "\n",
    "The while loop is used to repeatedly execute the code block as long as the condition` n > 0` is` true`.\n",
    "\n",
    "For each iteration of the loop, the current value of `n` is printed using the `print()` function.\n",
    "\n",
    "Inside the loop, `n` is decremented by `1` using the expression `n = n - 1`.\n",
    "\n",
    "Once `n` becomes `0`, the condition `n > 0` becomes false, and the loop terminates.\n",
    "\n",
    "After the loop, the code block with the `print('Blastoff!')` statement is executed.\n",
    "\n",
    "Finally, the value of `n` is printed using the `print(n)` statement.\n",
    "\n",
    "When this code is executed, it prints the numbers from `5` to 1 in descending order because of the while loop. After the loop completes, it prints the string `'Blastoff!'` and the final value of `n`, which is `0`."
   ]
  },
  {
   "cell_type": "markdown",
   "metadata": {
    "id": "4UkpmP8tHx3O"
   },
   "source": [
    "### An infinite loop"
   ]
  },
  {
   "cell_type": "code",
   "execution_count": null,
   "metadata": {
    "id": "wLpsTefVHq4P"
   },
   "outputs": [],
   "source": [
    "n = 5\n",
    "while n > 0 :\n",
    "    print('Lather')\n",
    "    print('Rinse')\n",
    "print('Dry off!')"
   ]
  },
  {
   "cell_type": "markdown",
   "metadata": {
    "id": "5abUDazDI89X"
   },
   "source": [
    "In the above code, the variable `n` is initialized with a value of `5`.\n",
    "\n",
    "The `while` loop is used to repeatedly execute the code block as long as the condition `n > 0` is true.\n",
    "\n",
    "For each iteration of the loop, the statements` print('Lather')` and `print('Rinse')` are executed.\n",
    "\n",
    "However, there is no change to the value of `n` within the loop, so the condition `n > 0` remains true indefinitely, resulting in an infinite loop.\n",
    "\n",
    "The statement `print('Dry off!')` is placed outside the loop and will not be executed because the loop never terminates.\n",
    "\n",
    "If you run this code, it will continuously `print \"Lather\" and \"Rinse\"` without ever reaching the \"Dry off!\" statement. You would need to include some logic to modify the value of n within the loop to eventually make the condition n > 0 false and break out of the loop."
   ]
  },
  {
   "cell_type": "markdown",
   "metadata": {
    "id": "e6WMj1cGKkoo"
   },
   "source": [
    "### Another loop\n"
   ]
  },
  {
   "cell_type": "code",
   "execution_count": null,
   "metadata": {
    "id": "Jb0dz4BxID1l"
   },
   "outputs": [],
   "source": [
    "n = 0\n",
    "while n > 0 :\n",
    "    print('Lather')\n",
    "    print('Rinse')\n",
    "print('Dry off!')"
   ]
  },
  {
   "cell_type": "markdown",
   "metadata": {
    "id": "uqnB2lHdq59R"
   },
   "source": [
    "In the above code the variable n is initialized with a value of `0`.\n",
    "\n",
    "The while loop is used to repeatedly execute the code block as long as the condition `n > 0 `is `true`.\n",
    "\n",
    "However, since` n` is already `0`, the condition `n > 0` is initially `false`, and the code block inside the loop is never executed.\n",
    "\n",
    "As a result, the `print('Lather')` and `print('Rinse')` statements are never executed.\n",
    "\n",
    "After the loop, the code block with the `print('Dry off!')` statement is executed immediately.\n",
    "\n",
    "Since the condition `n > 0` is initially false, the loop is not entered at all. Therefore, the output of this code will be: Dry off!"
   ]
  },
  {
   "cell_type": "markdown",
   "metadata": {
    "id": "yVT4IqgnrxRc"
   },
   "source": [
    "### Break statement"
   ]
  },
  {
   "cell_type": "code",
   "execution_count": null,
   "metadata": {
    "id": "0_21dY4bqtee"
   },
   "outputs": [],
   "source": [
    "while True:\n",
    "    line = input('>')\n",
    "    if line == 'done':\n",
    "        break\n",
    "    print(line)\n",
    "print('Done!')"
   ]
  },
  {
   "cell_type": "markdown",
   "metadata": {
    "id": "y_vHoizTsxsI"
   },
   "source": [
    "In the above code, `while` `True` statement creates an infinite loop. The loop will continue indefinitely until a break statement is encountered.\n",
    "\n",
    "Inside the loop, the `input() `function is used to prompt the user for input. The prompt `>` is displayed, and the user can enter a value.\n",
    "\n",
    "The entered value is stored in the variable `line`.\n",
    "\n",
    "The `if` statement checks if the entered value is equal to `'done'`. If it is, the break statement is executed, which terminates the loop and moves the program execution to the next statement outside the loop.\n",
    "\n",
    "If the entered value is not equal to `'done'`, the code block inside the if statement is skipped, and the `print(line)` statement is executed, which prints the entered value.\n",
    "\n",
    "The loop then goes back to the beginning and prompts the user for input again.\n",
    "\n",
    "This process continues until the user enters `'done'`, at which point the break statement is executed, and the loop is terminated.\n",
    "\n",
    "After the loop, the code block with the `print('Done!')` statement is executed, indicating that the loop has finished.\n",
    "\n",
    "This code allows the user to enter multiple lines of input until they type 'done', at which point the program prints the entered lines and displays 'Done!' to indicate the end of the loop."
   ]
  },
  {
   "cell_type": "markdown",
   "metadata": {
    "id": "OFlWDBo8tm06"
   },
   "source": [
    "### Finishing an iteration with continue"
   ]
  },
  {
   "cell_type": "code",
   "execution_count": null,
   "metadata": {
    "id": "a-VU1CP0trm8"
   },
   "outputs": [],
   "source": [
    "while True:\n",
    "    line = input('>')\n",
    "    if line[0] == '#' :\n",
    "        continue\n",
    "    if line == 'done' :\n",
    "        break\n",
    "    print(line)\n",
    "print('Done!')"
   ]
  },
  {
   "cell_type": "markdown",
   "metadata": {
    "id": "DqiVMR8SucZ4"
   },
   "source": [
    "The code uses a `while` True loop to repeatedly prompt the user for input.\n",
    "\n",
    "If the input starts with a `'#'`, the loop skips to the next iteration using `continue`.\n",
    "\n",
    "If the input is `'done'`, the loop breaks and the program exits the loop. Otherwise, the input is printed.\n",
    "\n",
    "The loop continues until the user enters 'done'.\n",
    "\n",
    "After the loop, the program prints 'Done!' to indicate completion."
   ]
  },
  {
   "cell_type": "markdown",
   "metadata": {
    "id": "nZjL1mekvISL"
   },
   "source": [
    "### Definite loops"
   ]
  },
  {
   "cell_type": "code",
   "execution_count": null,
   "metadata": {
    "id": "CokYTARyu85M"
   },
   "outputs": [],
   "source": [
    "list_values = [1, 2, 3, 4, 5]\n",
    "for i in list_values:\n",
    "   print(i)\n",
    "print(\"For loop completed\")"
   ]
  },
  {
   "cell_type": "markdown",
   "metadata": {
    "id": "oSIQGdRSvefw"
   },
   "source": [
    "The above code iterates over a list called `list_values`.\n",
    "In each iteration, it prints the current value. Once all the iterations are complete, it prints a completion message."
   ]
  },
  {
   "cell_type": "markdown",
   "metadata": {
    "id": "IqIdhNB4vptV"
   },
   "source": [
    "### A definite loop with strings"
   ]
  },
  {
   "cell_type": "code",
   "execution_count": null,
   "metadata": {
    "id": "y_g5V_yvvSEP"
   },
   "outputs": [],
   "source": [
    "friends = ['Joseph', 'Glenn', 'Sally']\n",
    "for friend in friends :\n",
    "   print('Happy New Year:',friend)\n",
    "print('Done!')"
   ]
  },
  {
   "cell_type": "markdown",
   "metadata": {
    "id": "sS9S196Nv_I9"
   },
   "source": [
    "The code iterates over a list of `friends`. For each friend, it prints a New Year message. Once all the friends have been processed, it prints \"Done!\"."
   ]
  },
  {
   "cell_type": "markdown",
   "metadata": {
    "id": "YX2t8FvtwNg4"
   },
   "source": [
    "### Finding the largest value\n"
   ]
  },
  {
   "cell_type": "code",
   "execution_count": null,
   "metadata": {
    "id": "nzl83UIivxql"
   },
   "outputs": [],
   "source": [
    "largest_so_far = -1\n",
    "print('Before', largest_so_far)\n",
    "for the_num in [9, 41, 12, 3, 74, 15] :\n",
    "   if the_num > largest_so_far :\n",
    "      largest_so_far = the_num\n",
    "   print(largest_so_far, the_num)\n",
    "\n",
    "print('After', largest_so_far)"
   ]
  },
  {
   "cell_type": "markdown",
   "metadata": {
    "id": "maKTOTCGwh-b"
   },
   "source": [
    "The code finds the largest number in a given list. It initializes the largest number as -1. It iterates over each number in the list. If a number is greater than the current largest number, it updates the largest number. It prints each number and the current largest number as it iterates. Finally, it prints the largest number found."
   ]
  },
  {
   "cell_type": "markdown",
   "metadata": {
    "id": "zA-uo2ajwtIA"
   },
   "source": [
    "### Counting in a loop"
   ]
  },
  {
   "cell_type": "code",
   "execution_count": null,
   "metadata": {
    "id": "mkTPWgwswSs0"
   },
   "outputs": [],
   "source": [
    "zork = 0\n",
    "print('Before', zork)\n",
    "for thing in [9, 41, 12, 3, 74, 15] :\n",
    "    zork = zork + 1\n",
    "    print(zork, thing)\n",
    "print('After', zork)"
   ]
  },
  {
   "cell_type": "markdown",
   "metadata": {
    "id": "Lb9U9qMyw6E4"
   },
   "source": [
    "The code initializes a variable `zork` with a value of 0. It prints the initial value of zork as `\"Before 0\"`.\n",
    "\n",
    "The code then enters a for loop that iterates over each number in the `list [9, 41, 12, 3, 74, 15]`.\n",
    "\n",
    "In each iteration, it increments the zork variable by 1.\n",
    "\n",
    "It then prints the updated value of zork along with the current number from the list.\n",
    "\n",
    "After all the iterations are completed, it prints the final value of zork as \"After\" followed by the total number of iterations."
   ]
  },
  {
   "cell_type": "markdown",
   "metadata": {
    "id": "9CLyguI3xhBs"
   },
   "source": [
    "### Summing in a loop\n"
   ]
  },
  {
   "cell_type": "code",
   "execution_count": null,
   "metadata": {
    "id": "hjSVq8h6wyXo"
   },
   "outputs": [],
   "source": [
    "zork = 0\n",
    "print('Before', zork)\n",
    "for thing in [9, 41, 12, 3, 74, 15] :\n",
    "    zork = zork + thing\n",
    "    print(zork, thing)\n",
    "print('After', zork)"
   ]
  },
  {
   "cell_type": "markdown",
   "metadata": {
    "id": "YT6MPvPpxTqX"
   },
   "source": [
    "The code initializes a variable `zork` with a value of 0.\n",
    "\n",
    "It prints the initial value of zork as `\"Before 0\"`.\n",
    "\n",
    "The code then enters a for loop that iterates over each number in the `list [9, 41, 12, 3, 74, 15]`.\n",
    "\n",
    "In each iteration, it adds the current number from the list to the zork variable.\n",
    "\n",
    "It then prints the updated value of zork along with the current number from the list.\n",
    "\n",
    "After all the iterations are completed, it prints the final value of zork as \"After\" followed by the sum of all the numbers in the list."
   ]
  },
  {
   "cell_type": "markdown",
   "metadata": {
    "id": "YqTb84qcxmfn"
   },
   "source": [
    "### Finding the average in a loop\n"
   ]
  },
  {
   "cell_type": "code",
   "execution_count": null,
   "metadata": {
    "id": "2n6QWfs1xZsI"
   },
   "outputs": [],
   "source": [
    "count = 0\n",
    "sum = 0\n",
    "print('Before', count, sum)\n",
    "for value in [9, 41, 12, 3, 74, 15] :\n",
    "    count = count + 1\n",
    "    sum = sum + value\n",
    "    print(count, sum, value)\n",
    "print('After', count, sum, sum / count)"
   ]
  },
  {
   "cell_type": "markdown",
   "metadata": {
    "id": "x4zMZQKoxxsk"
   },
   "source": [
    "The above code initializes two variables, count and sum, with initial values of 0.\n",
    "\n",
    "It prints the initial values of count and sum as `\"Before 0 0\"`.\n",
    "\n",
    "The code then enters a for loop that iterates over each value in the `list [9, 41, 12, 3, 74, 15]`.\n",
    "\n",
    "In each iteration, it increments the count variable by `1` to keep track of the number of values.\n",
    "\n",
    "It also adds the current value to the sum variable to accumulate the sum of all values.\n",
    "\n",
    "It then prints the updated values of count, sum, and the current value.\n",
    "After all the iterations are completed, it prints the final values of `count, sum, and the average of the values (sum / count)`.\n",
    "\n",
    "The average is calculated by dividing the total sum by the count of values."
   ]
  },
  {
   "cell_type": "markdown",
   "metadata": {
    "id": "_EbJAdYpyIvH"
   },
   "source": [
    "### Filtering in a loop"
   ]
  },
  {
   "cell_type": "code",
   "execution_count": null,
   "metadata": {
    "id": "QPNMw78Vxpri"
   },
   "outputs": [],
   "source": [
    "print('Before')\n",
    "for value in [9, 41, 12, 3, 74, 15] :\n",
    "    if value > 20:\n",
    "      print('Large number',value)\n",
    "print('After')"
   ]
  },
  {
   "cell_type": "markdown",
   "metadata": {
    "id": "luQkNR8xyWsu"
   },
   "source": [
    "The above code prints `\"Before\"` as an initial message.\n",
    "\n",
    "It then enters a for loop that iterates over each value in the `list [9, 41, 12, 3, 74, 15].`\n",
    "\n",
    "In each iteration, it checks if the current value is greater than 20.\n",
    "\n",
    "If the condition is true, it prints `\"Large number\"` followed by the current value.\n",
    "\n",
    "After all the iterations are completed, it prints \"After\" as a final message."
   ]
  },
  {
   "cell_type": "markdown",
   "metadata": {
    "id": "lmvqYVo1ynd7"
   },
   "source": [
    "### Search using a boolean variable"
   ]
  },
  {
   "cell_type": "code",
   "execution_count": null,
   "metadata": {
    "id": "H3-DN8NlyMXa"
   },
   "outputs": [],
   "source": [
    "found = False\n",
    "print('Before', found)\n",
    "for value in [9, 41, 12, 3, 74, 15] :\n",
    "   if value == 3 :\n",
    "       found = True\n",
    "   print(found, value)\n",
    "print('After', found)"
   ]
  },
  {
   "cell_type": "markdown",
   "metadata": {
    "id": "yKJ9Caw8zBID"
   },
   "source": [
    "The code initializes a boolean variable found as `False`.\n",
    "\n",
    "It iterates over a list of values.\n",
    "\n",
    "During each iteration, it checks if the current value is equal to 3.\n",
    "\n",
    "If a value of 3 is found, it updates the found variable to True.\n",
    "\n",
    "It prints the current status of found and the current value in each iteration.\n",
    "\n",
    "After the loop finishes, it prints the final status of found.\n",
    "The output of this code will show whether the value 3 was found i"
   ]
  },
  {
   "cell_type": "markdown",
   "metadata": {
    "id": "8XAr4KsZzKOK"
   },
   "source": [
    "### How to find the smallest value\n"
   ]
  },
  {
   "cell_type": "code",
   "execution_count": null,
   "metadata": {
    "id": "a2xiXUtpyq7A"
   },
   "outputs": [],
   "source": [
    "largest_so_far = -1\n",
    "print('Before', largest_so_far)\n",
    "for the_num in [9, 41, 12, 3, 74, 15] :\n",
    "   if the_num > largest_so_far :\n",
    "      largest_so_far = the_num\n",
    "   print(largest_so_far, the_num)\n",
    "\n",
    "print('After', largest_so_far)"
   ]
  },
  {
   "cell_type": "markdown",
   "metadata": {
    "id": "YW7cFuq1zxNR"
   },
   "source": [
    "The above code initializes a variable largest_so_far with a value of `-1`.\n",
    "\n",
    "It iterates over a `list of numbers`.\n",
    "\n",
    "During each iteration, it compares the current number with the largest number found so far.\n",
    "\n",
    "If a larger number is found, it updates the `largest_so_far` variable.\n",
    "\n",
    "It provides feedback during the iteration by printing the current largest number and the current number.\n",
    "\n",
    "After the loop finishes, it prints the final largest number found."
   ]
  },
  {
   "cell_type": "markdown",
   "metadata": {
    "id": "gM_QjdWP0BDR"
   },
   "source": [
    "### Finding the smallest value"
   ]
  },
  {
   "cell_type": "code",
   "execution_count": null,
   "metadata": {
    "id": "zgZVb4rtzOfb"
   },
   "outputs": [],
   "source": [
    "smallest_so_far = -1\n",
    "print('Before', smallest_so_far)\n",
    "for the_num in [9, 41, 12, 3, 74, 15] :\n",
    "   if the_num < smallest_so_far :\n",
    "      smallest_so_far = the_num\n",
    "   print(smallest_so_far, the_num)\n",
    "\n",
    "print('After', smallest_so_far)"
   ]
  },
  {
   "cell_type": "markdown",
   "metadata": {
    "id": "oeYHurLY0e6E"
   },
   "source": [
    "The above code initializes a variable `smallest_so_far` with a value of `-1`.\n",
    "\n",
    "It prints the initial value of smallest_so_far as `\"Before -1\"`.\n",
    "\n",
    "The code then enters a loop that iterates over a list of numbers.\n",
    "\n",
    "During each iteration, it compares the current number with the smallest number found so far.\n",
    "\n",
    "If a smaller number is found, it updates the `smallest_so_far` variable.\n",
    "\n",
    "It provides feedback during the iteration by printing the current smallest number and the current number.\n",
    "\n",
    "After the loop finishes, it prints the final smallest number found."
   ]
  },
  {
   "cell_type": "code",
   "execution_count": null,
   "metadata": {
    "id": "l1uIASOX0tOD"
   },
   "outputs": [],
   "source": [
    "smallest = None\n",
    "print('Before')\n",
    "for value in [9, 41, 12, 3, 74, 15] :\n",
    "    if smallest is None :\n",
    "        smallest = value\n",
    "    elif value < smallest :\n",
    "        smallest = value\n",
    "    print(smallest, value)\n",
    "print('After', smallest)"
   ]
  },
  {
   "cell_type": "markdown",
   "metadata": {
    "id": "jouHn45r0805"
   },
   "source": [
    "The code initializes a variable smallest with a value of None. It prints `\"Before\"`.\n",
    "\n",
    "The code then iterates over a list of numbers.\n",
    "\n",
    "During each iteration, it checks if smallest is None.\n",
    "\n",
    "If smallest is `None`, it assigns the current number to smallest.\n",
    "\n",
    "If smallest is `not None`, it compares the current number with smallest.\n",
    "\n",
    "If the current number is smaller than smallest, it updates smallest with the current number.\n",
    "\n",
    "It provides feedback by printing the current value of smallest and the current number.\n",
    "\n",
    "After the loop finishes, it prints `\"After\"` followed by the final value of smallest"
   ]
  },
  {
   "cell_type": "markdown",
   "metadata": {
    "id": "rqIuNTsq1KWQ"
   },
   "source": [
    "### The is and is not operators"
   ]
  },
  {
   "cell_type": "code",
   "execution_count": null,
   "metadata": {
    "id": "NNh5J5yg0xmb"
   },
   "outputs": [],
   "source": [
    "a = [5, 8]\n",
    "b = [5, 8]\n",
    "c = a\n",
    "if a is not b:\n",
    "    print('a is not b')\n",
    "else:\n",
    "    print('a is b')\n",
    "if a is not c:\n",
    "    print('a is not c')\n",
    "else:\n",
    "    print('a is c')"
   ]
  },
  {
   "cell_type": "markdown",
   "metadata": {
    "id": "YqbY0yp-1vYN"
   },
   "source": [
    "The code initializes two lists, `a` and` b`, with the same values `[5, 8]`.\n",
    "\n",
    "It assigns the variable `c` to reference the same list as` a`.\n",
    "\n",
    "The code checks if `a` and `b` are the same object using the is operator.\n",
    "\n",
    "If `a` is not the same object as `b`, it prints `\"a is not b\"`.\n",
    "\n",
    "It then checks if` a` and `c` are the same object using the is operator.\n",
    "\n",
    "If `a` is not the same object as `c`, it prints `\"a is not c\"`."
   ]
  },
  {
   "cell_type": "code",
   "execution_count": null,
   "metadata": {
    "id": "tO3346cj2Bix"
   },
   "outputs": [],
   "source": []
  }
 ],
 "metadata": {
  "colab": {
   "private_outputs": true,
   "provenance": []
  },
  "kernelspec": {
   "display_name": "Python 3",
   "name": "python3"
  },
  "language_info": {
   "name": "python"
  }
 },
 "nbformat": 4,
 "nbformat_minor": 0
}
