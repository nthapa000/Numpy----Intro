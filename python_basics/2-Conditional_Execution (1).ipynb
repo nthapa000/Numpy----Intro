{
 "cells": [
  {
   "cell_type": "markdown",
   "metadata": {
    "id": "cUj4nqlegdUZ"
   },
   "source": [
    "**Conditional steps:**\n",
    "These are the conditions in the program which checks at the time of running the program and gives the output if the condition is satisfied.\n"
   ]
  },
  {
   "cell_type": "code",
   "execution_count": null,
   "metadata": {
    "colab": {
     "base_uri": "https://localhost:8080/"
    },
    "executionInfo": {
     "elapsed": 21,
     "status": "ok",
     "timestamp": 1755026381133,
     "user": {
      "displayName": "Nishant Thapa",
      "userId": "15311183378415201513"
     },
     "user_tz": -330
    },
    "id": "2Po3VFy5h5a2",
    "outputId": "773b7bd0-3b09-4a50-cb90-35997152f5ab"
   },
   "outputs": [
    {
     "name": "stdout",
     "output_type": "stream",
     "text": [
      "small number\n",
      "finish\n"
     ]
    }
   ],
   "source": [
    "# conditional steps example\n",
    "x = 5\n",
    "if x<10: #here while running checks the condition if the condition is met its output is given else goes to next condition\n",
    "  print(\"small number\")\n",
    "if x>10:\n",
    "  print(\"big number\")\n",
    "print(\"finish\")"
   ]
  },
  {
   "cell_type": "markdown",
   "metadata": {
    "id": "oDo_eAs_ivvA"
   },
   "source": [
    "**Comparision operators**\n",
    "The operators like <,>, <=,>=,!=,== are comparision operators used to compare the given value to the condition and return output\n",
    "- Boolean expresions gives yes or no (True or False) as result for a question asked which is used to control the program flow.\n",
    "- boolean expression using comparision operator returns true/false or yes/no\n",
    "- this operator does not change the variables\n",
    "- here = means assigning the value, == means comparing the value"
   ]
  },
  {
   "cell_type": "code",
   "execution_count": null,
   "metadata": {
    "colab": {
     "base_uri": "https://localhost:8080/"
    },
    "executionInfo": {
     "elapsed": 97,
     "status": "ok",
     "timestamp": 1755026432829,
     "user": {
      "displayName": "Nishant Thapa",
      "userId": "15311183378415201513"
     },
     "user_tz": -330
    },
    "id": "0awM7P5BiOtb",
    "outputId": "91718d78-646d-42a3-ac9e-c398e4e7d701"
   },
   "outputs": [
    {
     "name": "stdout",
     "output_type": "stream",
     "text": [
      "equal number\n",
      "greater number\n",
      "lesser or equal number\n",
      "less than 6\n",
      "less than or equals 5\n",
      "not equals\n"
     ]
    }
   ],
   "source": [
    "# example of comparision operator\n",
    "x = 5\n",
    "if x == 5:\n",
    "  print(\"equal number\")\n",
    "if x>4:\n",
    "  print(\"greater number\")\n",
    "if x>=5:\n",
    "  print(\"lesser or equal number\")\n",
    "if x<6: print(\"less than 6\")\n",
    "if x <= 5:\n",
    "  print(\"less than or equals 5\")\n",
    "if x!=6:\n",
    "  print(\"not equals\")"
   ]
  },
  {
   "cell_type": "markdown",
   "metadata": {
    "id": "ZVg569H1keej"
   },
   "source": [
    "**One-way-decisions**\n",
    "here if staement is a conditional staement, it determines weather the block of code is performed or not."
   ]
  },
  {
   "cell_type": "code",
   "execution_count": null,
   "metadata": {
    "colab": {
     "base_uri": "https://localhost:8080/"
    },
    "executionInfo": {
     "elapsed": 16,
     "status": "ok",
     "timestamp": 1755026479741,
     "user": {
      "displayName": "Nishant Thapa",
      "userId": "15311183378415201513"
     },
     "user_tz": -330
    },
    "id": "8D2MByOmkYWL",
    "outputId": "565a5cb3-1f41-4deb-8f67-3ed2e8a9e630"
   },
   "outputs": [
    {
     "name": "stdout",
     "output_type": "stream",
     "text": [
      "before 5\n",
      "is 5\n",
      "is still 5\n",
      "third 5\n",
      "after 5\n",
      "before 6\n",
      "after 6\n"
     ]
    }
   ],
   "source": [
    "x = 5\n",
    "print(\"before 5\")\n",
    "if x == 5:\n",
    "  print(\"is 5\")\n",
    "  print(\"is still 5\")\n",
    "  print(\"third 5\") #these are one way decisions only prints the statemnts for the met condition and the last print statement\n",
    "print(\"after 5\")\n",
    "print(\"before 6\")\n",
    "if x == 6:\n",
    "  print(\"is 6\")\n",
    "  print(\"is stll 6\")\n",
    "  print(\"third 6\")\n",
    "print(\"after 6\")"
   ]
  },
  {
   "cell_type": "markdown",
   "metadata": {
    "id": "YTP2i-eRmISR"
   },
   "source": [
    "**Indentation**\n",
    "The space at the start of code is known as indentation\n",
    "- In python, indentation is important as the block of code is represented by indentation.\n",
    "- A block of code can be easily identified, as they start on the same distance to the right\n",
    "- If it has to be more deeply nestled, simply indent another block further to the right\n",
    "- Increase indent: After an if / iterative statements (after : )\n",
    "- Maintain indent: Indicate the scope of the block (which lines are affected by the if/ for)\n",
    "- Reduce indent: Back to the level of the if / iterative statements to indicate the end of the block\n",
    "- Blank lines & Comments: Ignore Indentation - they do not affect indentation"
   ]
  },
  {
   "cell_type": "code",
   "execution_count": null,
   "metadata": {
    "colab": {
     "base_uri": "https://localhost:8080/"
    },
    "executionInfo": {
     "elapsed": 84,
     "status": "ok",
     "timestamp": 1755026539741,
     "user": {
      "displayName": "Nishant Thapa",
      "userId": "15311183378415201513"
     },
     "user_tz": -330
    },
    "id": "MWMiKpA2ly-P",
    "outputId": "ccae9878-5514-46f9-ffac-419f4441d5b5"
   },
   "outputs": [
    {
     "name": "stdout",
     "output_type": "stream",
     "text": [
      "5\n",
      "0\n",
      "1\n",
      "2\n",
      "3\n",
      "4\n",
      "5\n",
      "6\n",
      "7\n",
      "8\n",
      "9\n",
      "all done\n"
     ]
    }
   ],
   "source": [
    "a = 5\n",
    "if a>0:\n",
    "  print(a)\n",
    "for a in range(10):\n",
    "  print(a)\n",
    "print(\"all done\")"
   ]
  },
  {
   "cell_type": "code",
   "execution_count": null,
   "metadata": {
    "colab": {
     "base_uri": "https://localhost:8080/"
    },
    "executionInfo": {
     "elapsed": 12,
     "status": "ok",
     "timestamp": 1755026545377,
     "user": {
      "displayName": "Nishant Thapa",
      "userId": "15311183378415201513"
     },
     "user_tz": -330
    },
    "id": "QsgIva0QnJJM",
    "outputId": "09eb11a8-4289-42d5-e836-03c777ee1b28"
   },
   "outputs": [
    {
     "name": "stdout",
     "output_type": "stream",
     "text": [
      "5\n",
      "0\n",
      "1\n",
      "2\n",
      "3\n",
      "4\n",
      "5\n",
      "6\n",
      "7\n",
      "8\n",
      "9\n",
      "all done\n"
     ]
    }
   ],
   "source": [
    "a = 5\n",
    "if a>0:\n",
    "  print(a)\n",
    "for a in range(10):\n",
    "  print(a)\n",
    "\n",
    "  #i will not print\n",
    "print(\"all done\")"
   ]
  },
  {
   "cell_type": "code",
   "execution_count": null,
   "metadata": {
    "colab": {
     "base_uri": "https://localhost:8080/"
    },
    "executionInfo": {
     "elapsed": 12,
     "status": "ok",
     "timestamp": 1755026631703,
     "user": {
      "displayName": "Nishant Thapa",
      "userId": "15311183378415201513"
     },
     "user_tz": -330
    },
    "id": "06Zo5VHdnPgU",
    "outputId": "ed56abe1-bd30-42ef-d751-26498163a396"
   },
   "outputs": [
    {
     "name": "stdout",
     "output_type": "stream",
     "text": [
      "done with 2\n",
      "0\n",
      "done with i 0\n",
      "1\n",
      "done with i 1\n",
      "2\n",
      "done with i 2\n",
      "3\n",
      "bigger than 2\n",
      "done with i 3\n",
      "4\n",
      "bigger than 2\n",
      "done with i 4\n",
      "all done\n"
     ]
    }
   ],
   "source": [
    "# another example\n",
    "a = 2\n",
    "if a>2:\n",
    "  print(\"bgger than 2\")\n",
    "  print(\"still bigger\")\n",
    "print(\"done with 2\")\n",
    "for i in range(5):\n",
    "  print(i)\n",
    "  if i>2:\n",
    "    print(\"bigger than 2\")\n",
    "  print(\"done with i\",i)\n",
    "print(\"all done\")"
   ]
  },
  {
   "cell_type": "markdown",
   "metadata": {
    "id": "odyyKqwho3Th"
   },
   "source": [
    "**Nested decisions**\n",
    "- these are nested if statements i.e., more if conditions in a program i.e., if statement inside a if statement\n",
    "- these are useful when we need to make a series of decisions\n"
   ]
  },
  {
   "cell_type": "code",
   "execution_count": null,
   "metadata": {
    "colab": {
     "base_uri": "https://localhost:8080/"
    },
    "executionInfo": {
     "elapsed": 11,
     "status": "ok",
     "timestamp": 1755026663921,
     "user": {
      "displayName": "Nishant Thapa",
      "userId": "15311183378415201513"
     },
     "user_tz": -330
    },
    "id": "0WbNv_WooeeE",
    "outputId": "94e33e5d-3892-4aa3-c60e-78a493aeda3c"
   },
   "outputs": [
    {
     "name": "stdout",
     "output_type": "stream",
     "text": [
      "more than 1\n",
      "less than 100\n",
      "all done\n"
     ]
    }
   ],
   "source": [
    "x = 42\n",
    "if x>1:\n",
    "  print(\"more than 1\")\n",
    "  if x < 100:\n",
    "    print(\"less than 100\")\n",
    "print(\"all done\")"
   ]
  },
  {
   "cell_type": "code",
   "execution_count": null,
   "metadata": {
    "colab": {
     "base_uri": "https://localhost:8080/"
    },
    "executionInfo": {
     "elapsed": 26,
     "status": "ok",
     "timestamp": 1755026669925,
     "user": {
      "displayName": "Nishant Thapa",
      "userId": "15311183378415201513"
     },
     "user_tz": -330
    },
    "id": "165MdM_Yp4hn",
    "outputId": "2304fbb1-5da1-4e68-d6df-5602c2056bd3"
   },
   "outputs": [
    {
     "name": "stdout",
     "output_type": "stream",
     "text": [
      "done\n"
     ]
    }
   ],
   "source": [
    "x = 50\n",
    "if x>50: #here the condition doesnot satisfy hence prints done as it does not enter the condition\n",
    "  print(\"greater number\")\n",
    "  if x == 50:\n",
    "    print(\"same number\")\n",
    "print(\"done\")"
   ]
  },
  {
   "cell_type": "markdown",
   "metadata": {
    "id": "8mZDd-O7qYCp"
   },
   "source": [
    "**TWO-WAY-DECISIONS**\n",
    "- This can be done by if..else.. conditions\n",
    "- if the condition is true the if block is executed and if it is false the code in the else block is executed\n",
    "- sometimes we want to perform one thing if it is true, and perform other thing if it is false at that time two-way-decision takes place, we can only choose one thing but not the both"
   ]
  },
  {
   "cell_type": "code",
   "execution_count": null,
   "metadata": {
    "colab": {
     "base_uri": "https://localhost:8080/"
    },
    "executionInfo": {
     "elapsed": 16,
     "status": "ok",
     "timestamp": 1755026711785,
     "user": {
      "displayName": "Nishant Thapa",
      "userId": "15311183378415201513"
     },
     "user_tz": -330
    },
    "id": "Wvmqo9moqGGn",
    "outputId": "478295c2-e332-46c5-870d-42c77a91ce59"
   },
   "outputs": [
    {
     "name": "stdout",
     "output_type": "stream",
     "text": [
      "bigger\n",
      "done\n"
     ]
    }
   ],
   "source": [
    "x = 4\n",
    "if x>2:\n",
    "  print(\"bigger\")\n",
    "else:\n",
    "  print(\"not bigger\")\n",
    "print(\"done\")"
   ]
  },
  {
   "cell_type": "markdown",
   "metadata": {
    "id": "EbbmANK4sFB1"
   },
   "source": [
    "**multi-way decisions:**\n",
    "\n",
    "This occurs when the initial if condition is false but we want to check for other condition we use elif i.e., else if\n",
    "- here if the if condition is satisfied the elif and else part will be skipped and vice versa"
   ]
  },
  {
   "cell_type": "code",
   "execution_count": null,
   "metadata": {
    "colab": {
     "base_uri": "https://localhost:8080/"
    },
    "executionInfo": {
     "elapsed": 5,
     "status": "ok",
     "timestamp": 1755026732767,
     "user": {
      "displayName": "Nishant Thapa",
      "userId": "15311183378415201513"
     },
     "user_tz": -330
    },
    "id": "POdfWYFKrsTO",
    "outputId": "7216ce68-c8db-4cbe-fdbc-c63c939055ee"
   },
   "outputs": [
    {
     "name": "stdout",
     "output_type": "stream",
     "text": [
      "small\n",
      "all done\n"
     ]
    }
   ],
   "source": [
    "# example\n",
    "x = 0\n",
    "if x<2:\n",
    "  print(\"small\")\n",
    "elif x<10:\n",
    "  print(\"medium\")\n",
    "else:\n",
    "  print(\"large\")\n",
    "print(\"all done\")"
   ]
  },
  {
   "cell_type": "code",
   "execution_count": null,
   "metadata": {
    "colab": {
     "base_uri": "https://localhost:8080/"
    },
    "executionInfo": {
     "elapsed": 9,
     "status": "ok",
     "timestamp": 1755026734921,
     "user": {
      "displayName": "Nishant Thapa",
      "userId": "15311183378415201513"
     },
     "user_tz": -330
    },
    "id": "jCvIDOokt5lw",
    "outputId": "6a0a5691-8222-4b1b-fe3d-7495982b362f"
   },
   "outputs": [
    {
     "name": "stdout",
     "output_type": "stream",
     "text": [
      "medium\n",
      "done\n"
     ]
    }
   ],
   "source": [
    "# without else\n",
    "# example\n",
    "x = 5\n",
    "if x<2:\n",
    "  print(\"small\")\n",
    "elif x<10:\n",
    "  print(\"medium\")\n",
    "\n",
    "print(\"done\")"
   ]
  },
  {
   "cell_type": "code",
   "execution_count": null,
   "metadata": {
    "colab": {
     "base_uri": "https://localhost:8080/"
    },
    "executionInfo": {
     "elapsed": 11,
     "status": "ok",
     "timestamp": 1755026745880,
     "user": {
      "displayName": "Nishant Thapa",
      "userId": "15311183378415201513"
     },
     "user_tz": -330
    },
    "id": "iu_HLdgGkC0R",
    "outputId": "d271b610-e37b-4dc6-afad-dd909638ac27"
   },
   "outputs": [
    {
     "name": "stdout",
     "output_type": "stream",
     "text": [
      "medium\n"
     ]
    }
   ],
   "source": [
    "# example\n",
    "x = 5\n",
    "if x<2:\n",
    "  print(\"small\")\n",
    "elif x<10:\n",
    "  print(\"medium\")\n",
    "elif x<20:\n",
    "  print(\"big\")\n",
    "elif x<40:\n",
    "  print(\"large\")\n",
    "elif x<100:\n",
    "  print(\"huge\")\n",
    "else:\n",
    "  print(\"ginormous\")"
   ]
  },
  {
   "cell_type": "code",
   "execution_count": null,
   "metadata": {
    "colab": {
     "base_uri": "https://localhost:8080/"
    },
    "executionInfo": {
     "elapsed": 5,
     "status": "ok",
     "timestamp": 1755026754482,
     "user": {
      "displayName": "Nishant Thapa",
      "userId": "15311183378415201513"
     },
     "user_tz": -330
    },
    "id": "4_BMelTOuUdz",
    "outputId": "5dfb8dcf-9b62-4216-9517-9963ed4130fd"
   },
   "outputs": [
    {
     "name": "stdout",
     "output_type": "stream",
     "text": [
      "equal or greater\n"
     ]
    }
   ],
   "source": [
    "#multi way puzzels which will never print regardless of the value\n",
    "if x<2:\n",
    "  print(\"below 2\")\n",
    "elif x >= 2:\n",
    "  print(\"equal or greater\")\n",
    "else:\n",
    "  print(\"other\")"
   ]
  },
  {
   "cell_type": "markdown",
   "metadata": {
    "id": "l9zidz_PvvCt"
   },
   "source": [
    "**Try and except structures**\n",
    "These can handle exception i.e., the errors that happens during the execution of the program\n",
    "- TRY: if an execution is raised it jumps directly to the xception phase\n",
    "- Exception: this is raised if only there occurs error in try block\n",
    "i.e.,\n",
    "- if the code i try block works except block is skipped\n",
    "- if the code in try shows error except block appears"
   ]
  },
  {
   "cell_type": "code",
   "execution_count": null,
   "metadata": {
    "colab": {
     "base_uri": "https://localhost:8080/",
     "height": 193
    },
    "executionInfo": {
     "elapsed": 28,
     "status": "error",
     "timestamp": 1755027125092,
     "user": {
      "displayName": "Nishant Thapa",
      "userId": "15311183378415201513"
     },
     "user_tz": -330
    },
    "id": "Q5Qn3GpnvWZ_",
    "outputId": "8c509e07-6f39-4045-d173-a4d2fedfa806"
   },
   "outputs": [
    {
     "ename": "ValueError",
     "evalue": "invalid literal for int() with base 10: 'hello bob'",
     "output_type": "error",
     "traceback": [
      "\u001b[0;31m---------------------------------------------------------------------------\u001b[0m",
      "\u001b[0;31mValueError\u001b[0m                                Traceback (most recent call last)",
      "\u001b[0;32m/tmp/ipython-input-3177978249.py\u001b[0m in \u001b[0;36m<cell line: 0>\u001b[0;34m()\u001b[0m\n\u001b[1;32m      1\u001b[0m \u001b[0;31m# example 1\u001b[0m\u001b[0;34m\u001b[0m\u001b[0;34m\u001b[0m\u001b[0m\n\u001b[1;32m      2\u001b[0m \u001b[0mastr\u001b[0m \u001b[0;34m=\u001b[0m \u001b[0;34m\"hello bob\"\u001b[0m\u001b[0;34m\u001b[0m\u001b[0;34m\u001b[0m\u001b[0m\n\u001b[0;32m----> 3\u001b[0;31m \u001b[0mistr\u001b[0m \u001b[0;34m=\u001b[0m \u001b[0mint\u001b[0m\u001b[0;34m(\u001b[0m\u001b[0mastr\u001b[0m\u001b[0;34m)\u001b[0m\u001b[0;34m\u001b[0m\u001b[0;34m\u001b[0m\u001b[0m\n\u001b[0m\u001b[1;32m      4\u001b[0m \u001b[0mprint\u001b[0m\u001b[0;34m(\u001b[0m\u001b[0;34m\"first\"\u001b[0m\u001b[0;34m,\u001b[0m\u001b[0mistr\u001b[0m\u001b[0;34m)\u001b[0m \u001b[0;31m# it shows error as str cannot be converted to int if there are characters in it\u001b[0m\u001b[0;34m\u001b[0m\u001b[0;34m\u001b[0m\u001b[0m\n",
      "\u001b[0;31mValueError\u001b[0m: invalid literal for int() with base 10: 'hello bob'"
     ]
    }
   ],
   "source": [
    "# example 1\n",
    "astr = \"hello bob\"\n",
    "istr = int(astr)\n",
    "print(\"first\",istr) # it shows error as str cannot be converted to int if there are characters in it"
   ]
  },
  {
   "cell_type": "code",
   "execution_count": null,
   "metadata": {
    "colab": {
     "base_uri": "https://localhost:8080/"
    },
    "executionInfo": {
     "elapsed": 41,
     "status": "ok",
     "timestamp": 1755027136683,
     "user": {
      "displayName": "Nishant Thapa",
      "userId": "15311183378415201513"
     },
     "user_tz": -330
    },
    "id": "yMLyCNaow8Dy",
    "outputId": "fdffdb65-7bd0-4355-e6ca-a3380a0278b0"
   },
   "outputs": [
    {
     "name": "stdout",
     "output_type": "stream",
     "text": [
      "first -1\n"
     ]
    }
   ],
   "source": [
    "# example 2\n",
    "astr = \"hello bob\"\n",
    "try:\n",
    "  istr = int(astr)\n",
    "except:\n",
    "  istr = -1\n",
    "print(\"first\", istr)"
   ]
  },
  {
   "cell_type": "code",
   "execution_count": null,
   "metadata": {
    "colab": {
     "base_uri": "https://localhost:8080/"
    },
    "executionInfo": {
     "elapsed": 16,
     "status": "ok",
     "timestamp": 1755027159385,
     "user": {
      "displayName": "Nishant Thapa",
      "userId": "15311183378415201513"
     },
     "user_tz": -330
    },
    "id": "E0IzhJedxdZB",
    "outputId": "b91f5867-7175-4066-882a-104943adf9be"
   },
   "outputs": [
    {
     "name": "stdout",
     "output_type": "stream",
     "text": [
      "second 123\n"
     ]
    }
   ],
   "source": [
    "#example 3\n",
    "astr = \"123\"\n",
    "try:\n",
    "  istr = int(astr)\n",
    "except:\n",
    "  istr = -1 # as it can conver the number string to int it does not go to except block and is skipped\n",
    "print(\"second\",istr)"
   ]
  },
  {
   "cell_type": "code",
   "execution_count": null,
   "metadata": {
    "colab": {
     "base_uri": "https://localhost:8080/"
    },
    "executionInfo": {
     "elapsed": 12,
     "status": "ok",
     "timestamp": 1755027172077,
     "user": {
      "displayName": "Nishant Thapa",
      "userId": "15311183378415201513"
     },
     "user_tz": -330
    },
    "id": "EG-PdaphlElw",
    "outputId": "67f63fe3-81c8-4b11-a2dc-70feb016efd4"
   },
   "outputs": [
    {
     "name": "stdout",
     "output_type": "stream",
     "text": [
      "hello\n",
      "done -1\n"
     ]
    }
   ],
   "source": [
    "astr = 'bob'\n",
    "try:\n",
    "  print(\"hello\")\n",
    "  istr = int(astr)\n",
    "  print(\"there\")\n",
    "except:\n",
    "  istr = -1\n",
    "print(\"done\",istr)"
   ]
  },
  {
   "cell_type": "markdown",
   "metadata": {
    "id": "xR8BkkIRxedw"
   },
   "source": [
    "Must note this example useful"
   ]
  },
  {
   "cell_type": "code",
   "execution_count": null,
   "metadata": {
    "colab": {
     "base_uri": "https://localhost:8080/"
    },
    "executionInfo": {
     "elapsed": 6045,
     "status": "ok",
     "timestamp": 1755027226750,
     "user": {
      "displayName": "Nishant Thapa",
      "userId": "15311183378415201513"
     },
     "user_tz": -330
    },
    "id": "krXHnXtixvof",
    "outputId": "ed4d5d23-5a59-489b-8331-f1d865aa7d68"
   },
   "outputs": [
    {
     "name": "stdout",
     "output_type": "stream",
     "text": [
      "Enter a number hungry\n",
      "not a number\n"
     ]
    }
   ],
   "source": [
    "# example 4\n",
    "# try & catch methods\n",
    "\n",
    "\n",
    "rawstr = input('Enter a number ')\n",
    "try:\n",
    "    ival = int(rawstr)\n",
    "except:\n",
    "    ival = -1\n",
    "if ival >0:\n",
    "  print(\"nice work\")\n",
    "else:\n",
    "  print(\"not a number\")"
   ]
  },
  {
   "cell_type": "code",
   "execution_count": null,
   "metadata": {
    "id": "NuLC5zWAyMUE"
   },
   "outputs": [],
   "source": []
  }
 ],
 "metadata": {
  "colab": {
   "provenance": []
  },
  "kernelspec": {
   "display_name": "Python 3",
   "name": "python3"
  },
  "language_info": {
   "name": "python"
  }
 },
 "nbformat": 4,
 "nbformat_minor": 0
}
